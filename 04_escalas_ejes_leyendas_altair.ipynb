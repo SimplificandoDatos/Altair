{
 "cells": [
  {
   "cell_type": "markdown",
   "metadata": {
    "colab_type": "text",
    "id": "s-_LXMfxPYNn"
   },
   "outputs": [],
   "source": [
    "# Escalas, ejes y leyendas\n",
    "\n",
    "La codificación visual &ndash; llevar los datos a variables visuales como la posición, el tamaño o el color &ndash; es el corazón de la visualización de datos. El caballo de batalla encargado de realizar este tarea es la *escala (scale)*: una función que toma un valor de los datos como entrada (la escala *dominio (domain)*) y devuelve un valor visual &ndash; posición de un píxel o color RGB &ndash; como salida (la escala *rango (range)*).  ¡Por supuesto, una visualización es inútil si nadie entiende lo que transmite! Además de los marcadores, un gráfico necesita elementos de referencia, o *guías (guides)*, que permitan a los lectores decodificar el gráfico. Guías como *ejes (axes)*, que visualizan escalas con rangos espaciales, y *leyendas (legends)*, que visualizan escalas con rangos de color, tamaño o forma; son las heroínas no reconocidas de la visualización de datos efectiva.\n",
    "\n",
    "En este *notebook*, exploraremos las opciones que Altair ofrece para apoyar diseños personalizados por medio de la escala, los ejes y las leyendas, utilizando un ejemplo sobre la efectividad de los antibióticos.\n",
    "\n",
    "_Este notebook es una traduccion y modificación del notebook **\"Introduction to Vega-Lite / Altair\"** , el cual es parte de [data visualization curriculum](https://github.com/uwdata/visualization-curriculum)._\n",
    "\n",
    "_Todos los notebooks en español se encuentran en: [Altair en Simplificando Datos](https://github.com/SimplificandoDatos/Altair)_"
   ]
  },
  {
   "cell_type": "code",
   "execution_count": 1,
   "metadata": {},
   "outputs": [],
   "source": [
    "import pandas as pd\n",
    "import altair as alt"
   ]
  },
  {
   "cell_type": "markdown",
   "metadata": {
    "colab_type": "text",
    "id": "2bgy9xz4J2vb"
   },
   "outputs": [],
   "source": [
    "## Datos de antibióticos"
   ]
  },
  {
   "cell_type": "markdown",
   "metadata": {
    "colab_type": "text",
    "id": "cXYJkW_p6zGN"
   },
   "outputs": [],
   "source": [
    "Después de la Segunda Guerra Mundial, los antibióticos se consideraron \"medicamentos milagrosos\", ya que eran un remedio fácil para lo que habían sido dolencias intratables. Para saber qué medicamento funcionó de manera más efectiva para cuál infección bacteriana, se recopiló su rendimiento en 16 bacterias de los tres antibióticos más populares."
   ]
  },
  {
   "cell_type": "markdown",
   "metadata": {
    "colab_type": "text",
    "id": "YRXEnlzG8Cpt"
   },
   "outputs": [],
   "source": [
    "Usaremos un conjunto de datos de antibióticos de la [colección vega-datasets](https://github.com/vega/vega-datasets). En los siguientes ejemplos, pasaremos la URL directamente a Altair:"
   ]
  },
  {
   "cell_type": "code",
   "execution_count": 2,
   "metadata": {},
   "outputs": [],
   "source": [
    "from vega_datasets import data\n",
    "antibiotics = data.burtin.url"
   ]
  },
  {
   "cell_type": "markdown",
   "metadata": {
    "colab_type": "text",
    "id": "MGHC8Fft8L2E"
   },
   "outputs": [],
   "source": [
    "Primero cargaremos los datos con Pandas para ver el conjunto de datos en su totalidad y familiarizarnos con los campos disponibles:"
   ]
  },
  {
   "cell_type": "code",
   "execution_count": 3,
   "metadata": {},
   "outputs": [
    {
     "data": {
      "text/html": "<div>\n<style scoped>\n    .dataframe tbody tr th:only-of-type {\n        vertical-align: middle;\n    }\n\n    .dataframe tbody tr th {\n        vertical-align: top;\n    }\n\n    .dataframe thead th {\n        text-align: right;\n    }\n</style>\n<table border=\"1\" class=\"dataframe\">\n  <thead>\n    <tr style=\"text-align: right;\">\n      <th></th>\n      <th>Bacteria</th>\n      <th>Genus</th>\n      <th>Gram_Staining</th>\n      <th>Neomycin</th>\n      <th>Penicillin</th>\n      <th>Streptomycin</th>\n    </tr>\n  </thead>\n  <tbody>\n    <tr>\n      <th>0</th>\n      <td>Aerobacter aerogenes</td>\n      <td>other</td>\n      <td>negative</td>\n      <td>1.600</td>\n      <td>870.000</td>\n      <td>1.00</td>\n    </tr>\n    <tr>\n      <th>1</th>\n      <td>Bacillus anthracis</td>\n      <td>other</td>\n      <td>positive</td>\n      <td>0.007</td>\n      <td>0.001</td>\n      <td>0.01</td>\n    </tr>\n    <tr>\n      <th>2</th>\n      <td>Brucella abortus</td>\n      <td>other</td>\n      <td>negative</td>\n      <td>0.020</td>\n      <td>1.000</td>\n      <td>2.00</td>\n    </tr>\n    <tr>\n      <th>3</th>\n      <td>Diplococcus pneumoniae</td>\n      <td>other</td>\n      <td>positive</td>\n      <td>10.000</td>\n      <td>0.005</td>\n      <td>11.00</td>\n    </tr>\n    <tr>\n      <th>4</th>\n      <td>Escherichia coli</td>\n      <td>other</td>\n      <td>negative</td>\n      <td>0.100</td>\n      <td>100.000</td>\n      <td>0.40</td>\n    </tr>\n    <tr>\n      <th>5</th>\n      <td>Klebsiella pneumoniae</td>\n      <td>other</td>\n      <td>negative</td>\n      <td>1.000</td>\n      <td>850.000</td>\n      <td>1.20</td>\n    </tr>\n    <tr>\n      <th>6</th>\n      <td>Mycobacterium tuberculosis</td>\n      <td>other</td>\n      <td>negative</td>\n      <td>2.000</td>\n      <td>800.000</td>\n      <td>5.00</td>\n    </tr>\n    <tr>\n      <th>7</th>\n      <td>Proteus vulgaris</td>\n      <td>other</td>\n      <td>negative</td>\n      <td>0.100</td>\n      <td>3.000</td>\n      <td>0.10</td>\n    </tr>\n    <tr>\n      <th>8</th>\n      <td>Pseudomonas aeruginosa</td>\n      <td>other</td>\n      <td>negative</td>\n      <td>0.400</td>\n      <td>850.000</td>\n      <td>2.00</td>\n    </tr>\n    <tr>\n      <th>9</th>\n      <td>Salmonella (Eberthella) typhosa</td>\n      <td>Salmonella</td>\n      <td>negative</td>\n      <td>0.008</td>\n      <td>1.000</td>\n      <td>0.40</td>\n    </tr>\n    <tr>\n      <th>10</th>\n      <td>Salmonella schottmuelleri</td>\n      <td>Salmonella</td>\n      <td>negative</td>\n      <td>0.090</td>\n      <td>10.000</td>\n      <td>0.80</td>\n    </tr>\n    <tr>\n      <th>11</th>\n      <td>Staphylococcus albus</td>\n      <td>Staphylococcus</td>\n      <td>positive</td>\n      <td>0.001</td>\n      <td>0.007</td>\n      <td>0.10</td>\n    </tr>\n    <tr>\n      <th>12</th>\n      <td>Staphylococcus aureus</td>\n      <td>Staphylococcus</td>\n      <td>positive</td>\n      <td>0.001</td>\n      <td>0.030</td>\n      <td>0.03</td>\n    </tr>\n    <tr>\n      <th>13</th>\n      <td>Streptococcus fecalis</td>\n      <td>Streptococcus</td>\n      <td>positive</td>\n      <td>0.100</td>\n      <td>1.000</td>\n      <td>1.00</td>\n    </tr>\n    <tr>\n      <th>14</th>\n      <td>Streptococcus hemolyticus</td>\n      <td>Streptococcus</td>\n      <td>positive</td>\n      <td>10.000</td>\n      <td>0.001</td>\n      <td>14.00</td>\n    </tr>\n    <tr>\n      <th>15</th>\n      <td>Streptococcus viridans</td>\n      <td>Streptococcus</td>\n      <td>positive</td>\n      <td>40.000</td>\n      <td>0.005</td>\n      <td>10.00</td>\n    </tr>\n  </tbody>\n</table>\n</div>",
      "text/plain": "                           Bacteria           Genus Gram_Staining  Neomycin  \\\n0              Aerobacter aerogenes           other      negative     1.600   \n1                Bacillus anthracis           other      positive     0.007   \n2                  Brucella abortus           other      negative     0.020   \n3            Diplococcus pneumoniae           other      positive    10.000   \n4                  Escherichia coli           other      negative     0.100   \n5             Klebsiella pneumoniae           other      negative     1.000   \n6        Mycobacterium tuberculosis           other      negative     2.000   \n7                  Proteus vulgaris           other      negative     0.100   \n8            Pseudomonas aeruginosa           other      negative     0.400   \n9   Salmonella (Eberthella) typhosa      Salmonella      negative     0.008   \n10        Salmonella schottmuelleri      Salmonella      negative     0.090   \n11             Staphylococcus albus  Staphylococcus      positive     0.001   \n12            Staphylococcus aureus  Staphylococcus      positive     0.001   \n13            Streptococcus fecalis   Streptococcus      positive     0.100   \n14        Streptococcus hemolyticus   Streptococcus      positive    10.000   \n15           Streptococcus viridans   Streptococcus      positive    40.000   \n\n    Penicillin  Streptomycin  \n0      870.000          1.00  \n1        0.001          0.01  \n2        1.000          2.00  \n3        0.005         11.00  \n4      100.000          0.40  \n5      850.000          1.20  \n6      800.000          5.00  \n7        3.000          0.10  \n8      850.000          2.00  \n9        1.000          0.40  \n10      10.000          0.80  \n11       0.007          0.10  \n12       0.030          0.03  \n13       1.000          1.00  \n14       0.001         14.00  \n15       0.005         10.00  "
     },
     "execution_count": 3,
     "metadata": {},
     "output_type": "execute_result"
    }
   ],
   "source": [
    "pd.read_json(antibiotics)"
   ]
  },
  {
   "cell_type": "markdown",
   "metadata": {
    "colab_type": "text",
    "id": "els3ZQOv7K_9"
   },
   "outputs": [],
   "source": [
    "Los valores numéricos de la tabla indican la [concentración mínima inhibitoria (MIC)](https://es.wikipedia.org/wiki/Concentraci%C3%B3n_inhibitoria_m%C3%ADnima), una medida de la eficacia del antibiótico, que representa la concentración del antibiótico (en microgramos por mililitro) necesaria para prevenir el crecimiento in vitro. La reacción de la bacteria a un procedimiento llamado [Gram staining o Tinción de Gram](https://es.wikipedia.org/wiki/Tinci%C3%B3n_de_Gram) se describe mediante el campo nominal `Gram_Staining`. La bacteria que se vuelve de color azul oscuro o violeta se marca como positivo; de lo contrario, como negativo.\n",
    "\n",
    "A medida que examinamos las diferentes visualizaciones de este conjunto de datos, pregúntate: ¿Qué podríamos aprender sobre la efectividad relativa de los antibióticos? ¿Qué podríamos aprender sobre las especies bacterianas basándonos en su respuesta a los antibióticos?"
   ]
  },
  {
   "cell_type": "markdown",
   "metadata": {
    "colab_type": "text",
    "id": "9ZNMXWOzKvRa"
   },
   "outputs": [],
   "source": [
    "## Configurando las escalas y los ejes"
   ]
  },
  {
   "cell_type": "markdown",
   "metadata": {
    "colab_type": "text",
    "id": "dawVYXt1WNJz"
   },
   "outputs": [],
   "source": [
    "### Graficando la resistencia a los antibióticos: Ajustando el tipo de la escala\n",
    "\n",
    "Comencemos por mirar un simple gráfico de los puntos del MIC para la Neomicina (*Neomycin*)."
   ]
  },
  {
   "cell_type": "code",
   "execution_count": 4,
   "metadata": {},
   "outputs": [
    {
     "data": {
      "application/vnd.vegalite.v3+json": {
       "$schema": "https://vega.github.io/schema/vega-lite/v3.4.0.json",
       "config": {
        "mark": {
         "tooltip": null
        },
        "view": {
         "height": 300,
         "width": 400
        }
       },
       "data": {
        "url": "https://vega.github.io/vega-datasets/data/burtin.json"
       },
       "encoding": {
        "x": {
         "field": "Neomycin",
         "type": "quantitative"
        }
       },
       "mark": "circle"
      },
      "text/plain": "<VegaLite 3 object>\n\nIf you see this message, it means the renderer has not been properly enabled\nfor the frontend that you are using. For more information, see\nhttps://altair-viz.github.io/user_guide/troubleshooting.html\n"
     },
     "execution_count": 4,
     "metadata": {},
     "output_type": "execute_result"
    }
   ],
   "source": [
    "alt.Chart(antibiotics).mark_circle().encode(\n",
    "    alt.X('Neomycin:Q')\n",
    ")"
   ]
  },
  {
   "cell_type": "markdown",
   "metadata": {
    "colab_type": "text",
    "id": "eTBRtG7CWVVX"
   },
   "outputs": [],
   "source": [
    "_Podemos ver que los valores del MIC se extienden por varios órdenes de magnitud: la mayoría de los puntos se agrupan a la izquierda, con unos pocos valores atípicos grandes a la derecha._\n",
    "\n",
    "Por defecto Altair utiliza un mapeo *lineal* (`linear`) entre los valores del dominio (MIC) y los valores del rango (píxeles). Para obtener una mejor visión general de los datos, podemos aplicar una transformación de escala diferente."
   ]
  },
  {
   "cell_type": "markdown",
   "metadata": {
    "colab_type": "text",
    "id": "-K94jPdi9xUJ"
   },
   "outputs": [],
   "source": [
    "Para cambiar el tipo de escala, cambiaremos el atributo `scale`, usando el método `alt.Scale` y el parámetro `type`.\n",
    "\n",
    "Este es el resultado de usar un tipo de escala de ráíz cuadrada (`sqrt`). Las distancias en rango de píxeles corresponde ahora a la raíz cuadrada de las distancias en el dominio de los datos."
   ]
  },
  {
   "cell_type": "code",
   "execution_count": 5,
   "metadata": {},
   "outputs": [
    {
     "data": {
      "application/vnd.vegalite.v3+json": {
       "$schema": "https://vega.github.io/schema/vega-lite/v3.4.0.json",
       "config": {
        "mark": {
         "tooltip": null
        },
        "view": {
         "height": 300,
         "width": 400
        }
       },
       "data": {
        "url": "https://vega.github.io/vega-datasets/data/burtin.json"
       },
       "encoding": {
        "x": {
         "field": "Neomycin",
         "scale": {
          "type": "sqrt"
         },
         "type": "quantitative"
        }
       },
       "mark": "circle"
      },
      "text/plain": "<VegaLite 3 object>\n\nIf you see this message, it means the renderer has not been properly enabled\nfor the frontend that you are using. For more information, see\nhttps://altair-viz.github.io/user_guide/troubleshooting.html\n"
     },
     "execution_count": 5,
     "metadata": {},
     "output_type": "execute_result"
    }
   ],
   "source": [
    "alt.Chart(antibiotics).mark_circle().encode(\n",
    "    alt.X('Neomycin:Q',\n",
    "          scale=alt.Scale(type='sqrt'))\n",
    ")"
   ]
  },
  {
   "cell_type": "markdown",
   "metadata": {
    "colab_type": "text",
    "id": "qqosAiy5XDKJ"
   },
   "outputs": [],
   "source": [
    "_Los puntos en la izquierda ahora están mejor diferenciados; pero todavía tenemos una fuerte asimetría._\n",
    "\n",
    "Mejor usemos una [escala logarítmica](https://es.wikipedia.org/wiki/Escala_logar%C3%ADtmica) (`log`):"
   ]
  },
  {
   "cell_type": "code",
   "execution_count": 6,
   "metadata": {},
   "outputs": [
    {
     "data": {
      "application/vnd.vegalite.v3+json": {
       "$schema": "https://vega.github.io/schema/vega-lite/v3.4.0.json",
       "config": {
        "mark": {
         "tooltip": null
        },
        "view": {
         "height": 300,
         "width": 400
        }
       },
       "data": {
        "url": "https://vega.github.io/vega-datasets/data/burtin.json"
       },
       "encoding": {
        "x": {
         "field": "Neomycin",
         "scale": {
          "type": "log"
         },
         "type": "quantitative"
        }
       },
       "mark": "circle"
      },
      "text/plain": "<VegaLite 3 object>\n\nIf you see this message, it means the renderer has not been properly enabled\nfor the frontend that you are using. For more information, see\nhttps://altair-viz.github.io/user_guide/troubleshooting.html\n"
     },
     "execution_count": 6,
     "metadata": {},
     "output_type": "execute_result"
    }
   ],
   "source": [
    "alt.Chart(antibiotics).mark_circle().encode(\n",
    "    alt.X('Neomycin:Q',\n",
    "          scale=alt.Scale(type='log'))\n",
    ")"
   ]
  },
  {
   "cell_type": "markdown",
   "metadata": {
    "colab_type": "text",
    "id": "MapiFW7hXMOG"
   },
   "outputs": [],
   "source": [
    "_Ahora los datos están distribuidos de manera mucho más uniforme y podemos ver las grandes diferencias en las concentraciones requeridas para las diferentes bacterias._\n",
    "\n",
    "En una escala lineal estándar, una distancia visual (píxel) de 10 unidades podría corresponder a una *adición* de 10 unidades en el dominio de los datos. Una transformación logarítmica mapea entre la multiplicación y la suma, de tal forma que `log(u) + log(v) = log(u*v)`. Como resultado, en una escala logarítmica, una distancia visual de 10 unidades corresponde a la *multiplicación* por 10 unidades en el dominio de los datos, asumiendo un logaritmo base 10. La escala `log` usada anteriormente, indica por defecto el uso del logaritmo base 10, pero podemos ajustarlo proporcionando el parámetro `base` a la escala."
   ]
  },
  {
   "cell_type": "markdown",
   "metadata": {
    "colab_type": "text",
    "id": "P3u_mJgLeJGt"
   },
   "outputs": [],
   "source": [
    "### Modificando el estilo de un eje\n",
    "\n",
    "Las dosis más bajas indican una mayor eficacia. Sin embargo, algunas personas pueden esperar que los valores que son \"mejores\" estén \"hacia arriba y a la derecha\" dentro de un gráfico. Si queremos atender a esta convención, podemos invertir el eje para codificar la \"eficacia\" como una escala MIC invertida.\n",
    "\n",
    "Para hacer esto, podemos establecer la propiedad `sort` en `'descending'` (descendente):"
   ]
  },
  {
   "cell_type": "code",
   "execution_count": 7,
   "metadata": {},
   "outputs": [
    {
     "data": {
      "application/vnd.vegalite.v3+json": {
       "$schema": "https://vega.github.io/schema/vega-lite/v3.4.0.json",
       "config": {
        "mark": {
         "tooltip": null
        },
        "view": {
         "height": 300,
         "width": 400
        }
       },
       "data": {
        "url": "https://vega.github.io/vega-datasets/data/burtin.json"
       },
       "encoding": {
        "x": {
         "field": "Neomycin",
         "scale": {
          "type": "log"
         },
         "sort": "descending",
         "type": "quantitative"
        }
       },
       "mark": "circle"
      },
      "text/plain": "<VegaLite 3 object>\n\nIf you see this message, it means the renderer has not been properly enabled\nfor the frontend that you are using. For more information, see\nhttps://altair-viz.github.io/user_guide/troubleshooting.html\n"
     },
     "execution_count": 7,
     "metadata": {},
     "output_type": "execute_result"
    }
   ],
   "source": [
    "alt.Chart(antibiotics).mark_circle().encode(\n",
    "    alt.X('Neomycin:Q',\n",
    "          sort='descending',\n",
    "          scale=alt.Scale(type='log'))\n",
    ")"
   ]
  },
  {
   "cell_type": "markdown",
   "metadata": {
    "colab_type": "text",
    "id": "Wp2lmW6SXxcQ"
   },
   "outputs": [],
   "source": [
    "_Desafortunadamente el eje está empezando a ser un poco confuso: estamos trazando datos en una escala logarítmica, en la dirección inversa, y sin una indicación clara de cuáles son nuestras unidades_.\n",
    "\n",
    "Añadamos un título más informativo al eje X: usaremos la propiedad `title` de nuestro codificador para proporcionar el texto adecuado para el título:"
   ]
  },
  {
   "cell_type": "code",
   "execution_count": 8,
   "metadata": {},
   "outputs": [
    {
     "data": {
      "application/vnd.vegalite.v3+json": {
       "$schema": "https://vega.github.io/schema/vega-lite/v3.4.0.json",
       "config": {
        "mark": {
         "tooltip": null
        },
        "view": {
         "height": 300,
         "width": 400
        }
       },
       "data": {
        "url": "https://vega.github.io/vega-datasets/data/burtin.json"
       },
       "encoding": {
        "x": {
         "field": "Neomycin",
         "scale": {
          "type": "log"
         },
         "sort": "descending",
         "title": "Neomicina MIC (μg/ml, escala logarítmica invertida)",
         "type": "quantitative"
        }
       },
       "mark": "circle"
      },
      "text/plain": "<VegaLite 3 object>\n\nIf you see this message, it means the renderer has not been properly enabled\nfor the frontend that you are using. For more information, see\nhttps://altair-viz.github.io/user_guide/troubleshooting.html\n"
     },
     "execution_count": 8,
     "metadata": {},
     "output_type": "execute_result"
    }
   ],
   "source": [
    "alt.Chart(antibiotics).mark_circle().encode(\n",
    "    alt.X('Neomycin:Q',\n",
    "          sort='descending',\n",
    "          scale=alt.Scale(type='log'),\n",
    "          title='Neomicina MIC (μg/ml, escala logarítmica invertida)')\n",
    ")"
   ]
  },
  {
   "cell_type": "markdown",
   "metadata": {
    "colab_type": "text",
    "id": "9tpvPMM3YT2H"
   },
   "outputs": [],
   "source": [
    "¡Mucho mejor!\n",
    "Por defecto, Altair coloca el eje X en el fondo de la gráfica. Para cambiar este comportamiente, podemos añadir un atributo `axis` con `orient='top'`:"
   ]
  },
  {
   "cell_type": "code",
   "execution_count": 9,
   "metadata": {},
   "outputs": [
    {
     "data": {
      "application/vnd.vegalite.v3+json": {
       "$schema": "https://vega.github.io/schema/vega-lite/v3.4.0.json",
       "config": {
        "mark": {
         "tooltip": null
        },
        "view": {
         "height": 300,
         "width": 400
        }
       },
       "data": {
        "url": "https://vega.github.io/vega-datasets/data/burtin.json"
       },
       "encoding": {
        "x": {
         "axis": {
          "orient": "top"
         },
         "field": "Neomycin",
         "scale": {
          "type": "log"
         },
         "sort": "descending",
         "title": "Neomicina MIC (μg/ml, escala logarítmica invertida)",
         "type": "quantitative"
        }
       },
       "mark": "circle"
      },
      "text/plain": "<VegaLite 3 object>\n\nIf you see this message, it means the renderer has not been properly enabled\nfor the frontend that you are using. For more information, see\nhttps://altair-viz.github.io/user_guide/troubleshooting.html\n"
     },
     "execution_count": 9,
     "metadata": {},
     "output_type": "execute_result"
    }
   ],
   "source": [
    "alt.Chart(antibiotics).mark_circle().encode(\n",
    "    alt.X('Neomycin:Q',\n",
    "          sort='descending',\n",
    "          scale=alt.Scale(type='log'),\n",
    "          axis=alt.Axis(orient='top'),\n",
    "          title='Neomicina MIC (μg/ml, escala logarítmica invertida)')\n",
    ")"
   ]
  },
  {
   "cell_type": "markdown",
   "metadata": {
    "colab_type": "text",
    "id": "opQaDD-g-btc"
   },
   "outputs": [],
   "source": [
    "De forma similar, por defecto el eje Y tiene su orientación hacia la izquierda (`'left'`), pero puede ajustarse  a la derecha (`'right'`)."
   ]
  },
  {
   "cell_type": "markdown",
   "metadata": {
    "colab_type": "text",
    "id": "l1WXNzJC9hxi"
   },
   "outputs": [],
   "source": [
    "### Comparación de antibióticos: Ajuste de las líneas de la cuadrícula, recuento de las marcas y dimensionamiento\n",
    "\n",
    "_¿Cómo se compara la neomicina con otros antibióticos, como la estreptomicina y la penicilina?_\n",
    "\n",
    "Para empezar a responder esta pregunta, podemos crear diagramas de dispersión, añadiendo una codificación del eje `y` para otro antibiótico, similar a lo que hemos venido mostrando en el eje `x` para la neomicina."
   ]
  },
  {
   "cell_type": "code",
   "execution_count": 10,
   "metadata": {},
   "outputs": [
    {
     "data": {
      "application/vnd.vegalite.v3+json": {
       "$schema": "https://vega.github.io/schema/vega-lite/v3.4.0.json",
       "config": {
        "mark": {
         "tooltip": null
        },
        "view": {
         "height": 300,
         "width": 400
        }
       },
       "data": {
        "url": "https://vega.github.io/vega-datasets/data/burtin.json"
       },
       "encoding": {
        "x": {
         "field": "Neomycin",
         "scale": {
          "type": "log"
         },
         "sort": "descending",
         "title": "Neomicina MIC (μg/ml, escala logarítmica invertida)",
         "type": "quantitative"
        },
        "y": {
         "field": "Streptomycin",
         "scale": {
          "type": "log"
         },
         "sort": "descending",
         "title": "Estreptomicina MIC (μg/ml, escala logarítmica invertida)",
         "type": "quantitative"
        }
       },
       "mark": "circle"
      },
      "text/plain": "<VegaLite 3 object>\n\nIf you see this message, it means the renderer has not been properly enabled\nfor the frontend that you are using. For more information, see\nhttps://altair-viz.github.io/user_guide/troubleshooting.html\n"
     },
     "execution_count": 10,
     "metadata": {},
     "output_type": "execute_result"
    }
   ],
   "source": [
    "alt.Chart(antibiotics).mark_circle().encode(\n",
    "    alt.X('Neomycin:Q',\n",
    "          sort='descending',\n",
    "          scale=alt.Scale(type='log'),\n",
    "          title='Neomicina MIC (μg/ml, escala logarítmica invertida)'),\n",
    "    alt.Y('Streptomycin:Q',\n",
    "          sort='descending',\n",
    "          scale=alt.Scale(type='log'),\n",
    "          title='Estreptomicina MIC (μg/ml, escala logarítmica invertida)')\n",
    ")"
   ]
  },
  {
   "cell_type": "markdown",
   "metadata": {
    "colab_type": "text",
    "id": "DnfjvOKo_VI2"
   },
   "outputs": [],
   "source": [
    "_Vemos que la neomicina y la estreptomicina parecen estar altamente correlacionadas, ya que las cepas bacterianas responden de manera similar a ambos antibióticos._\n",
    "\n",
    "Sigamos adelante y comparemos la neomicina con la penicilina:"
   ]
  },
  {
   "cell_type": "code",
   "execution_count": 11,
   "metadata": {},
   "outputs": [
    {
     "data": {
      "application/vnd.vegalite.v3+json": {
       "$schema": "https://vega.github.io/schema/vega-lite/v3.4.0.json",
       "config": {
        "mark": {
         "tooltip": null
        },
        "view": {
         "height": 300,
         "width": 400
        }
       },
       "data": {
        "url": "https://vega.github.io/vega-datasets/data/burtin.json"
       },
       "encoding": {
        "x": {
         "field": "Neomycin",
         "scale": {
          "type": "log"
         },
         "sort": "descending",
         "title": "Neomicina MIC (μg/ml, escala logarítmica invertida)",
         "type": "quantitative"
        },
        "y": {
         "field": "Penicillin",
         "scale": {
          "type": "log"
         },
         "sort": "descending",
         "title": "Penicilina MIC (μg/ml, escala logarítmica invertida)",
         "type": "quantitative"
        }
       },
       "mark": "circle"
      },
      "text/plain": "<VegaLite 3 object>\n\nIf you see this message, it means the renderer has not been properly enabled\nfor the frontend that you are using. For more information, see\nhttps://altair-viz.github.io/user_guide/troubleshooting.html\n"
     },
     "execution_count": 11,
     "metadata": {},
     "output_type": "execute_result"
    }
   ],
   "source": [
    "alt.Chart(antibiotics).mark_circle().encode(\n",
    "    alt.X('Neomycin:Q',\n",
    "          sort='descending',\n",
    "          scale=alt.Scale(type='log'),\n",
    "          title='Neomicina MIC (μg/ml, escala logarítmica invertida)'),\n",
    "    alt.Y('Penicillin:Q',\n",
    "          sort='descending',\n",
    "          scale=alt.Scale(type='log'),\n",
    "          title='Penicilina MIC (μg/ml, escala logarítmica invertida)')\n",
    ")"
   ]
  },
  {
   "cell_type": "markdown",
   "metadata": {
    "colab_type": "text",
    "id": "fSdm-7VjYjij"
   },
   "outputs": [],
   "source": [
    "_Ahora vemos una respuesta más diferenciada: algunas bacterias responden bien a la neomicina pero no a la penicilina, y viceversa._\n",
    "\n",
    "Aunque esta gráfica es útil, podemos mejorarla. Los ejes `x` y `y` utilizan las mismas unidades, pero tienen diferentes tamaños (el ancho del gráfico es mayor que su altura) y diferentes dominios (0.001 a 100 para el eje `x`, y 0.001 a 1,000 para el eje `y`).\n",
    "\n",
    "Vamos a equiparar los ejes: podemos añadir ajustes explícitos de `width` (*ancho*) y `height` (*altura*) para el gráfico, y especificar dominios coincidentes usando la propiedad `domain` de la escala."
   ]
  },
  {
   "cell_type": "code",
   "execution_count": 12,
   "metadata": {},
   "outputs": [
    {
     "data": {
      "application/vnd.vegalite.v3+json": {
       "$schema": "https://vega.github.io/schema/vega-lite/v3.4.0.json",
       "config": {
        "mark": {
         "tooltip": null
        },
        "view": {
         "height": 300,
         "width": 400
        }
       },
       "data": {
        "url": "https://vega.github.io/vega-datasets/data/burtin.json"
       },
       "encoding": {
        "x": {
         "field": "Neomycin",
         "scale": {
          "domain": [
           0.001,
           1000
          ],
          "type": "log"
         },
         "sort": "descending",
         "title": "Neomicina MIC (μg/ml, escala logarítmica invertida)",
         "type": "quantitative"
        },
        "y": {
         "field": "Penicillin",
         "scale": {
          "domain": [
           0.001,
           1000
          ],
          "type": "log"
         },
         "sort": "descending",
         "title": "Penicilina MIC (μg/ml, escala logarítmica invertida)",
         "type": "quantitative"
        }
       },
       "height": 290,
       "mark": "circle",
       "width": 290
      },
      "text/plain": "<VegaLite 3 object>\n\nIf you see this message, it means the renderer has not been properly enabled\nfor the frontend that you are using. For more information, see\nhttps://altair-viz.github.io/user_guide/troubleshooting.html\n"
     },
     "execution_count": 12,
     "metadata": {},
     "output_type": "execute_result"
    }
   ],
   "source": [
    "alt.Chart(antibiotics).mark_circle().encode(\n",
    "    alt.X('Neomycin:Q',\n",
    "          sort='descending',\n",
    "          scale=alt.Scale(type='log', domain=[0.001, 1000]),\n",
    "          title='Neomicina MIC (μg/ml, escala logarítmica invertida)'),\n",
    "    alt.Y('Penicillin:Q',\n",
    "          sort='descending',\n",
    "          scale=alt.Scale(type='log', domain=[0.001, 1000]),\n",
    "          title='Penicilina MIC (μg/ml, escala logarítmica invertida)')\n",
    ").properties(width=290, height=290)"
   ]
  },
  {
   "cell_type": "markdown",
   "metadata": {
    "colab_type": "text",
    "id": "oknzZZ-lZYaH"
   },
   "outputs": [],
   "source": [
    "_¡La gráfica resultante es más equilibrada y menos propensa a interpretaciones erróneas!_\n",
    "\n",
    "Sin embargo, las líneas de la cuadrícula ahora son muy densas. Si queremos eliminar todas las líneas de la cuadrícula, podemos añadir `grid=False` al atributo `axis`. Pero, ¿Qué pasa si en su lugar queremos reducir el número de marcas, por ejemplo, incluyendo sólo líneas de cuadrícula para cada orden de magnitud?\n",
    "\n",
    "Para cambiar el número de marcas en un eje (*ticks*), podemos especificar la propiedad objetivo `tickCount` para el objeto `Axis`. El `tickCount` es tratado como una *sugerencia* a Altair, para ser considerado junto con otros aspectos como el uso de intervalos agradables y amigables para el ser humano. Puede que no consigamos *exactamente* el número de marcas que solicitamos, pero deberíamos conseguir algo parecido."
   ]
  },
  {
   "cell_type": "code",
   "execution_count": 13,
   "metadata": {},
   "outputs": [
    {
     "data": {
      "application/vnd.vegalite.v3+json": {
       "$schema": "https://vega.github.io/schema/vega-lite/v3.4.0.json",
       "config": {
        "mark": {
         "tooltip": null
        },
        "view": {
         "height": 300,
         "width": 400
        }
       },
       "data": {
        "url": "https://vega.github.io/vega-datasets/data/burtin.json"
       },
       "encoding": {
        "x": {
         "axis": {
          "tickCount": 5
         },
         "field": "Neomycin",
         "scale": {
          "domain": [
           0.001,
           1000
          ],
          "type": "log"
         },
         "sort": "descending",
         "title": "Neomicina MIC (μg/ml, escala logarítmica invertida)",
         "type": "quantitative"
        },
        "y": {
         "axis": {
          "tickCount": 5
         },
         "field": "Penicillin",
         "scale": {
          "domain": [
           0.001,
           1000
          ],
          "type": "log"
         },
         "sort": "descending",
         "title": "Penicilina MIC (μg/ml, escala logarítmica invertida)",
         "type": "quantitative"
        }
       },
       "height": 290,
       "mark": "circle",
       "width": 290
      },
      "text/plain": "<VegaLite 3 object>\n\nIf you see this message, it means the renderer has not been properly enabled\nfor the frontend that you are using. For more information, see\nhttps://altair-viz.github.io/user_guide/troubleshooting.html\n"
     },
     "execution_count": 13,
     "metadata": {},
     "output_type": "execute_result"
    }
   ],
   "source": [
    "alt.Chart(antibiotics).mark_circle().encode(\n",
    "    alt.X('Neomycin:Q',\n",
    "          sort='descending',\n",
    "          scale=alt.Scale(type='log', domain=[0.001, 1000]),\n",
    "          axis=alt.Axis(tickCount=5),\n",
    "          title='Neomicina MIC (μg/ml, escala logarítmica invertida)'),\n",
    "    alt.Y('Penicillin:Q',\n",
    "          sort='descending',\n",
    "          scale=alt.Scale(type='log', domain=[0.001, 1000]),\n",
    "          axis=alt.Axis(tickCount=5),\n",
    "          title='Penicilina MIC (μg/ml, escala logarítmica invertida)')\n",
    ").properties(width=290, height=290)"
   ]
  },
  {
   "cell_type": "markdown",
   "metadata": {
    "colab_type": "text",
    "id": "upaCzdH7aIvu"
   },
   "outputs": [],
   "source": [
    "Modificando el `tickCount` a 5, obtenemos el efecto deseado.\n",
    "\n",
    "Nuestros puntos de la gráfica de dispersión se sienten un poco pequeños. Cambiemos el tamaño por defecto estableciendo la propiedad `size` de la marca del círculo. Este valor de tamaño es el *área* de los marcadores en términos de píxeles."
   ]
  },
  {
   "cell_type": "code",
   "execution_count": 14,
   "metadata": {},
   "outputs": [
    {
     "data": {
      "application/vnd.vegalite.v3+json": {
       "$schema": "https://vega.github.io/schema/vega-lite/v3.4.0.json",
       "config": {
        "mark": {
         "tooltip": null
        },
        "view": {
         "height": 300,
         "width": 400
        }
       },
       "data": {
        "url": "https://vega.github.io/vega-datasets/data/burtin.json"
       },
       "encoding": {
        "x": {
         "axis": {
          "tickCount": 5
         },
         "field": "Neomycin",
         "scale": {
          "domain": [
           0.001,
           1000
          ],
          "type": "log"
         },
         "sort": "descending",
         "title": "Neomicina MIC (μg/ml, escala logarítmica invertida)",
         "type": "quantitative"
        },
        "y": {
         "axis": {
          "tickCount": 5
         },
         "field": "Penicillin",
         "scale": {
          "domain": [
           0.001,
           1000
          ],
          "type": "log"
         },
         "sort": "descending",
         "title": "Penicilina MIC (μg/ml, escala logarítmica invertida)",
         "type": "quantitative"
        }
       },
       "height": 290,
       "mark": {
        "size": 80,
        "type": "circle"
       },
       "width": 290
      },
      "text/plain": "<VegaLite 3 object>\n\nIf you see this message, it means the renderer has not been properly enabled\nfor the frontend that you are using. For more information, see\nhttps://altair-viz.github.io/user_guide/troubleshooting.html\n"
     },
     "execution_count": 14,
     "metadata": {},
     "output_type": "execute_result"
    }
   ],
   "source": [
    "alt.Chart(antibiotics).mark_circle(size=80).encode(\n",
    "    alt.X('Neomycin:Q',\n",
    "          sort='descending',\n",
    "          scale=alt.Scale(type='log', domain=[0.001, 1000]),\n",
    "          axis=alt.Axis(tickCount=5),\n",
    "          title='Neomicina MIC (μg/ml, escala logarítmica invertida)'),\n",
    "    alt.Y('Penicillin:Q',\n",
    "          sort='descending',\n",
    "          scale=alt.Scale(type='log', domain=[0.001, 1000]),\n",
    "          axis=alt.Axis(tickCount=5),\n",
    "          title='Penicilina MIC (μg/ml, escala logarítmica invertida)'), \n",
    ").properties(width=290, height=290)"
   ]
  },
  {
   "cell_type": "markdown",
   "metadata": {
    "colab_type": "text",
    "id": "I-0rEs3lapPh"
   },
   "outputs": [],
   "source": [
    "Aquí hemos establecido el área de los marcadores de círculo en 80 píxeles. \n",
    "\n",
    "_¡Ajusta el valor como mejor te parezca!_"
   ]
  },
  {
   "cell_type": "markdown",
   "metadata": {
    "colab_type": "text",
    "id": "AJ8dwejXO9cc"
   },
   "outputs": [],
   "source": [
    "## Configurando el color de las leyendas"
   ]
  },
  {
   "cell_type": "markdown",
   "metadata": {
    "colab_type": "text",
    "id": "obwIbbZa_KNd"
   },
   "outputs": [],
   "source": [
    "### Color por el *Gram Staining*\n",
    "\n",
    "Antes vimos que la neomicina es más efectiva para algunas bacterias, mientras que la penicilina es más efectiva para otras. Pero, ¿cómo podemos saber qué antibiótico usar si no conocemos las especies específicas de bacterias? La Gram staining (tinción de Gram) sirve como diagnóstico para discriminar clases de bacterias.\n",
    "\n",
    "Codifiquemos `Gram_Staining` en el canal `color` como un tipo de dato nominal:"
   ]
  },
  {
   "cell_type": "code",
   "execution_count": 15,
   "metadata": {},
   "outputs": [
    {
     "data": {
      "application/vnd.vegalite.v3+json": {
       "$schema": "https://vega.github.io/schema/vega-lite/v3.4.0.json",
       "config": {
        "mark": {
         "tooltip": null
        },
        "view": {
         "height": 300,
         "width": 400
        }
       },
       "data": {
        "url": "https://vega.github.io/vega-datasets/data/burtin.json"
       },
       "encoding": {
        "color": {
         "field": "Gram_Staining",
         "type": "nominal"
        },
        "x": {
         "axis": {
          "tickCount": 5
         },
         "field": "Neomycin",
         "scale": {
          "domain": [
           0.001,
           1000
          ],
          "type": "log"
         },
         "sort": "descending",
         "title": "Neomicina MIC (μg/ml, escala logarítmica invertida)",
         "type": "quantitative"
        },
        "y": {
         "axis": {
          "tickCount": 5
         },
         "field": "Penicillin",
         "scale": {
          "domain": [
           0.001,
           1000
          ],
          "type": "log"
         },
         "sort": "descending",
         "title": "Penicilina MIC (μg/ml, escala logarítmica invertida)",
         "type": "quantitative"
        }
       },
       "height": 290,
       "mark": {
        "size": 80,
        "type": "circle"
       },
       "width": 290
      },
      "text/plain": "<VegaLite 3 object>\n\nIf you see this message, it means the renderer has not been properly enabled\nfor the frontend that you are using. For more information, see\nhttps://altair-viz.github.io/user_guide/troubleshooting.html\n"
     },
     "execution_count": 15,
     "metadata": {},
     "output_type": "execute_result"
    }
   ],
   "source": [
    "alt.Chart(antibiotics).mark_circle(size=80).encode(\n",
    "    alt.X('Neomycin:Q',\n",
    "          sort='descending',\n",
    "          scale=alt.Scale(type='log', domain=[0.001, 1000]),\n",
    "          axis=alt.Axis(tickCount=5),\n",
    "          title='Neomicina MIC (μg/ml, escala logarítmica invertida)'),\n",
    "    alt.Y('Penicillin:Q',\n",
    "          sort='descending',\n",
    "          scale=alt.Scale(type='log', domain=[0.001, 1000]),\n",
    "          axis=alt.Axis(tickCount=5),\n",
    "          title='Penicilina MIC (μg/ml, escala logarítmica invertida)'),\n",
    "    alt.Color('Gram_Staining:N')\n",
    ").properties(width=290, height=290)"
   ]
  },
  {
   "cell_type": "markdown",
   "metadata": {
    "colab_type": "text",
    "id": "a1Ec7fCUBQJn"
   },
   "outputs": [],
   "source": [
    "_¡Vemos que las bacterias Gram-positivas son las más susceptibles a la penicilina, mientras que la neomicina es más efectiva para las bacterias Gram-negativas!_\n",
    "\n",
    "El esquema de colores anterior fue elegido automáticamente para proporcionar colores perceptiblemente distinguibles para comparaciones nominales (iguales o no iguales). Sin embargo, es posible que deseemos personalizar los colores utilizados. En este caso, la tinción de Gram resulta en [colorantes físicos distintivos: rosa para Gram-negativo, púrpura para Gram-positivo](https://es.wikipedia.org/wiki/Tinci%C3%B3n_de_Gram#/media/Archivo:Escherichia_coli_Gram.jpg).\n",
    "\n",
    "Usemos esos colores especificando un mapeo de escala explícito desde dominio (`domain`) de los datos hasta el rango (`range`) del color:"
   ]
  },
  {
   "cell_type": "code",
   "execution_count": 16,
   "metadata": {},
   "outputs": [
    {
     "data": {
      "application/vnd.vegalite.v3+json": {
       "$schema": "https://vega.github.io/schema/vega-lite/v3.4.0.json",
       "config": {
        "mark": {
         "tooltip": null
        },
        "view": {
         "height": 300,
         "width": 400
        }
       },
       "data": {
        "url": "https://vega.github.io/vega-datasets/data/burtin.json"
       },
       "encoding": {
        "color": {
         "field": "Gram_Staining",
         "scale": {
          "domain": [
           "negative",
           "positive"
          ],
          "range": [
           "hotpink",
           "purple"
          ]
         },
         "type": "nominal"
        },
        "x": {
         "axis": {
          "tickCount": 5
         },
         "field": "Neomycin",
         "scale": {
          "domain": [
           0.001,
           1000
          ],
          "type": "log"
         },
         "sort": "descending",
         "title": "Neomicina MIC (μg/ml, escala logarítmica invertida)",
         "type": "quantitative"
        },
        "y": {
         "axis": {
          "tickCount": 5
         },
         "field": "Penicillin",
         "scale": {
          "domain": [
           0.001,
           1000
          ],
          "type": "log"
         },
         "sort": "descending",
         "title": "Penicilina MIC (μg/ml, escala logarítmica invertida)",
         "type": "quantitative"
        }
       },
       "height": 290,
       "mark": {
        "size": 80,
        "type": "circle"
       },
       "width": 290
      },
      "text/plain": "<VegaLite 3 object>\n\nIf you see this message, it means the renderer has not been properly enabled\nfor the frontend that you are using. For more information, see\nhttps://altair-viz.github.io/user_guide/troubleshooting.html\n"
     },
     "execution_count": 16,
     "metadata": {},
     "output_type": "execute_result"
    }
   ],
   "source": [
    "alt.Chart(antibiotics).mark_circle(size=80).encode(\n",
    "    alt.X('Neomycin:Q',\n",
    "          sort='descending',\n",
    "          scale=alt.Scale(type='log', domain=[0.001, 1000]),\n",
    "          axis=alt.Axis(tickCount=5),\n",
    "          title='Neomicina MIC (μg/ml, escala logarítmica invertida)'),\n",
    "    alt.Y('Penicillin:Q',\n",
    "          sort='descending',\n",
    "          scale=alt.Scale(type='log', domain=[0.001, 1000]),\n",
    "          axis=alt.Axis(tickCount=5),\n",
    "          title='Penicilina MIC (μg/ml, escala logarítmica invertida)'),\n",
    "    alt.Color('Gram_Staining:N',\n",
    "          scale=alt.Scale(domain=['negative', 'positive'], range=['hotpink', 'purple'])\n",
    "    )\n",
    ").properties(width=290, height=290)"
   ]
  },
  {
   "cell_type": "markdown",
   "metadata": {
    "colab_type": "text",
    "id": "cfgvdp8cBHmZ"
   },
   "outputs": [],
   "source": [
    "Por defecto, las leyendas se colocan en el lado derecho de la gráfica. Al igual que con los ejes, podemos cambiar la orientación de la leyenta usando el parámetro `orient`:"
   ]
  },
  {
   "cell_type": "code",
   "execution_count": 17,
   "metadata": {},
   "outputs": [
    {
     "data": {
      "application/vnd.vegalite.v3+json": {
       "$schema": "https://vega.github.io/schema/vega-lite/v3.4.0.json",
       "config": {
        "mark": {
         "tooltip": null
        },
        "view": {
         "height": 300,
         "width": 400
        }
       },
       "data": {
        "url": "https://vega.github.io/vega-datasets/data/burtin.json"
       },
       "encoding": {
        "color": {
         "field": "Gram_Staining",
         "legend": {
          "orient": "left"
         },
         "scale": {
          "domain": [
           "negative",
           "positive"
          ],
          "range": [
           "hotpink",
           "purple"
          ]
         },
         "type": "nominal"
        },
        "x": {
         "axis": {
          "tickCount": 5
         },
         "field": "Neomycin",
         "scale": {
          "domain": [
           0.001,
           1000
          ],
          "type": "log"
         },
         "sort": "descending",
         "title": "Neomicina MIC (μg/ml, escala logarítmica invertida)",
         "type": "quantitative"
        },
        "y": {
         "axis": {
          "tickCount": 5
         },
         "field": "Penicillin",
         "scale": {
          "domain": [
           0.001,
           1000
          ],
          "type": "log"
         },
         "sort": "descending",
         "title": "Penicilina MIC (μg/ml, escala logarítmica invertida)",
         "type": "quantitative"
        }
       },
       "height": 290,
       "mark": {
        "size": 80,
        "type": "circle"
       },
       "width": 290
      },
      "text/plain": "<VegaLite 3 object>\n\nIf you see this message, it means the renderer has not been properly enabled\nfor the frontend that you are using. For more information, see\nhttps://altair-viz.github.io/user_guide/troubleshooting.html\n"
     },
     "execution_count": 17,
     "metadata": {},
     "output_type": "execute_result"
    }
   ],
   "source": [
    "alt.Chart(antibiotics).mark_circle(size=80).encode(\n",
    "    alt.X('Neomycin:Q',\n",
    "          sort='descending',\n",
    "          scale=alt.Scale(type='log', domain=[0.001, 1000]),\n",
    "          axis=alt.Axis(tickCount=5),\n",
    "          title='Neomicina MIC (μg/ml, escala logarítmica invertida)'),\n",
    "    alt.Y('Penicillin:Q',\n",
    "          sort='descending',\n",
    "          scale=alt.Scale(type='log', domain=[0.001, 1000]),\n",
    "          axis=alt.Axis(tickCount=5),\n",
    "          title='Penicilina MIC (μg/ml, escala logarítmica invertida)'),\n",
    "    alt.Color('Gram_Staining:N',\n",
    "          scale=alt.Scale(domain=['negative', 'positive'], range=['hotpink', 'purple']),\n",
    "          legend=alt.Legend(orient='left')\n",
    "    )\n",
    ").properties(width=290, height=290)"
   ]
  },
  {
   "cell_type": "markdown",
   "metadata": {
    "colab_type": "text",
    "id": "nwoOrGb6BtrF"
   },
   "outputs": [],
   "source": [
    "También podemos remover por completo la leyenda, especificando `legend=None`:"
   ]
  },
  {
   "cell_type": "code",
   "execution_count": 18,
   "metadata": {},
   "outputs": [
    {
     "data": {
      "application/vnd.vegalite.v3+json": {
       "$schema": "https://vega.github.io/schema/vega-lite/v3.4.0.json",
       "config": {
        "mark": {
         "tooltip": null
        },
        "view": {
         "height": 300,
         "width": 400
        }
       },
       "data": {
        "url": "https://vega.github.io/vega-datasets/data/burtin.json"
       },
       "encoding": {
        "color": {
         "field": "Gram_Staining",
         "legend": null,
         "scale": {
          "domain": [
           "negative",
           "positive"
          ],
          "range": [
           "hotpink",
           "purple"
          ]
         },
         "type": "nominal"
        },
        "x": {
         "axis": {
          "tickCount": 5
         },
         "field": "Neomycin",
         "scale": {
          "domain": [
           0.001,
           1000
          ],
          "type": "log"
         },
         "sort": "descending",
         "title": "Neomicina MIC (μg/ml, escala logarítmica invertida)",
         "type": "quantitative"
        },
        "y": {
         "axis": {
          "tickCount": 5
         },
         "field": "Penicillin",
         "scale": {
          "domain": [
           0.001,
           1000
          ],
          "type": "log"
         },
         "sort": "descending",
         "title": "Penicilina MIC (μg/ml, escala logarítmica invertida)",
         "type": "quantitative"
        }
       },
       "height": 290,
       "mark": {
        "size": 80,
        "type": "circle"
       },
       "width": 290
      },
      "text/plain": "<VegaLite 3 object>\n\nIf you see this message, it means the renderer has not been properly enabled\nfor the frontend that you are using. For more information, see\nhttps://altair-viz.github.io/user_guide/troubleshooting.html\n"
     },
     "execution_count": 18,
     "metadata": {},
     "output_type": "execute_result"
    }
   ],
   "source": [
    "alt.Chart(antibiotics).mark_circle(size=80).encode(\n",
    "    alt.X('Neomycin:Q',\n",
    "          sort='descending',\n",
    "          scale=alt.Scale(type='log', domain=[0.001, 1000]),\n",
    "          axis=alt.Axis(tickCount=5),\n",
    "          title='Neomicina MIC (μg/ml, escala logarítmica invertida)'),\n",
    "    alt.Y('Penicillin:Q',\n",
    "          sort='descending',\n",
    "          scale=alt.Scale(type='log', domain=[0.001, 1000]),\n",
    "          axis=alt.Axis(tickCount=5),\n",
    "          title='Penicilina MIC (μg/ml, escala logarítmica invertida)'),\n",
    "    alt.Color('Gram_Staining:N',\n",
    "          scale=alt.Scale(domain=['negative', 'positive'], range=['hotpink', 'purple']),\n",
    "          legend=None\n",
    "    )\n",
    ").properties(width=290, height=290)"
   ]
  },
  {
   "cell_type": "markdown",
   "metadata": {
    "colab_type": "text",
    "id": "M64uVeFHDIlT"
   },
   "outputs": [],
   "source": [
    "### Color por las especies\n",
    "\n",
    "_Hasta ahora hemos considerado la efectividad de los antibióticos. Reflexionemos y hagamos una pregunta diferente: ¿qué nos puede enseñar la respuesta a los antibióticos sobre las diferentes especies de bacterias?_\n",
    "\n",
    "Para empezar, codifiquemos `Bacteria` (un campo de datos nominales) usando el canal `color`:"
   ]
  },
  {
   "cell_type": "code",
   "execution_count": 19,
   "metadata": {},
   "outputs": [
    {
     "data": {
      "application/vnd.vegalite.v3+json": {
       "$schema": "https://vega.github.io/schema/vega-lite/v3.4.0.json",
       "config": {
        "mark": {
         "tooltip": null
        },
        "view": {
         "height": 300,
         "width": 400
        }
       },
       "data": {
        "url": "https://vega.github.io/vega-datasets/data/burtin.json"
       },
       "encoding": {
        "color": {
         "field": "Bacteria",
         "type": "nominal"
        },
        "x": {
         "axis": {
          "tickCount": 5
         },
         "field": "Neomycin",
         "scale": {
          "domain": [
           0.001,
           1000
          ],
          "type": "log"
         },
         "sort": "descending",
         "title": "Neomicina MIC (μg/ml, escala logarítmica invertida)",
         "type": "quantitative"
        },
        "y": {
         "axis": {
          "tickCount": 5
         },
         "field": "Penicillin",
         "scale": {
          "domain": [
           0.001,
           1000
          ],
          "type": "log"
         },
         "sort": "descending",
         "title": "Penicilina MIC (μg/ml, escala logarítmica invertida)",
         "type": "quantitative"
        }
       },
       "height": 290,
       "mark": {
        "size": 80,
        "type": "circle"
       },
       "width": 290
      },
      "text/plain": "<VegaLite 3 object>\n\nIf you see this message, it means the renderer has not been properly enabled\nfor the frontend that you are using. For more information, see\nhttps://altair-viz.github.io/user_guide/troubleshooting.html\n"
     },
     "execution_count": 19,
     "metadata": {},
     "output_type": "execute_result"
    }
   ],
   "source": [
    "alt.Chart(antibiotics).mark_circle(size=80).encode(\n",
    "    alt.X('Neomycin:Q',\n",
    "          sort='descending',\n",
    "          scale=alt.Scale(type='log', domain=[0.001, 1000]),\n",
    "          axis=alt.Axis(tickCount=5),\n",
    "          title='Neomicina MIC (μg/ml, escala logarítmica invertida)'),\n",
    "    alt.Y('Penicillin:Q',\n",
    "          sort='descending',\n",
    "          scale=alt.Scale(type='log', domain=[0.001, 1000]),\n",
    "          axis=alt.Axis(tickCount=5),\n",
    "          title='Penicilina MIC (μg/ml, escala logarítmica invertida)'),\n",
    "    alt.Color('Bacteria:N')\n",
    ").properties(width=290, height=290)"
   ]
  },
  {
   "cell_type": "markdown",
   "metadata": {
    "colab_type": "text",
    "id": "8Z02YhSRa6aw"
   },
   "outputs": [],
   "source": [
    "_¡El resultado es un poco desastrozo!_\n",
    "\n",
    "Hay tantas bacterias únicas que Altair empieza a repetir los colores de su paleta por defecto que tiene 10 colores para valores nominales.\n",
    "\n",
    "Para usar colores personalizados, podemos actualizar la propiedad `scale` de codificación de colores. Una opción es proporcionar valores explícitos de escala `domain` y `range` para indicar los mapeos de color precisos por valor, como hicimos anteriormente para la tinción de Gram. Otra opción es utilizar un esquema de color alternativo. Altair incluye una variedad de esquemas de color incorporados. Para obtener una lista completa, consulta la documentación [documentación de los esquemas de color de Vega](https://vega.github.io/vega/docs/schemes/#reference)."
   ]
  },
  {
   "cell_type": "code",
   "execution_count": 20,
   "metadata": {},
   "outputs": [
    {
     "data": {
      "application/vnd.vegalite.v3+json": {
       "$schema": "https://vega.github.io/schema/vega-lite/v3.4.0.json",
       "config": {
        "mark": {
         "tooltip": null
        },
        "view": {
         "height": 300,
         "width": 400
        }
       },
       "data": {
        "url": "https://vega.github.io/vega-datasets/data/burtin.json"
       },
       "encoding": {
        "color": {
         "field": "Bacteria",
         "scale": {
          "scheme": "tableau20"
         },
         "type": "nominal"
        },
        "x": {
         "axis": {
          "tickCount": 5
         },
         "field": "Neomycin",
         "scale": {
          "domain": [
           0.001,
           1000
          ],
          "type": "log"
         },
         "sort": "descending",
         "title": "Neomicina MIC (μg/ml, escala logarítmica invertida)",
         "type": "quantitative"
        },
        "y": {
         "axis": {
          "tickCount": 5
         },
         "field": "Penicillin",
         "scale": {
          "domain": [
           0.001,
           1000
          ],
          "type": "log"
         },
         "sort": "descending",
         "title": "Penicilina MIC (μg/ml, escala logarítmica invertida)",
         "type": "quantitative"
        }
       },
       "height": 290,
       "mark": {
        "size": 80,
        "type": "circle"
       },
       "width": 290
      },
      "text/plain": "<VegaLite 3 object>\n\nIf you see this message, it means the renderer has not been properly enabled\nfor the frontend that you are using. For more information, see\nhttps://altair-viz.github.io/user_guide/troubleshooting.html\n"
     },
     "execution_count": 20,
     "metadata": {},
     "output_type": "execute_result"
    }
   ],
   "source": [
    "alt.Chart(antibiotics).mark_circle(size=80).encode(\n",
    "    alt.X('Neomycin:Q',\n",
    "          sort='descending',\n",
    "          scale=alt.Scale(type='log', domain=[0.001, 1000]),\n",
    "          axis=alt.Axis(tickCount=5),\n",
    "          title='Neomicina MIC (μg/ml, escala logarítmica invertida)'),\n",
    "    alt.Y('Penicillin:Q',\n",
    "          sort='descending',\n",
    "          scale=alt.Scale(type='log', domain=[0.001, 1000]),\n",
    "          axis=alt.Axis(tickCount=5),\n",
    "          title='Penicilina MIC (μg/ml, escala logarítmica invertida)'),\n",
    "    alt.Color('Bacteria:N',\n",
    "          scale=alt.Scale(scheme='tableau20'))\n",
    ").properties(width=290, height=290)"
   ]
  },
  {
   "cell_type": "markdown",
   "metadata": {
    "colab_type": "text",
    "id": "28Hr54iIbwE4"
   },
   "outputs": [],
   "source": [
    "_Ahora tenemos un color único para cada bacteria, pero la gráfica sigue siendo un desastre. Entre otras cosas, la codificación no tiene en cuenta las bacterias que pertenecen al mismo género. En la gráfica anterior, las dos cepas diferentes de Salmonella tienen tonalidades muy diferentes (verde azulado y rosa), a pesar de ser primos biológicos._\n",
    "\n",
    "Para probar un esquema diferente, también podemos cambiar el tipo de los datos de nominal a ordinal. El esquema ordinal por defecto utiliza sombras azules, pasando de claro a oscuro:"
   ]
  },
  {
   "cell_type": "code",
   "execution_count": 21,
   "metadata": {},
   "outputs": [
    {
     "data": {
      "application/vnd.vegalite.v3+json": {
       "$schema": "https://vega.github.io/schema/vega-lite/v3.4.0.json",
       "config": {
        "mark": {
         "tooltip": null
        },
        "view": {
         "height": 300,
         "width": 400
        }
       },
       "data": {
        "url": "https://vega.github.io/vega-datasets/data/burtin.json"
       },
       "encoding": {
        "color": {
         "field": "Bacteria",
         "type": "ordinal"
        },
        "x": {
         "axis": {
          "tickCount": 5
         },
         "field": "Neomycin",
         "scale": {
          "domain": [
           0.001,
           1000
          ],
          "type": "log"
         },
         "sort": "descending",
         "title": "Neomicina MIC (μg/ml, escala logarítmica invertida)",
         "type": "quantitative"
        },
        "y": {
         "axis": {
          "tickCount": 5
         },
         "field": "Penicillin",
         "scale": {
          "domain": [
           0.001,
           1000
          ],
          "type": "log"
         },
         "sort": "descending",
         "title": "Penicilina MIC (μg/ml, escala logarítmica invertida)",
         "type": "quantitative"
        }
       },
       "height": 290,
       "mark": {
        "size": 80,
        "type": "circle"
       },
       "width": 290
      },
      "text/plain": "<VegaLite 3 object>\n\nIf you see this message, it means the renderer has not been properly enabled\nfor the frontend that you are using. For more information, see\nhttps://altair-viz.github.io/user_guide/troubleshooting.html\n"
     },
     "execution_count": 21,
     "metadata": {},
     "output_type": "execute_result"
    }
   ],
   "source": [
    "alt.Chart(antibiotics).mark_circle(size=80).encode(\n",
    "    alt.X('Neomycin:Q',\n",
    "          sort='descending',\n",
    "          scale=alt.Scale(type='log', domain=[0.001, 1000]),\n",
    "          axis=alt.Axis(tickCount=5),\n",
    "          title='Neomicina MIC (μg/ml, escala logarítmica invertida)'),\n",
    "    alt.Y('Penicillin:Q',\n",
    "          sort='descending',\n",
    "          scale=alt.Scale(type='log', domain=[0.001, 1000]),\n",
    "          axis=alt.Axis(tickCount=5),\n",
    "          title='Penicilina MIC (μg/ml, escala logarítmica invertida)'),\n",
    "    alt.Color('Bacteria:O')\n",
    ").properties(width=290, height=290)"
   ]
  },
  {
   "cell_type": "markdown",
   "metadata": {
    "colab_type": "text",
    "id": "Me8FkMJlErIi"
   },
   "outputs": [],
   "source": [
    "_Algunos de esos tonos azules pueden ser difíciles de distinguir._\n",
    "\n",
    "Para obtener colores más diferenciados, podemos experimentar con alternativas al esquema de colores predeterminado `blues`. El esquema `viridis` hace rampas a través de la tonalidad y la luminiscencia:"
   ]
  },
  {
   "cell_type": "code",
   "execution_count": 22,
   "metadata": {},
   "outputs": [
    {
     "data": {
      "application/vnd.vegalite.v3+json": {
       "$schema": "https://vega.github.io/schema/vega-lite/v3.4.0.json",
       "config": {
        "mark": {
         "tooltip": null
        },
        "view": {
         "height": 300,
         "width": 400
        }
       },
       "data": {
        "url": "https://vega.github.io/vega-datasets/data/burtin.json"
       },
       "encoding": {
        "color": {
         "field": "Bacteria",
         "scale": {
          "scheme": "viridis"
         },
         "type": "ordinal"
        },
        "x": {
         "axis": {
          "tickCount": 5
         },
         "field": "Neomycin",
         "scale": {
          "domain": [
           0.001,
           1000
          ],
          "type": "log"
         },
         "sort": "descending",
         "title": "Neomicina MIC (μg/ml, escala logarítmica invertida)",
         "type": "quantitative"
        },
        "y": {
         "axis": {
          "tickCount": 5
         },
         "field": "Penicillin",
         "scale": {
          "domain": [
           0.001,
           1000
          ],
          "type": "log"
         },
         "sort": "descending",
         "title": "Penicilina MIC (μg/ml, escala logarítmica invertida)",
         "type": "quantitative"
        }
       },
       "height": 290,
       "mark": {
        "size": 80,
        "type": "circle"
       },
       "width": 290
      },
      "text/plain": "<VegaLite 3 object>\n\nIf you see this message, it means the renderer has not been properly enabled\nfor the frontend that you are using. For more information, see\nhttps://altair-viz.github.io/user_guide/troubleshooting.html\n"
     },
     "execution_count": 22,
     "metadata": {},
     "output_type": "execute_result"
    }
   ],
   "source": [
    "alt.Chart(antibiotics).mark_circle(size=80).encode(\n",
    "    alt.X('Neomycin:Q',\n",
    "          sort='descending',\n",
    "          scale=alt.Scale(type='log', domain=[0.001, 1000]),\n",
    "          axis=alt.Axis(tickCount=5),\n",
    "          title='Neomicina MIC (μg/ml, escala logarítmica invertida)'),\n",
    "    alt.Y('Penicillin:Q',\n",
    "          sort='descending',\n",
    "          scale=alt.Scale(type='log', domain=[0.001, 1000]),\n",
    "          axis=alt.Axis(tickCount=5),\n",
    "          title='Penicilina MIC (μg/ml, escala logarítmica invertida)'),\n",
    "    alt.Color('Bacteria:O',\n",
    "          scale=alt.Scale(scheme='viridis'))\n",
    ").properties(width=290, height=290)"
   ]
  },
  {
   "cell_type": "markdown",
   "metadata": {
    "colab_type": "text",
    "id": "o98wtYo4cIAz"
   },
   "outputs": [],
   "source": [
    "_Las bacterias del mismo género ahora tienen colores más similares que antes, pero la gráfica sigue siendo confusa. Hay muchos colores, son difíciles de buscar en la leyenda con precisión, y dos bacterias pueden tener colores similares pero diferentes géneros._"
   ]
  },
  {
   "cell_type": "markdown",
   "metadata": {
    "colab_type": "text",
    "id": "Hpjqbi4rAhst"
   },
   "outputs": [],
   "source": [
    "### Color por el género\n",
    "\n",
    "Tratemos de colorear por género en lugar de por bacterias. Para ello, añadiremos una transformación `calculate` que divide el nombre de la bacteria en caracteres espaciales y toma la primera palabra de la matriz resultante. A continuación, podemos codificar el campo `Genus` resultante utilizando el esquema de color `tableau20`.\n",
    "\n",
    "(Tenga en cuenta que el conjunto de datos de antibióticos incluye un campo `Genus` precalculado, pero lo ignoraremos aquí para explorar más a fondo las transformaciones de datos de Altair)."
   ]
  },
  {
   "cell_type": "code",
   "execution_count": 23,
   "metadata": {},
   "outputs": [
    {
     "data": {
      "application/vnd.vegalite.v3+json": {
       "$schema": "https://vega.github.io/schema/vega-lite/v3.4.0.json",
       "config": {
        "mark": {
         "tooltip": null
        },
        "view": {
         "height": 300,
         "width": 400
        }
       },
       "data": {
        "url": "https://vega.github.io/vega-datasets/data/burtin.json"
       },
       "encoding": {
        "color": {
         "field": "Genus",
         "scale": {
          "scheme": "tableau20"
         },
         "type": "nominal"
        },
        "x": {
         "axis": {
          "tickCount": 5
         },
         "field": "Neomycin",
         "scale": {
          "domain": [
           0.001,
           1000
          ],
          "type": "log"
         },
         "sort": "descending",
         "title": "Neomicina MIC (μg/ml, escala logarítmica invertida)",
         "type": "quantitative"
        },
        "y": {
         "axis": {
          "tickCount": 5
         },
         "field": "Penicillin",
         "scale": {
          "domain": [
           0.001,
           1000
          ],
          "type": "log"
         },
         "sort": "descending",
         "title": "Penicilina MIC (μg/ml, escala logarítmica invertida)",
         "type": "quantitative"
        }
       },
       "height": 290,
       "mark": {
        "size": 80,
        "type": "circle"
       },
       "transform": [
        {
         "as": "Genus",
         "calculate": "split(datum.Bacteria, \" \")[0]"
        }
       ],
       "width": 290
      },
      "text/plain": "<VegaLite 3 object>\n\nIf you see this message, it means the renderer has not been properly enabled\nfor the frontend that you are using. For more information, see\nhttps://altair-viz.github.io/user_guide/troubleshooting.html\n"
     },
     "execution_count": 23,
     "metadata": {},
     "output_type": "execute_result"
    }
   ],
   "source": [
    "alt.Chart(antibiotics).mark_circle(size=80).transform_calculate(\n",
    "    Genus='split(datum.Bacteria, \" \")[0]'\n",
    ").encode(\n",
    "    alt.X('Neomycin:Q',\n",
    "          sort='descending',\n",
    "          scale=alt.Scale(type='log', domain=[0.001, 1000]),\n",
    "          axis=alt.Axis(tickCount=5),\n",
    "          title='Neomicina MIC (μg/ml, escala logarítmica invertida)'),\n",
    "    alt.Y('Penicillin:Q',\n",
    "          sort='descending',\n",
    "          scale=alt.Scale(type='log', domain=[0.001, 1000]),\n",
    "          axis=alt.Axis(tickCount=5),\n",
    "          title='Penicilina MIC (μg/ml, escala logarítmica invertida)'),\n",
    "    alt.Color('Genus:N',\n",
    "          scale=alt.Scale(scheme='tableau20'))\n",
    ").properties(width=290, height=290)"
   ]
  },
  {
   "cell_type": "markdown",
   "metadata": {
    "colab_type": "text",
    "id": "UMH3wAeWdAXL"
   },
   "outputs": [],
   "source": [
    "_Hmmm..... Aunque los datos están mejor segregados por género, esta cacofonía de colores no parece particularmente útil._\n",
    "\n",
    "_Si observamos cuidadosamente algunas de las gráficas anteriores, vemos que sólo un puñado de bacterias tienen un género compartido con otra bacteria: Salmonella, estafilococo y estreptococo. Para enfocar nuestra comparación, podríamos agregar colores sólo para estos valores de género repetidos._\n",
    "\n",
    "Añadamos otra transformación `calculate` que tome el nombre de un género, lo guarda si es uno de los valores repetidos, y de lo contrario usa la palabra ``\"Otro\"``.\n",
    "\n",
    "Además, podemos añadir codificaciones de color personalizadas utilizando matrices explícitas de `domain` y `range` para la codificación de color `scale`.\n"
   ]
  },
  {
   "cell_type": "code",
   "execution_count": 24,
   "metadata": {},
   "outputs": [
    {
     "data": {
      "application/vnd.vegalite.v3+json": {
       "$schema": "https://vega.github.io/schema/vega-lite/v3.4.0.json",
       "config": {
        "mark": {
         "tooltip": null
        },
        "view": {
         "height": 300,
         "width": 400
        }
       },
       "data": {
        "url": "https://vega.github.io/vega-datasets/data/burtin.json"
       },
       "encoding": {
        "color": {
         "field": "Genus",
         "scale": {
          "domain": [
           "Salmonella",
           "Staphylococcus",
           "Streptococcus",
           "Otros"
          ],
          "range": [
           "rgb(76,120,168)",
           "rgb(84,162,75)",
           "rgb(228,87,86)",
           "rgb(121,112,110)"
          ]
         },
         "type": "nominal"
        },
        "x": {
         "axis": {
          "tickCount": 5
         },
         "field": "Neomycin",
         "scale": {
          "domain": [
           0.001,
           1000
          ],
          "type": "log"
         },
         "sort": "descending",
         "title": "Neomicina MIC (μg/ml, escala logarítmica invertida)",
         "type": "quantitative"
        },
        "y": {
         "axis": {
          "tickCount": 5
         },
         "field": "Penicillin",
         "scale": {
          "domain": [
           0.001,
           1000
          ],
          "type": "log"
         },
         "sort": "descending",
         "title": "Penicilina MIC (μg/ml, escala logarítmica invertida)",
         "type": "quantitative"
        }
       },
       "height": 290,
       "mark": {
        "size": 80,
        "type": "circle"
       },
       "transform": [
        {
         "as": "Split",
         "calculate": "split(datum.Bacteria, \" \")[0]"
        },
        {
         "as": "Genus",
         "calculate": "indexof([\"Salmonella\", \"Staphylococcus\", \"Streptococcus\"], datum.Split) >= 0 ? datum.Split : \"Otros\""
        }
       ],
       "width": 290
      },
      "text/plain": "<VegaLite 3 object>\n\nIf you see this message, it means the renderer has not been properly enabled\nfor the frontend that you are using. For more information, see\nhttps://altair-viz.github.io/user_guide/troubleshooting.html\n"
     },
     "execution_count": 24,
     "metadata": {},
     "output_type": "execute_result"
    }
   ],
   "source": [
    "alt.Chart(antibiotics).mark_circle(size=80).transform_calculate(\n",
    "  Split='split(datum.Bacteria, \" \")[0]'\n",
    ").transform_calculate(\n",
    "  Genus='indexof([\"Salmonella\", \"Staphylococcus\", \"Streptococcus\"], datum.Split) >= 0 ? datum.Split : \"Otros\"'\n",
    ").encode(\n",
    "    alt.X('Neomycin:Q',\n",
    "          sort='descending',\n",
    "          scale=alt.Scale(type='log', domain=[0.001, 1000]),\n",
    "          axis=alt.Axis(tickCount=5),\n",
    "          title='Neomicina MIC (μg/ml, escala logarítmica invertida)'),\n",
    "    alt.Y('Penicillin:Q',\n",
    "          sort='descending',\n",
    "          scale=alt.Scale(type='log', domain=[0.001, 1000]),\n",
    "          axis=alt.Axis(tickCount=5),\n",
    "          title='Penicilina MIC (μg/ml, escala logarítmica invertida)'),\n",
    "    alt.Color('Genus:N',\n",
    "          scale=alt.Scale(\n",
    "            domain=['Salmonella', 'Staphylococcus', 'Streptococcus', 'Otros'],\n",
    "            range=['rgb(76,120,168)', 'rgb(84,162,75)', 'rgb(228,87,86)', 'rgb(121,112,110)']\n",
    "          ))\n",
    ").properties(width=290, height=290)"
   ]
  },
  {
   "cell_type": "markdown",
   "metadata": {
    "colab_type": "text",
    "id": "QQAuRPEDeRjU"
   },
   "outputs": [],
   "source": [
    "_Ahora tenemos una gráfica mucho más reveladora, que fue posible gracias a las personalizaciones de los ejes y la leyenda. Tómese un momento para examinar la trama de arriba. ¿Notas alguna agrupación sorprendente?_\n",
    "\n",
    "_La región superior izquierda tiene un grupo de bacterias estreptococos rojas, pero con otras bacterias grises a su lado. Mientras tanto, hacia la mitad derecha vemos otro estreptococos rojo colocado lejos de sus \"primos\". ¿Podríamos esperar que las bacterias del mismo género (y por lo tanto presumiblemente más similares genéticamente) se agrupen más cerca unas de otras?_\n",
    "\n",
    "En realidad, el conjunto de datos subyacente contiene errores. Este refleja las designaciones de especies utilizadas a principios de la década de 1950. Sin embargo, el consenso científico ha cambiado desde entonces. ¿Ese punto gris en la parte superior izquierda? ¡Ahora se considera un estreptococo! ¿Ese punto rojo hacia la mitad derecha? ¡Ya no se considera un estreptococo!\n",
    "\n",
    "Por supuesto, por si solo, este conjunto de datos no justifica completamente estas reclasificaciones. ¡Sin embargo, los datos contienen valiosas pistas biológicas que fueron pasadas por alto durante décadas! La visualización, cuando es utilizada por un espectador debidamente capacitado e inquisitivo, puede ser una herramienta poderosa para el descubrimiento.\n",
    "\n",
    "Este ejemplo también refuerza una lección importante: **_¡Siempre se escéptico de tus datos!_**"
   ]
  },
  {
   "cell_type": "markdown",
   "metadata": {
    "colab_type": "text",
    "id": "QT1isVxqftkU"
   },
   "outputs": [],
   "source": [
    "### Color por la respuesta del antibiótico\n",
    "\n",
    "También podríamos usar el canal `color` para codificar los valores cuantitativos. ¡Sin embargo, ten en cuenta que normalmente el color no es tan efectivo para expresar cantidades como las codificaciones de posición o tamaño!\n",
    "\n",
    "Aquí hay un mapa de calor básico de los valores MIC de la penicilina para cada bacteria. Usaremos un marcador `rect` y ordenaremos las bacterias en orden descendente de los valores de MIC (de mayor a menor resistencia):"
   ]
  },
  {
   "cell_type": "code",
   "execution_count": 25,
   "metadata": {},
   "outputs": [
    {
     "data": {
      "application/vnd.vegalite.v3+json": {
       "$schema": "https://vega.github.io/schema/vega-lite/v3.4.0.json",
       "config": {
        "mark": {
         "tooltip": null
        },
        "view": {
         "height": 300,
         "width": 400
        }
       },
       "data": {
        "url": "https://vega.github.io/vega-datasets/data/burtin.json"
       },
       "encoding": {
        "color": {
         "field": "Penicillin",
         "type": "quantitative"
        },
        "y": {
         "field": "Bacteria",
         "sort": {
          "field": "Penicillin",
          "op": "max",
          "order": "descending"
         },
         "type": "nominal"
        }
       },
       "mark": "rect"
      },
      "text/plain": "<VegaLite 3 object>\n\nIf you see this message, it means the renderer has not been properly enabled\nfor the frontend that you are using. For more information, see\nhttps://altair-viz.github.io/user_guide/troubleshooting.html\n"
     },
     "execution_count": 25,
     "metadata": {},
     "output_type": "execute_result"
    }
   ],
   "source": [
    "alt.Chart(antibiotics).mark_rect().encode(\n",
    "    alt.Y('Bacteria:N',\n",
    "      sort=alt.EncodingSortField(field='Penicillin', op='max', order='descending')\n",
    "    ),\n",
    "    alt.Color('Penicillin:Q')\n",
    ")"
   ]
  },
  {
   "cell_type": "markdown",
   "metadata": {
    "colab_type": "text",
    "id": "UjInt4P8Ki5I"
   },
   "outputs": [],
   "source": [
    "Podemos mejorar aún más este gráfico combinando las características que hemos visto hasta ahora: una escala logarítmica, un cambio de orientación de eje, un esquema de color personalizado (`plasma`), ajuste del número de marcas del eje (`tickCount`) y un texto de título personalizado. También ejercitaremos las opciones de configuración para ajustar la posición del título del eje y la alineación del título de la leyenda."
   ]
  },
  {
   "cell_type": "code",
   "execution_count": 26,
   "metadata": {},
   "outputs": [
    {
     "data": {
      "application/vnd.vegalite.v3+json": {
       "$schema": "https://vega.github.io/schema/vega-lite/v3.4.0.json",
       "config": {
        "mark": {
         "tooltip": null
        },
        "view": {
         "height": 300,
         "width": 400
        }
       },
       "data": {
        "url": "https://vega.github.io/vega-datasets/data/burtin.json"
       },
       "encoding": {
        "color": {
         "field": "Penicillin",
         "legend": {
          "tickCount": 5,
          "titleOrient": "right"
         },
         "scale": {
          "nice": true,
          "scheme": "plasma",
          "type": "log"
         },
         "title": "Penicillina MIC (μg/ml)",
         "type": "quantitative"
        },
        "y": {
         "axis": {
          "orient": "right",
          "titleAlign": "left",
          "titleAngle": 0,
          "titleX": 7,
          "titleY": -2
         },
         "field": "Bacteria",
         "sort": {
          "field": "Penicillin",
          "op": "max",
          "order": "descending"
         },
         "type": "nominal"
        }
       },
       "mark": "rect"
      },
      "text/plain": "<VegaLite 3 object>\n\nIf you see this message, it means the renderer has not been properly enabled\nfor the frontend that you are using. For more information, see\nhttps://altair-viz.github.io/user_guide/troubleshooting.html\n"
     },
     "execution_count": 26,
     "metadata": {},
     "output_type": "execute_result"
    }
   ],
   "source": [
    "alt.Chart(antibiotics).mark_rect().encode(\n",
    "    alt.Y('Bacteria:N',\n",
    "      sort=alt.EncodingSortField(field='Penicillin', op='max', order='descending'),\n",
    "      axis=alt.Axis(\n",
    "        orient='right',     # orient axis on right side of chart\n",
    "        titleX=7,           # set x-position to 7 pixels right of chart\n",
    "        titleY=-2,          # set y-position to 2 pixels above chart\n",
    "        titleAlign='left',  # use left-aligned text\n",
    "        titleAngle=0        # undo default title rotation\n",
    "      )\n",
    "    ),\n",
    "    alt.Color('Penicillin:Q',\n",
    "      scale=alt.Scale(type='log', scheme='plasma', nice=True),\n",
    "      legend=alt.Legend(titleOrient='right', tickCount=5),\n",
    "      title='Penicillina MIC (μg/ml)'\n",
    "    )\n",
    ")"
   ]
  },
  {
   "cell_type": "markdown",
   "metadata": {},
   "outputs": [],
   "source": [
    "Alternativamente, podemos eliminar el título del eje por completo, y usar la propiedad `title` de nivel superior para añadir un título para todo el gráfico:"
   ]
  },
  {
   "cell_type": "code",
   "execution_count": 27,
   "metadata": {},
   "outputs": [
    {
     "data": {
      "application/vnd.vegalite.v3+json": {
       "$schema": "https://vega.github.io/schema/vega-lite/v3.4.0.json",
       "config": {
        "mark": {
         "tooltip": null
        },
        "title": {
         "anchor": "start",
         "offset": 5
        },
        "view": {
         "height": 300,
         "width": 400
        }
       },
       "data": {
        "url": "https://vega.github.io/vega-datasets/data/burtin.json"
       },
       "encoding": {
        "color": {
         "field": "Penicillin",
         "legend": {
          "tickCount": 5,
          "titleOrient": "right"
         },
         "scale": {
          "nice": true,
          "scheme": "plasma",
          "type": "log"
         },
         "title": "Penicillina MIC (μg/ml)",
         "type": "quantitative"
        },
        "y": {
         "axis": {
          "orient": "right",
          "title": null
         },
         "field": "Bacteria",
         "sort": {
          "field": "Penicillin",
          "op": "max",
          "order": "descending"
         },
         "type": "nominal"
        }
       },
       "mark": "rect",
       "title": "Resistencia a la penicilina de las cepas bacterianas"
      },
      "text/plain": "<VegaLite 3 object>\n\nIf you see this message, it means the renderer has not been properly enabled\nfor the frontend that you are using. For more information, see\nhttps://altair-viz.github.io/user_guide/troubleshooting.html\n"
     },
     "execution_count": 27,
     "metadata": {},
     "output_type": "execute_result"
    }
   ],
   "source": [
    "alt.Chart(antibiotics, title='Resistencia a la penicilina de las cepas bacterianas').mark_rect().encode(\n",
    "    alt.Y('Bacteria:N',\n",
    "      sort=alt.EncodingSortField(field='Penicillin', op='max', order='descending'),\n",
    "      axis=alt.Axis(orient='right', title=None)\n",
    "    ),\n",
    "    alt.Color('Penicillin:Q',\n",
    "      scale=alt.Scale(type='log', scheme='plasma', nice=True),\n",
    "      legend=alt.Legend(titleOrient='right', tickCount=5),\n",
    "      title='Penicillina MIC (μg/ml)'\n",
    "    )\n",
    ").configure_title(\n",
    "  anchor='start', # anchor and left-align title\n",
    "  offset=5        # set title offset from chart\n",
    ")"
   ]
  },
  {
   "cell_type": "markdown",
   "metadata": {
    "colab_type": "text",
    "id": "0yZWjogLK8yz"
   },
   "outputs": [],
   "source": [
    "## Resumen\n",
    "\n",
    "Integrando lo que hemos aprendido en los *notebooks* hasta ahora sobre codificaciones, transformaciones de datos y personalización, ahora deberías estar preparado para crear una amplia variedad de gráficos estadísticos. ¡Ahora puedes poner Altair en uso diario para explorar y comunicar datos!\n",
    "\n",
    "¿Interesado en aprender más sobre este tema?\n",
    "\n",
    "- Incia con [Altair Customizing Visualizations documentation](https://altair-viz.github.io/user_guide/customization.html).\n",
    "- Para una discusión complemente acerca de los mapeos de escala, mira [\"Introducing d3-scale\"](https://medium.com/@mbostock/introducing-d3-scale-61980c51545f).\n",
    "- Para una exploración más profunda de todas las formas en que los ejes y leyendas pueden ser estilizados por la biblioteca Vega (que alimenta a Altair y Vega-Lite), mira [\"A Guide to Guides: Axes & Legends in Vega\"](https://beta.observablehq.com/@jheer/a-guide-to-guides-axes-legends-in-vega).\n",
    "- Para una historia fascinante del conjunto de datos de los antibióticos, mira [Wainer &amp; Lysen's \"That's Funny...\"](https://www.americanscientist.org/article/thats-funny) en la revisata _American Scientist_."
   ]
  }
 ],
 "metadata": {
  "kernelspec": {
   "display_name": "Python 3",
   "language": "python",
   "name": "python3"
  },
  "language_info": {
   "codemirror_mode": {
    "name": "ipython",
    "version": 3
   },
   "file_extension": ".py",
   "mimetype": "text/x-python",
   "name": "python",
   "nbconvert_exporter": "python",
   "pygments_lexer": "ipython3",
   "version": "3.7.0"
  }
 },
 "nbformat": 4,
 "nbformat_minor": 4
}