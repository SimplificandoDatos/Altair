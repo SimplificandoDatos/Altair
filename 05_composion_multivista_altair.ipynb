{
 "cells": [
  {
   "cell_type": "markdown",
   "metadata": {
    "colab_type": "text",
    "id": "TCXpDyvdn_XX"
   },
   "outputs": [],
   "source": [
    "# Composición Multivista\n",
    "\n",
    "Cuando visualizamos una serie de datos con distintos campos de información, podríamos estar tentados a utilizar tantos canales de codificación visual como podamos: `x`, `y`, `color`, `size`, `shape`, y así sucesivamente. Sin embargo, a medida que aumenta el número de canales de codificación, un gráfico puede volverse rápidamente desordenado y difícil de leer. Una alternativa a la \"sobrecarga\" de un único gráfico es _componer múltiples gráficos (compose multiple charts)_ de manera que se faciliten las comparaciones rápidas.\n",
    "\n",
    "En este *notebook*, examinaremos una variedad de operaciones para _composición multivista (multi-view composition)_:\n",
    "\n",
    "- _layer_: colocar las gráficas compatibles directamente una encima de la otra,\n",
    "- _facet_: dividir los datos en múltiples gráficos, organizados en filas o columnas,\n",
    "- _concatenate_: posicionar gráficas arbitrarias dentro de un diseño compartido, y\n",
    "- _repeat_: tomar una especificación de una gráfica base y aplicarla a múltiples campos de datos.\n",
    "\n",
    "Luego veremos cómo estas operaciones forman un _álgebra de composición de visualización_, en la que las operaciones pueden combinarse para construir una variedad de despliegues de múltiples vistas.\n",
    "\n",
    "_Este notebook es una traduccion y modificación del notebook **\"Introduction to Vega-Lite / Altair\"** , el cual es parte de [data visualization curriculum](https://github.com/uwdata/visualization-curriculum)._\n",
    "\n",
    "_Todos los notebooks en español se encuentran en: [Altair en Simplificando Datos](https://github.com/SimplificandoDatos/Altair)_"
   ]
  },
  {
   "cell_type": "code",
   "execution_count": 1,
   "metadata": {},
   "outputs": [],
   "source": [
    "import pandas as pd\n",
    "\n",
    "import altair as alt"
   ]
  },
  {
   "cell_type": "markdown",
   "metadata": {
    "colab_type": "text",
    "id": "gaYNlguioJYK"
   },
   "outputs": [],
   "source": [
    "## Datos del tiempo (meteorológico)\n",
    "\n",
    "Visualizaremos estadísticas del tiempo para las ciudades de Settle y New York en E.E.U.U. Carguemos los datos y demos un vistaso de las primeras diez filas:"
   ]
  },
  {
   "cell_type": "code",
   "execution_count": 2,
   "metadata": {},
   "outputs": [],
   "source": [
    "weather = 'https://vega.github.io/vega-datasets/data/weather.csv'"
   ]
  },
  {
   "cell_type": "code",
   "execution_count": 3,
   "metadata": {},
   "outputs": [
    {
     "data": {
      "text/html": "<div>\n<style scoped>\n    .dataframe tbody tr th:only-of-type {\n        vertical-align: middle;\n    }\n\n    .dataframe tbody tr th {\n        vertical-align: top;\n    }\n\n    .dataframe thead th {\n        text-align: right;\n    }\n</style>\n<table border=\"1\" class=\"dataframe\">\n  <thead>\n    <tr style=\"text-align: right;\">\n      <th></th>\n      <th>location</th>\n      <th>date</th>\n      <th>precipitation</th>\n      <th>temp_max</th>\n      <th>temp_min</th>\n      <th>wind</th>\n      <th>weather</th>\n    </tr>\n  </thead>\n  <tbody>\n    <tr>\n      <th>0</th>\n      <td>Seattle</td>\n      <td>2012-01-01</td>\n      <td>0.0</td>\n      <td>12.8</td>\n      <td>5.0</td>\n      <td>4.7</td>\n      <td>drizzle</td>\n    </tr>\n    <tr>\n      <th>1</th>\n      <td>Seattle</td>\n      <td>2012-01-02</td>\n      <td>10.9</td>\n      <td>10.6</td>\n      <td>2.8</td>\n      <td>4.5</td>\n      <td>rain</td>\n    </tr>\n    <tr>\n      <th>2</th>\n      <td>Seattle</td>\n      <td>2012-01-03</td>\n      <td>0.8</td>\n      <td>11.7</td>\n      <td>7.2</td>\n      <td>2.3</td>\n      <td>rain</td>\n    </tr>\n    <tr>\n      <th>3</th>\n      <td>Seattle</td>\n      <td>2012-01-04</td>\n      <td>20.3</td>\n      <td>12.2</td>\n      <td>5.6</td>\n      <td>4.7</td>\n      <td>rain</td>\n    </tr>\n    <tr>\n      <th>4</th>\n      <td>Seattle</td>\n      <td>2012-01-05</td>\n      <td>1.3</td>\n      <td>8.9</td>\n      <td>2.8</td>\n      <td>6.1</td>\n      <td>rain</td>\n    </tr>\n    <tr>\n      <th>5</th>\n      <td>Seattle</td>\n      <td>2012-01-06</td>\n      <td>2.5</td>\n      <td>4.4</td>\n      <td>2.2</td>\n      <td>2.2</td>\n      <td>rain</td>\n    </tr>\n    <tr>\n      <th>6</th>\n      <td>Seattle</td>\n      <td>2012-01-07</td>\n      <td>0.0</td>\n      <td>7.2</td>\n      <td>2.8</td>\n      <td>2.3</td>\n      <td>rain</td>\n    </tr>\n    <tr>\n      <th>7</th>\n      <td>Seattle</td>\n      <td>2012-01-08</td>\n      <td>0.0</td>\n      <td>10.0</td>\n      <td>2.8</td>\n      <td>2.0</td>\n      <td>sun</td>\n    </tr>\n    <tr>\n      <th>8</th>\n      <td>Seattle</td>\n      <td>2012-01-09</td>\n      <td>4.3</td>\n      <td>9.4</td>\n      <td>5.0</td>\n      <td>3.4</td>\n      <td>rain</td>\n    </tr>\n    <tr>\n      <th>9</th>\n      <td>Seattle</td>\n      <td>2012-01-10</td>\n      <td>1.0</td>\n      <td>6.1</td>\n      <td>0.6</td>\n      <td>3.4</td>\n      <td>rain</td>\n    </tr>\n  </tbody>\n</table>\n</div>",
      "text/plain": "  location        date  precipitation  temp_max  temp_min  wind  weather\n0  Seattle  2012-01-01            0.0      12.8       5.0   4.7  drizzle\n1  Seattle  2012-01-02           10.9      10.6       2.8   4.5     rain\n2  Seattle  2012-01-03            0.8      11.7       7.2   2.3     rain\n3  Seattle  2012-01-04           20.3      12.2       5.6   4.7     rain\n4  Seattle  2012-01-05            1.3       8.9       2.8   6.1     rain\n5  Seattle  2012-01-06            2.5       4.4       2.2   2.2     rain\n6  Seattle  2012-01-07            0.0       7.2       2.8   2.3     rain\n7  Seattle  2012-01-08            0.0      10.0       2.8   2.0      sun\n8  Seattle  2012-01-09            4.3       9.4       5.0   3.4     rain\n9  Seattle  2012-01-10            1.0       6.1       0.6   3.4     rain"
     },
     "execution_count": 3,
     "metadata": {},
     "output_type": "execute_result"
    }
   ],
   "source": [
    "df = pd.read_csv(weather)\n",
    "df.head(10)"
   ]
  },
  {
   "cell_type": "code",
   "execution_count": 4,
   "metadata": {},
   "outputs": [
    {
     "data": {
      "text/html": "<div>\n<style scoped>\n    .dataframe tbody tr th:only-of-type {\n        vertical-align: middle;\n    }\n\n    .dataframe tbody tr th {\n        vertical-align: top;\n    }\n\n    .dataframe thead th {\n        text-align: right;\n    }\n</style>\n<table border=\"1\" class=\"dataframe\">\n  <thead>\n    <tr style=\"text-align: right;\">\n      <th></th>\n      <th>location</th>\n      <th>date</th>\n      <th>precipitation</th>\n      <th>temp_max</th>\n      <th>temp_min</th>\n      <th>wind</th>\n      <th>weather</th>\n    </tr>\n  </thead>\n  <tbody>\n    <tr>\n      <th>2912</th>\n      <td>New York</td>\n      <td>2015-12-22</td>\n      <td>4.8</td>\n      <td>15.6</td>\n      <td>11.1</td>\n      <td>3.8</td>\n      <td>fog</td>\n    </tr>\n    <tr>\n      <th>2913</th>\n      <td>New York</td>\n      <td>2015-12-23</td>\n      <td>29.5</td>\n      <td>17.2</td>\n      <td>8.9</td>\n      <td>4.5</td>\n      <td>fog</td>\n    </tr>\n    <tr>\n      <th>2914</th>\n      <td>New York</td>\n      <td>2015-12-24</td>\n      <td>0.5</td>\n      <td>20.6</td>\n      <td>13.9</td>\n      <td>4.9</td>\n      <td>fog</td>\n    </tr>\n    <tr>\n      <th>2915</th>\n      <td>New York</td>\n      <td>2015-12-25</td>\n      <td>2.5</td>\n      <td>17.8</td>\n      <td>11.1</td>\n      <td>0.9</td>\n      <td>fog</td>\n    </tr>\n    <tr>\n      <th>2916</th>\n      <td>New York</td>\n      <td>2015-12-26</td>\n      <td>0.3</td>\n      <td>15.6</td>\n      <td>9.4</td>\n      <td>4.8</td>\n      <td>drizzle</td>\n    </tr>\n    <tr>\n      <th>2917</th>\n      <td>New York</td>\n      <td>2015-12-27</td>\n      <td>2.0</td>\n      <td>17.2</td>\n      <td>8.9</td>\n      <td>5.5</td>\n      <td>fog</td>\n    </tr>\n    <tr>\n      <th>2918</th>\n      <td>New York</td>\n      <td>2015-12-28</td>\n      <td>1.3</td>\n      <td>8.9</td>\n      <td>1.7</td>\n      <td>6.3</td>\n      <td>snow</td>\n    </tr>\n    <tr>\n      <th>2919</th>\n      <td>New York</td>\n      <td>2015-12-29</td>\n      <td>16.8</td>\n      <td>9.4</td>\n      <td>1.1</td>\n      <td>5.3</td>\n      <td>fog</td>\n    </tr>\n    <tr>\n      <th>2920</th>\n      <td>New York</td>\n      <td>2015-12-30</td>\n      <td>9.4</td>\n      <td>10.6</td>\n      <td>5.0</td>\n      <td>3.0</td>\n      <td>fog</td>\n    </tr>\n    <tr>\n      <th>2921</th>\n      <td>New York</td>\n      <td>2015-12-31</td>\n      <td>1.5</td>\n      <td>11.1</td>\n      <td>6.1</td>\n      <td>5.5</td>\n      <td>fog</td>\n    </tr>\n  </tbody>\n</table>\n</div>",
      "text/plain": "      location        date  precipitation  temp_max  temp_min  wind  weather\n2912  New York  2015-12-22            4.8      15.6      11.1   3.8      fog\n2913  New York  2015-12-23           29.5      17.2       8.9   4.5      fog\n2914  New York  2015-12-24            0.5      20.6      13.9   4.9      fog\n2915  New York  2015-12-25            2.5      17.8      11.1   0.9      fog\n2916  New York  2015-12-26            0.3      15.6       9.4   4.8  drizzle\n2917  New York  2015-12-27            2.0      17.2       8.9   5.5      fog\n2918  New York  2015-12-28            1.3       8.9       1.7   6.3     snow\n2919  New York  2015-12-29           16.8       9.4       1.1   5.3      fog\n2920  New York  2015-12-30            9.4      10.6       5.0   3.0      fog\n2921  New York  2015-12-31            1.5      11.1       6.1   5.5      fog"
     },
     "execution_count": 4,
     "metadata": {},
     "output_type": "execute_result"
    }
   ],
   "source": [
    "df.tail(10)"
   ]
  },
  {
   "cell_type": "markdown",
   "metadata": {
    "colab_type": "text",
    "id": "TKyMsDCoPxiC"
   },
   "outputs": [],
   "source": [
    "Crearemos despliegues multivista para examinar el tiempo en y entre las ciudades."
   ]
  },
  {
   "cell_type": "markdown",
   "metadata": {
    "colab_type": "text",
    "id": "KicCeq0Gpm_j"
   },
   "outputs": [],
   "source": [
    "## Layer (Capa)"
   ]
  },
  {
   "cell_type": "markdown",
   "metadata": {},
   "outputs": [],
   "source": [
    "Una de las formas más comunes de combinar varios gráficos es colocar los marcadores en *capas (layers)* una encima de la otra. Si los dominios de escala subyacentes son compatibles, podemos fusionarlos para formar _ejes compartidos (shared axes)_. Si cualquiera de las codificaciones `x` o `y` no es compatible, podríamos crear un _gráfico de eje dual (dual-axis chart)_, que superpone los marcadores usando escalas y ejes separados."
   ]
  },
  {
   "cell_type": "markdown",
   "metadata": {
    "colab_type": "text",
    "id": "Jc4hle6Npoij"
   },
   "outputs": [],
   "source": [
    "### Shared Axes (Ejes compartidos)"
   ]
  },
  {
   "cell_type": "markdown",
   "metadata": {
    "colab_type": "text",
    "id": "nChT_olsQ8vX"
   },
   "outputs": [],
   "source": [
    "Comencemos graficando el promedio de la temperatura mínima y máxima por mes:"
   ]
  },
  {
   "cell_type": "code",
   "execution_count": 5,
   "metadata": {},
   "outputs": [
    {
     "data": {
      "application/vnd.vegalite.v3+json": {
       "$schema": "https://vega.github.io/schema/vega-lite/v3.4.0.json",
       "config": {
        "mark": {
         "tooltip": null
        },
        "view": {
         "height": 300,
         "width": 400
        }
       },
       "data": {
        "url": "https://vega.github.io/vega-datasets/data/weather.csv"
       },
       "encoding": {
        "x": {
         "field": "date",
         "timeUnit": "month",
         "title": "Mes",
         "type": "temporal"
        },
        "y": {
         "aggregate": "average",
         "field": "temp_max",
         "title": "Promedio de la temperatura máxima y mínima",
         "type": "quantitative"
        },
        "y2": {
         "aggregate": "average",
         "field": "temp_min"
        }
       },
       "mark": "area"
      },
      "text/plain": "<VegaLite 3 object>\n\nIf you see this message, it means the renderer has not been properly enabled\nfor the frontend that you are using. For more information, see\nhttps://altair-viz.github.io/user_guide/troubleshooting.html\n"
     },
     "execution_count": 5,
     "metadata": {},
     "output_type": "execute_result"
    }
   ],
   "source": [
    "alt.Chart(weather).mark_area().encode(\n",
    "  alt.X('month(date):T',\n",
    "  title= 'Mes'),\n",
    "  alt.Y('average(temp_max):Q',\n",
    "  title = 'Promedio de la temperatura máxima y mínima'),\n",
    "  alt.Y2('average(temp_min):Q')\n",
    ")"
   ]
  },
  {
   "cell_type": "markdown",
   "metadata": {
    "colab_type": "text",
    "id": "Bl1XIaeqSrzl"
   },
   "outputs": [],
   "source": [
    "_La gráfica nos muestra los rangos de temperatura para cada mes en la totalidad de nuestros datos. ¡Sin embargo, esto es bastante impreciso ya que combina los datos tanto de Seattle como de New York!_\n",
    "\n",
    "Separemos los datos por ciudad usando el color como codificador, mientras que también ajustamos la opacidad del marcador para distinguir las áreas que se superponen:"
   ]
  },
  {
   "cell_type": "code",
   "execution_count": 6,
   "metadata": {},
   "outputs": [
    {
     "data": {
      "application/vnd.vegalite.v3+json": {
       "$schema": "https://vega.github.io/schema/vega-lite/v3.4.0.json",
       "config": {
        "mark": {
         "tooltip": null
        },
        "view": {
         "height": 300,
         "width": 400
        }
       },
       "data": {
        "url": "https://vega.github.io/vega-datasets/data/weather.csv"
       },
       "encoding": {
        "color": {
         "field": "location",
         "title": "Ciudad",
         "type": "nominal"
        },
        "x": {
         "field": "date",
         "timeUnit": "month",
         "title": "Mes",
         "type": "temporal"
        },
        "y": {
         "aggregate": "average",
         "field": "temp_max",
         "title": "Promedio de la temperatura máxima y mínima",
         "type": "quantitative"
        },
        "y2": {
         "aggregate": "average",
         "field": "temp_min"
        }
       },
       "mark": {
        "opacity": 0.3,
        "type": "area"
       }
      },
      "text/plain": "<VegaLite 3 object>\n\nIf you see this message, it means the renderer has not been properly enabled\nfor the frontend that you are using. For more information, see\nhttps://altair-viz.github.io/user_guide/troubleshooting.html\n"
     },
     "execution_count": 6,
     "metadata": {},
     "output_type": "execute_result"
    }
   ],
   "source": [
    "alt.Chart(weather).mark_area(opacity=0.3).encode(\n",
    "  alt.X('month(date):T',\n",
    "  title='Mes'),\n",
    "  alt.Y('average(temp_max):Q',\n",
    "  title = 'Promedio de la temperatura máxima y mínima'),\n",
    "  alt.Y2('average(temp_min):Q'),\n",
    "  alt.Color('location:N',\n",
    "  title='Ciudad')\n",
    ")"
   ]
  },
  {
   "cell_type": "markdown",
   "metadata": {
    "colab_type": "text",
    "id": "j30cu2YmTW8g"
   },
   "outputs": [],
   "source": [
    "_Vemos que Seattle es más templado: más cálido en invierno y más fresco en verano._\n",
    "\n",
    "En este caso hemos creado un gráfico por capas sin ninguna característica especial, simplemente subdividiendo los marcadores de área por color. Mientras que la gráfica de arriba nos muestra los rangos de temperatura, es posible que también queramos enfatizar la mitad del rango.\n",
    "\n",
    "Vamos a crear un gráfico de líneas que muestre el punto medio de la temperatura media. Usaremos una transformación `calculate` para calcular los puntos medios entre las temperaturas mínimas y máximas diarias:"
   ]
  },
  {
   "cell_type": "code",
   "execution_count": 7,
   "metadata": {},
   "outputs": [
    {
     "data": {
      "application/vnd.vegalite.v3+json": {
       "$schema": "https://vega.github.io/schema/vega-lite/v3.4.0.json",
       "config": {
        "mark": {
         "tooltip": null
        },
        "view": {
         "height": 300,
         "width": 400
        }
       },
       "data": {
        "url": "https://vega.github.io/vega-datasets/data/weather.csv"
       },
       "encoding": {
        "color": {
         "field": "location",
         "title": "Ciudad",
         "type": "nominal"
        },
        "x": {
         "field": "date",
         "timeUnit": "month",
         "title": "Mes",
         "type": "temporal"
        },
        "y": {
         "aggregate": "average",
         "field": "temp_mid",
         "title": "Promedio del punto medio de la temperatura",
         "type": "quantitative"
        }
       },
       "mark": "line",
       "transform": [
        {
         "as": "temp_mid",
         "calculate": "(+datum.temp_min + +datum.temp_max) / 2"
        }
       ]
      },
      "text/plain": "<VegaLite 3 object>\n\nIf you see this message, it means the renderer has not been properly enabled\nfor the frontend that you are using. For more information, see\nhttps://altair-viz.github.io/user_guide/troubleshooting.html\n"
     },
     "execution_count": 7,
     "metadata": {},
     "output_type": "execute_result"
    }
   ],
   "source": [
    "alt.Chart(weather).mark_line().transform_calculate(\n",
    "  temp_mid='(+datum.temp_min + +datum.temp_max) / 2'\n",
    ").encode(\n",
    "  alt.X('month(date):T',\n",
    "  title='Mes'),\n",
    "  alt.Y('average(temp_mid):Q',\n",
    "  title = 'Promedio del punto medio de la temperatura'),\n",
    "  alt.Color('location:N',\n",
    "  title='Ciudad')\n",
    ")"
   ]
  },
  {
   "cell_type": "markdown",
   "metadata": {
    "colab_type": "text",
    "id": "fQ8IMV3IUfYg"
   },
   "outputs": [],
   "source": [
    "_Nota_: observe el uso de `+datum.temp_min` dentro de la transformación de cálculo. Como estamos cargando los datos directamente desde un archivo CSV sin instrucciones especiales de análisis, los valores de temperatura pueden estar representados internamente como texto. Agregar el `+` delante del valor obliga a que sea tratado como un número.\n",
    "\n",
    "Ahora nos gustaría combinar estos gráficos superponiendo las líneas del punto medio sobre las áreas de rango. Usando la sintaxis `chart1 + chart2`, podemos especificar que queremos un nuevo gráfico en capas en el que `chart1` es la primera capa y `chart2` es una segunda capa dibujada encima:"
   ]
  },
  {
   "cell_type": "code",
   "execution_count": 8,
   "metadata": {},
   "outputs": [
    {
     "data": {
      "application/vnd.vegalite.v3+json": {
       "$schema": "https://vega.github.io/schema/vega-lite/v3.4.0.json",
       "config": {
        "mark": {
         "tooltip": null
        },
        "view": {
         "height": 300,
         "width": 400
        }
       },
       "data": {
        "url": "https://vega.github.io/vega-datasets/data/weather.csv"
       },
       "layer": [
        {
         "encoding": {
          "color": {
           "field": "location",
           "title": "Ciudad",
           "type": "nominal"
          },
          "x": {
           "field": "date",
           "timeUnit": "month",
           "title": "Mes",
           "type": "temporal"
          },
          "y": {
           "aggregate": "average",
           "field": "temp_max",
           "title": "Promedio de la temperatura máxima y mínima",
           "type": "quantitative"
          },
          "y2": {
           "aggregate": "average",
           "field": "temp_min"
          }
         },
         "mark": {
          "opacity": 0.3,
          "type": "area"
         }
        },
        {
         "encoding": {
          "color": {
           "field": "location",
           "type": "nominal"
          },
          "x": {
           "field": "date",
           "timeUnit": "month",
           "type": "temporal"
          },
          "y": {
           "aggregate": "average",
           "field": "temp_mid",
           "title": "Promedio del punto medio de la temperatura",
           "type": "quantitative"
          }
         },
         "height": 450,
         "mark": "line",
         "transform": [
          {
           "as": "temp_mid",
           "calculate": "(+datum.temp_min + +datum.temp_max) / 2"
          }
         ],
         "width": 450
        }
       ]
      },
      "text/plain": "<VegaLite 3 object>\n\nIf you see this message, it means the renderer has not been properly enabled\nfor the frontend that you are using. For more information, see\nhttps://altair-viz.github.io/user_guide/troubleshooting.html\n"
     },
     "execution_count": 8,
     "metadata": {},
     "output_type": "execute_result"
    }
   ],
   "source": [
    "tempMinMax = alt.Chart(weather).mark_area(opacity=0.3).encode(\n",
    "  alt.X('month(date):T',\n",
    "  title='Mes'),\n",
    "  alt.Y('average(temp_max):Q',\n",
    "  title = 'Promedio de la temperatura máxima y mínima'),\n",
    "  alt.Y2('average(temp_min):Q'),\n",
    "  alt.Color('location:N',\n",
    "  title='Ciudad')\n",
    ")\n",
    "\n",
    "tempMid = alt.Chart(weather).mark_line().transform_calculate(\n",
    "  temp_mid='(+datum.temp_min + +datum.temp_max) / 2'\n",
    ").encode(\n",
    "  alt.X('month(date):T'),\n",
    "  alt.Y('average(temp_mid):Q',\n",
    "  title = 'Promedio del punto medio de la temperatura'),\n",
    "  alt.Color('location:N')\n",
    ").properties(\n",
    "  width=450,\n",
    "  height=450\n",
    ")\n",
    "\n",
    "tempMinMax + tempMid"
   ]
  },
  {
   "cell_type": "markdown",
   "metadata": {
    "colab_type": "text",
    "id": "CrA84n7W2mUi"
   },
   "outputs": [],
   "source": [
    "_¡Ahora tenemos una gráfica de varias capas! Sin embargo, el título del eje `y` (aunque informativo) se ha vuelto un poco largo e inmanejable..._\n",
    "\n",
    "Vamos a personalizar nuestros ejes para limpiar la gráfica. Si establecemos un título de eje personalizado dentro de una de las capas, se utilizará automáticamente como título de eje compartido para todas las capas:"
   ]
  },
  {
   "cell_type": "code",
   "execution_count": 9,
   "metadata": {},
   "outputs": [
    {
     "data": {
      "application/vnd.vegalite.v3+json": {
       "$schema": "https://vega.github.io/schema/vega-lite/v3.4.0.json",
       "config": {
        "mark": {
         "tooltip": null
        },
        "view": {
         "height": 300,
         "width": 400
        }
       },
       "data": {
        "url": "https://vega.github.io/vega-datasets/data/weather.csv"
       },
       "layer": [
        {
         "encoding": {
          "color": {
           "field": "location",
           "title": "Ciudad",
           "type": "nominal"
          },
          "x": {
           "axis": {
            "format": "%b"
           },
           "field": "date",
           "timeUnit": "month",
           "title": null,
           "type": "temporal"
          },
          "y": {
           "aggregate": "average",
           "field": "temp_max",
           "title": "Temperatura promedio °C",
           "type": "quantitative"
          },
          "y2": {
           "aggregate": "average",
           "field": "temp_min"
          }
         },
         "mark": {
          "opacity": 0.3,
          "type": "area"
         }
        },
        {
         "encoding": {
          "color": {
           "field": "location",
           "type": "nominal"
          },
          "x": {
           "field": "date",
           "timeUnit": "month",
           "type": "temporal"
          },
          "y": {
           "aggregate": "average",
           "field": "temp_mid",
           "type": "quantitative"
          }
         },
         "mark": "line",
         "transform": [
          {
           "as": "temp_mid",
           "calculate": "(+datum.temp_min + +datum.temp_max) / 2"
          }
         ]
        }
       ]
      },
      "text/plain": "<VegaLite 3 object>\n\nIf you see this message, it means the renderer has not been properly enabled\nfor the frontend that you are using. For more information, see\nhttps://altair-viz.github.io/user_guide/troubleshooting.html\n"
     },
     "execution_count": 9,
     "metadata": {},
     "output_type": "execute_result"
    }
   ],
   "source": [
    "tempMinMax = alt.Chart(weather).mark_area(opacity=0.3).encode(\n",
    "  alt.X('month(date):T', title=None, axis=alt.Axis(format='%b')),\n",
    "  alt.Y('average(temp_max):Q', title='Temperatura promedio °C'),\n",
    "  alt.Y2('average(temp_min):Q'),\n",
    "  alt.Color('location:N',\n",
    "  title='Ciudad')\n",
    ")\n",
    "\n",
    "tempMid = alt.Chart(weather).mark_line().transform_calculate(\n",
    "  temp_mid='(+datum.temp_min + +datum.temp_max) / 2'\n",
    ").encode(\n",
    "  alt.X('month(date):T'),\n",
    "  alt.Y('average(temp_mid):Q'),\n",
    "  alt.Color('location:N')\n",
    ")\n",
    "\n",
    "tempMinMax + tempMid"
   ]
  },
  {
   "cell_type": "markdown",
   "metadata": {
    "colab_type": "text",
    "id": "jb405Vkd3dFh"
   },
   "outputs": [],
   "source": [
    "Arriba usamos el operador `+`, un atajo conveniente para el método `layer` de Altair. Podemos generar una gráfica identica usando el método `layer` directamente:"
   ]
  },
  {
   "cell_type": "code",
   "execution_count": 10,
   "metadata": {},
   "outputs": [
    {
     "data": {
      "application/vnd.vegalite.v3+json": {
       "$schema": "https://vega.github.io/schema/vega-lite/v3.4.0.json",
       "config": {
        "mark": {
         "tooltip": null
        },
        "view": {
         "height": 300,
         "width": 400
        }
       },
       "data": {
        "url": "https://vega.github.io/vega-datasets/data/weather.csv"
       },
       "layer": [
        {
         "encoding": {
          "color": {
           "field": "location",
           "title": "Ciudad",
           "type": "nominal"
          },
          "x": {
           "axis": {
            "format": "%b"
           },
           "field": "date",
           "timeUnit": "month",
           "title": null,
           "type": "temporal"
          },
          "y": {
           "aggregate": "average",
           "field": "temp_max",
           "title": "Temperatura promedio °C",
           "type": "quantitative"
          },
          "y2": {
           "aggregate": "average",
           "field": "temp_min"
          }
         },
         "mark": {
          "opacity": 0.3,
          "type": "area"
         }
        },
        {
         "encoding": {
          "color": {
           "field": "location",
           "type": "nominal"
          },
          "x": {
           "field": "date",
           "timeUnit": "month",
           "type": "temporal"
          },
          "y": {
           "aggregate": "average",
           "field": "temp_mid",
           "type": "quantitative"
          }
         },
         "mark": "line",
         "transform": [
          {
           "as": "temp_mid",
           "calculate": "(+datum.temp_min + +datum.temp_max) / 2"
          }
         ]
        }
       ]
      },
      "text/plain": "<VegaLite 3 object>\n\nIf you see this message, it means the renderer has not been properly enabled\nfor the frontend that you are using. For more information, see\nhttps://altair-viz.github.io/user_guide/troubleshooting.html\n"
     },
     "execution_count": 10,
     "metadata": {},
     "output_type": "execute_result"
    }
   ],
   "source": [
    "alt.layer(tempMinMax, tempMid)"
   ]
  },
  {
   "cell_type": "markdown",
   "metadata": {
    "colab_type": "text",
    "id": "_QwjqCdm6crv"
   },
   "outputs": [],
   "source": [
    "Ten presente que el orden de las entradas de las capas es importante, ya que las capas subsiguientes se dibujarán sobre las capas anteriores. _Intenta cambiar el orden de los gráficos en las celdas de arriba. ¿Qué es lo que pasa? (Sugerencia: mira de cerca el color de los marcadores `line`)_."
   ]
  },
  {
   "cell_type": "markdown",
   "metadata": {
    "colab_type": "text",
    "id": "WzJf0GAe1pug"
   },
   "outputs": [],
   "source": [
    "### Dual-Axis Charts (Gráficas de doble eje)"
   ]
  },
  {
   "cell_type": "markdown",
   "metadata": {
    "colab_type": "text",
    "id": "C5hcdEdPZddR"
   },
   "outputs": [],
   "source": [
    "_Seattle tiene reputación de una ciudad lluviosa. ¿Es merecida la reputación?_\n",
    "\n",
    "Miremos la precipitación junto con la temperatura para aprender más. Primero creemos una gráfica base para mostrar la precipitación promedio mensual en Seattle:"
   ]
  },
  {
   "cell_type": "code",
   "execution_count": 11,
   "metadata": {},
   "outputs": [
    {
     "data": {
      "application/vnd.vegalite.v3+json": {
       "$schema": "https://vega.github.io/schema/vega-lite/v3.4.0.json",
       "config": {
        "mark": {
         "tooltip": null
        },
        "view": {
         "height": 300,
         "width": 400
        }
       },
       "data": {
        "url": "https://vega.github.io/vega-datasets/data/weather.csv"
       },
       "encoding": {
        "x": {
         "field": "date",
         "timeUnit": "month",
         "title": null,
         "type": "temporal"
        },
        "y": {
         "aggregate": "average",
         "field": "precipitation",
         "title": "Precipitación",
         "type": "quantitative"
        }
       },
       "mark": {
        "interpolate": "monotone",
        "stroke": "grey",
        "type": "line"
       },
       "transform": [
        {
         "filter": "datum.location == \"Seattle\""
        }
       ]
      },
      "text/plain": "<VegaLite 3 object>\n\nIf you see this message, it means the renderer has not been properly enabled\nfor the frontend that you are using. For more information, see\nhttps://altair-viz.github.io/user_guide/troubleshooting.html\n"
     },
     "execution_count": 11,
     "metadata": {},
     "output_type": "execute_result"
    }
   ],
   "source": [
    "alt.Chart(weather).transform_filter(\n",
    "  'datum.location == \"Seattle\"'\n",
    ").mark_line(\n",
    "  interpolate='monotone',\n",
    "  stroke='grey'\n",
    ").encode(\n",
    "  alt.X('month(date):T', title=None),\n",
    "  alt.Y('average(precipitation):Q', title='Precipitación')\n",
    ")"
   ]
  },
  {
   "cell_type": "markdown",
   "metadata": {
    "colab_type": "text",
    "id": "nlcsyvEwaZjm"
   },
   "outputs": [],
   "source": [
    "Para facilitar la comparación con los datos de temperatura, creemos una nueva gráfica en capas. Aquí se muestra lo que sucede si tratamos de construir la gráfica en capas como lo hicimos anteriormente:"
   ]
  },
  {
   "cell_type": "code",
   "execution_count": 12,
   "metadata": {},
   "outputs": [
    {
     "data": {
      "application/vnd.vegalite.v3+json": {
       "$schema": "https://vega.github.io/schema/vega-lite/v3.4.0.json",
       "config": {
        "mark": {
         "tooltip": null
        },
        "view": {
         "height": 300,
         "width": 400
        }
       },
       "data": {
        "url": "https://vega.github.io/vega-datasets/data/weather.csv"
       },
       "layer": [
        {
         "encoding": {
          "x": {
           "axis": {
            "format": "%b"
           },
           "field": "date",
           "timeUnit": "month",
           "title": null,
           "type": "temporal"
          },
          "y": {
           "aggregate": "average",
           "field": "temp_max",
           "title": "Temperatura promedio °C",
           "type": "quantitative"
          },
          "y2": {
           "aggregate": "average",
           "field": "temp_min"
          }
         },
         "mark": {
          "opacity": 0.3,
          "type": "area"
         },
         "transform": [
          {
           "filter": "datum.location == \"Seattle\""
          }
         ]
        },
        {
         "encoding": {
          "x": {
           "field": "date",
           "timeUnit": "month",
           "type": "temporal"
          },
          "y": {
           "aggregate": "average",
           "field": "precipitation",
           "title": "Precipitación",
           "type": "quantitative"
          }
         },
         "mark": {
          "interpolate": "monotone",
          "stroke": "grey",
          "type": "line"
         },
         "transform": [
          {
           "filter": "datum.location == \"Seattle\""
          }
         ]
        }
       ]
      },
      "text/plain": "<VegaLite 3 object>\n\nIf you see this message, it means the renderer has not been properly enabled\nfor the frontend that you are using. For more information, see\nhttps://altair-viz.github.io/user_guide/troubleshooting.html\n"
     },
     "execution_count": 12,
     "metadata": {},
     "output_type": "execute_result"
    }
   ],
   "source": [
    "tempMinMax = alt.Chart(weather).transform_filter(\n",
    "  'datum.location == \"Seattle\"'\n",
    ").mark_area(opacity=0.3).encode(\n",
    "  alt.X('month(date):T', title=None, axis=alt.Axis(format='%b')),\n",
    "  alt.Y('average(temp_max):Q', title='Temperatura promedio °C'),\n",
    "  alt.Y2('average(temp_min):Q')\n",
    ")\n",
    "\n",
    "precip = alt.Chart(weather).transform_filter(\n",
    "  'datum.location == \"Seattle\"'\n",
    ").mark_line(\n",
    "  interpolate='monotone',\n",
    "  stroke='grey'\n",
    ").encode(\n",
    "  alt.X('month(date):T'),\n",
    "  alt.Y('average(precipitation):Q', title='Precipitación')\n",
    ")\n",
    "\n",
    "alt.layer(tempMinMax, precip)"
   ]
  },
  {
   "cell_type": "markdown",
   "metadata": {
    "colab_type": "text",
    "id": "jaRBJcj8bGsY"
   },
   "outputs": [],
   "source": [
    "_¡Los valores de la precipitación usan un rango mucho menor del eje `y` que la temperatura!_\n",
    "\n",
    "Por defecto, las gráficas por capas usan un *dominio compartido*: Los valores para el eje `x` o el `y` se combinan en todas las capas para determinar un rango compartido. Este comportamiento por defecto asume que las capas tienen las mismas unidades ¡Sin embargo, esto no es cierto en nuestro ejemplo, dado que estamos combinando valores de temperatura (grados Celsius) con valores de precipitación (pulgadas)!\n",
    "\n",
    "Si queremos usar una escala diferente para el eje `y`,  necesitamos especificar cómo queremos que Altair *resuelva* los datos a través de las capas. En este caso, queremos resolver que los dominios de `scale` del eje `y` sean independientes (`independent`) en lugar de usar un dominio compartido (`shared`). El objeto `Chart` producido por un operador de capas incluye un método `resolve_scale` con el que podemos especificar la resolución deseada:"
   ]
  },
  {
   "cell_type": "code",
   "execution_count": 13,
   "metadata": {},
   "outputs": [
    {
     "data": {
      "application/vnd.vegalite.v3+json": {
       "$schema": "https://vega.github.io/schema/vega-lite/v3.4.0.json",
       "config": {
        "mark": {
         "tooltip": null
        },
        "view": {
         "height": 300,
         "width": 400
        }
       },
       "data": {
        "url": "https://vega.github.io/vega-datasets/data/weather.csv"
       },
       "layer": [
        {
         "encoding": {
          "x": {
           "axis": {
            "format": "%b"
           },
           "field": "date",
           "timeUnit": "month",
           "title": null,
           "type": "temporal"
          },
          "y": {
           "aggregate": "average",
           "field": "temp_max",
           "title": "Temperatura promedio °C",
           "type": "quantitative"
          },
          "y2": {
           "aggregate": "average",
           "field": "temp_min"
          }
         },
         "mark": {
          "opacity": 0.3,
          "type": "area"
         },
         "transform": [
          {
           "filter": "datum.location == \"Seattle\""
          }
         ]
        },
        {
         "encoding": {
          "x": {
           "field": "date",
           "timeUnit": "month",
           "type": "temporal"
          },
          "y": {
           "aggregate": "average",
           "field": "precipitation",
           "title": "Precipitación",
           "type": "quantitative"
          }
         },
         "mark": {
          "interpolate": "monotone",
          "stroke": "grey",
          "type": "line"
         },
         "transform": [
          {
           "filter": "datum.location == \"Seattle\""
          }
         ]
        }
       ],
       "resolve": {
        "scale": {
         "y": "independent"
        }
       }
      },
      "text/plain": "<VegaLite 3 object>\n\nIf you see this message, it means the renderer has not been properly enabled\nfor the frontend that you are using. For more information, see\nhttps://altair-viz.github.io/user_guide/troubleshooting.html\n"
     },
     "execution_count": 13,
     "metadata": {},
     "output_type": "execute_result"
    }
   ],
   "source": [
    "tempMinMax = alt.Chart(weather).transform_filter(\n",
    "  'datum.location == \"Seattle\"'\n",
    ").mark_area(opacity=0.3).encode(\n",
    "  alt.X('month(date):T', title=None, axis=alt.Axis(format='%b')),\n",
    "  alt.Y('average(temp_max):Q', title='Temperatura promedio °C'),\n",
    "  alt.Y2('average(temp_min):Q')\n",
    ")\n",
    "\n",
    "precip = alt.Chart(weather).transform_filter(\n",
    "  'datum.location == \"Seattle\"'\n",
    ").mark_line(\n",
    "  interpolate='monotone',\n",
    "  stroke='grey'\n",
    ").encode(\n",
    "  alt.X('month(date):T'),\n",
    "  alt.Y('average(precipitation):Q', title='Precipitación')\n",
    ")\n",
    "\n",
    "alt.layer(tempMinMax, precip).resolve_scale(y='independent')"
   ]
  },
  {
   "cell_type": "markdown",
   "metadata": {
    "colab_type": "text",
    "id": "tZ7Pkv4GdG2f"
   },
   "outputs": [],
   "source": [
    "_Ahora podemos ver que el otoño es la estación más lluviosa de Seattle (con un pico en noviembre), complementada por veranos secos._\n",
    "\n",
    "Puede que hayas notado alguna redundancia en nuestras especificaciones de la gráfica anterior: ambas utilizan el mismo conjunto de datos y el mismo filtro para mirar sólo a Seattle. Si lo deseas, puedes simplificar un poco el código proporcionando la transformación de datos y filtros al gráfico en las capas de nivel superior. Las capas individuales heredarán los datos si no tienen sus propias definiciones de datos:"
   ]
  },
  {
   "cell_type": "code",
   "execution_count": 14,
   "metadata": {},
   "outputs": [
    {
     "data": {
      "application/vnd.vegalite.v3+json": {
       "$schema": "https://vega.github.io/schema/vega-lite/v3.4.0.json",
       "config": {
        "mark": {
         "tooltip": null
        },
        "view": {
         "height": 300,
         "width": 400
        }
       },
       "data": {
        "url": "https://vega.github.io/vega-datasets/data/weather.csv"
       },
       "layer": [
        {
         "encoding": {
          "x": {
           "axis": {
            "format": "%b"
           },
           "field": "date",
           "timeUnit": "month",
           "title": null,
           "type": "temporal"
          },
          "y": {
           "aggregate": "average",
           "field": "temp_max",
           "title": "Temperatura promedio °C",
           "type": "quantitative"
          },
          "y2": {
           "aggregate": "average",
           "field": "temp_min"
          }
         },
         "mark": {
          "opacity": 0.3,
          "type": "area"
         }
        },
        {
         "encoding": {
          "x": {
           "field": "date",
           "timeUnit": "month",
           "type": "temporal"
          },
          "y": {
           "aggregate": "average",
           "field": "precipitation",
           "title": "Precipitación",
           "type": "quantitative"
          }
         },
         "mark": {
          "interpolate": "monotone",
          "stroke": "grey",
          "type": "line"
         }
        }
       ],
       "resolve": {
        "scale": {
         "y": "independent"
        }
       },
       "transform": [
        {
         "filter": "datum.location == \"Seattle\""
        }
       ]
      },
      "text/plain": "<VegaLite 3 object>\n\nIf you see this message, it means the renderer has not been properly enabled\nfor the frontend that you are using. For more information, see\nhttps://altair-viz.github.io/user_guide/troubleshooting.html\n"
     },
     "execution_count": 14,
     "metadata": {},
     "output_type": "execute_result"
    }
   ],
   "source": [
    "tempMinMax = alt.Chart().mark_area(opacity=0.3).encode(\n",
    "  alt.X('month(date):T', title=None, axis=alt.Axis(format='%b')),\n",
    "  alt.Y('average(temp_max):Q', title='Temperatura promedio °C'),\n",
    "  alt.Y2('average(temp_min):Q')\n",
    ")\n",
    "\n",
    "precip = alt.Chart().mark_line(\n",
    "  interpolate='monotone',\n",
    "  stroke='grey'\n",
    ").encode(\n",
    "  alt.X('month(date):T'),\n",
    "  alt.Y('average(precipitation):Q', title='Precipitación')\n",
    ")\n",
    "\n",
    "alt.layer(tempMinMax, precip, data=weather).transform_filter(\n",
    "  'datum.location == \"Seattle\"'\n",
    ").resolve_scale(y='independent')"
   ]
  },
  {
   "cell_type": "markdown",
   "metadata": {},
   "outputs": [],
   "source": [
    "Si bien los gráficos de doble eje pueden ser útiles, _a menudo son propensos a interpretaciones erróneas_, ya que las diferentes unidades y escalas de los ejes pueden ser incoherentes. Es factible considerar transformaciones que asignan diferentes campos de datos a unidades compartidas, por ejemplo mostrando [cuantiles](https://es.wikipedia.org/wiki/Cuantil) o cambio porcentual relativo."
   ]
  },
  {
   "cell_type": "markdown",
   "metadata": {},
   "outputs": [],
   "source": [
    "## Facet (Facetas)"
   ]
  },
  {
   "cell_type": "markdown",
   "metadata": {
    "colab_type": "text",
    "id": "eyadekmFptag"
   },
   "outputs": [],
   "source": [
    "*Faceting* implica subdividir un conjunto de datos en grupos y crear una gráfica para cada grupo. En *notebooks* anteriores, aprendimos como crear este tipo de gráficas usando los canales de codificación `row` y `column`. Primero revisaremos estos canales y luego mostraremos como estos son un apartado de el operador `facet` que es más general.\n",
    "\n",
    "Iniciemos con un histograma básico de los valores máximos de temperatura en Seattle:"
   ]
  },
  {
   "cell_type": "code",
   "execution_count": 15,
   "metadata": {},
   "outputs": [
    {
     "data": {
      "application/vnd.vegalite.v3+json": {
       "$schema": "https://vega.github.io/schema/vega-lite/v3.4.0.json",
       "config": {
        "mark": {
         "tooltip": null
        },
        "view": {
         "height": 300,
         "width": 400
        }
       },
       "data": {
        "url": "https://vega.github.io/vega-datasets/data/weather.csv"
       },
       "encoding": {
        "x": {
         "bin": true,
         "field": "temp_max",
         "title": "Temperatura (°C)",
         "type": "quantitative"
        },
        "y": {
         "aggregate": "count",
         "title": "Número de registros",
         "type": "quantitative"
        }
       },
       "mark": "bar",
       "transform": [
        {
         "filter": "datum.location == \"Seattle\""
        }
       ]
      },
      "text/plain": "<VegaLite 3 object>\n\nIf you see this message, it means the renderer has not been properly enabled\nfor the frontend that you are using. For more information, see\nhttps://altair-viz.github.io/user_guide/troubleshooting.html\n"
     },
     "execution_count": 15,
     "metadata": {},
     "output_type": "execute_result"
    }
   ],
   "source": [
    "alt.Chart(weather).mark_bar().transform_filter(\n",
    "  'datum.location == \"Seattle\"'\n",
    ").encode(\n",
    "  alt.X('temp_max:Q', bin=True, title='Temperatura (°C)'),\n",
    "  alt.Y('count():Q',\n",
    "  title='Número de registros')\n",
    ")"
   ]
  },
  {
   "cell_type": "markdown",
   "metadata": {
    "colab_type": "text",
    "id": "Za775__ccf4e"
   },
   "outputs": [],
   "source": [
    "_¿Cómo cambia este perfil de la temperatura basado en el tiempo de un día en particular - es decir, si hubo llovizna, niebla, lluvia, nieve o sol?_\n",
    "\n",
    "Usemos el canal de codificación `column` para separar los datos por el tipo de tiempo. También, podemos usar `color` como un codificador redundante, usando rangos de color personalizados:"
   ]
  },
  {
   "cell_type": "code",
   "execution_count": 16,
   "metadata": {},
   "outputs": [
    {
     "data": {
      "application/vnd.vegalite.v3+json": {
       "$schema": "https://vega.github.io/schema/vega-lite/v3.4.0.json",
       "config": {
        "mark": {
         "tooltip": null
        },
        "view": {
         "height": 300,
         "width": 400
        }
       },
       "data": {
        "url": "https://vega.github.io/vega-datasets/data/weather.csv"
       },
       "encoding": {
        "color": {
         "field": "weather",
         "scale": {
          "domain": [
           "drizzle",
           "fog",
           "rain",
           "snow",
           "sun"
          ],
          "range": [
           "#aec7e8",
           "#c7c7c7",
           "#1f77b4",
           "#9467bd",
           "#e7ba52"
          ]
         },
         "title": "Tiempo",
         "type": "nominal"
        },
        "column": {
         "field": "weather",
         "title": "Tiempo",
         "type": "nominal"
        },
        "x": {
         "bin": true,
         "field": "temp_max",
         "title": "Temperatura (°C)",
         "type": "quantitative"
        },
        "y": {
         "aggregate": "count",
         "title": "Número de registros",
         "type": "quantitative"
        }
       },
       "height": 150,
       "mark": "bar",
       "transform": [
        {
         "filter": "datum.location == \"Seattle\""
        }
       ],
       "width": 150
      },
      "text/plain": "<VegaLite 3 object>\n\nIf you see this message, it means the renderer has not been properly enabled\nfor the frontend that you are using. For more information, see\nhttps://altair-viz.github.io/user_guide/troubleshooting.html\n"
     },
     "execution_count": 16,
     "metadata": {},
     "output_type": "execute_result"
    }
   ],
   "source": [
    "colors = alt.Scale(\n",
    "  domain=['drizzle', 'fog', 'rain', 'snow', 'sun'],\n",
    "  range=['#aec7e8', '#c7c7c7', '#1f77b4', '#9467bd', '#e7ba52']\n",
    ")\n",
    "\n",
    "alt.Chart(weather).mark_bar().transform_filter(\n",
    "  'datum.location == \"Seattle\"'\n",
    ").encode(\n",
    "  alt.X('temp_max:Q', bin=True, title='Temperatura (°C)'),\n",
    "  alt.Y('count():Q',\n",
    "  title='Número de registros'),\n",
    "  alt.Color('weather:N', scale=colors,\n",
    "  title='Tiempo'),\n",
    "  alt.Column('weather:N',\n",
    "  title='Tiempo')\n",
    ").properties(\n",
    "  width=150,\n",
    "  height=150\n",
    ")"
   ]
  },
  {
   "cell_type": "markdown",
   "metadata": {
    "colab_type": "text",
    "id": "lNspGpzQdlI8"
   },
   "outputs": [],
   "source": [
    "_No es de extrañar que esos raros días de nieve se centren en las temperaturas más frías, seguidos de días lluviosos y nebulosos. Los días soleados son más cálidos y a pesar de los estereotipos de Seattle, son los más abundantes. Aunque como cualquier persona de Seattle puede decirte, la llovizna ocasionalmente llega, sin importar la temperatura._"
   ]
  },
  {
   "cell_type": "markdown",
   "metadata": {
    "colab_type": "text",
    "id": "PxQ1VwQjXJZt"
   },
   "outputs": [],
   "source": [
    "Además de los canales de codificación `row` y `column` *adentro* de la definición de la gráfica, podemos tomar una definición básica de la gráfica y aplicar *faceting* usando el operador explícito `facet`.\n",
    "\n",
    "Vamos a recrear la gráfica anterior, pero esta vez usando `facet`. Iniciamos con la misma definición del histograma básico, pero quitamos la fuente de los datos, la transformación de filtro y el canal de la columna. Entonces podemos invocar el método `facet`, pasando los datos y especificando que debemos separarlos en columnas según el campo `weather`. El método `facet` acepta ambos argumentos, `row` y `column`. Los dos pueden utilizarse juntos para crear una gráfica 2D con facetas.\n",
    "\n",
    "Finalmente incluímos nuestra transformación de filtro, aplicandolo  en la gráfica *faceted* de nivel superior. Mientras que podríamos aplicar la transformación de filtro a la definición del histograma como lo hicimos antes, eso es menos eficiente. En lugar de filtrar los valores de \"New York\" dentro de cada celda de la faceta, aplicando el filtro al objeto Chart ya separado permite a Vega-Lite saber que podemos filtrar esos valores, antes de realizar la subdivisión."
   ]
  },
  {
   "cell_type": "code",
   "execution_count": 17,
   "metadata": {},
   "outputs": [
    {
     "data": {
      "application/vnd.vegalite.v3+json": {
       "$schema": "https://vega.github.io/schema/vega-lite/v3.4.0.json",
       "config": {
        "mark": {
         "tooltip": null
        },
        "view": {
         "height": 300,
         "width": 400
        }
       },
       "data": {
        "url": "https://vega.github.io/vega-datasets/data/weather.csv"
       },
       "facet": {
        "column": {
         "field": "weather",
         "type": "nominal"
        }
       },
       "spec": {
        "encoding": {
         "color": {
          "field": "weather",
          "scale": {
           "domain": [
            "drizzle",
            "fog",
            "rain",
            "snow",
            "sun"
           ],
           "range": [
            "#aec7e8",
            "#c7c7c7",
            "#1f77b4",
            "#9467bd",
            "#e7ba52"
           ]
          },
          "title": "Tiempo",
          "type": "nominal"
         },
         "x": {
          "bin": true,
          "field": "temp_max",
          "title": "Temperatura (°C)",
          "type": "quantitative"
         },
         "y": {
          "aggregate": "count",
          "title": "Número de registros",
          "type": "quantitative"
         }
        },
        "height": 150,
        "mark": "bar",
        "width": 150
       },
       "transform": [
        {
         "filter": "datum.location == \"Seattle\""
        }
       ]
      },
      "text/plain": "<VegaLite 3 object>\n\nIf you see this message, it means the renderer has not been properly enabled\nfor the frontend that you are using. For more information, see\nhttps://altair-viz.github.io/user_guide/troubleshooting.html\n"
     },
     "execution_count": 17,
     "metadata": {},
     "output_type": "execute_result"
    }
   ],
   "source": [
    "colors = alt.Scale(\n",
    "  domain=['drizzle', 'fog', 'rain', 'snow', 'sun'],\n",
    "  range=['#aec7e8', '#c7c7c7', '#1f77b4', '#9467bd', '#e7ba52']\n",
    ")\n",
    "\n",
    "alt.Chart().mark_bar().encode(\n",
    "  alt.X('temp_max:Q', bin=True, title='Temperatura (°C)'),\n",
    "  alt.Y('count():Q',\n",
    "  title='Número de registros'),\n",
    "  alt.Color('weather:N', scale=colors,\n",
    "  title='Tiempo')\n",
    ").properties(\n",
    "  width=150,\n",
    "  height=150\n",
    ").facet(\n",
    "  data=weather,\n",
    "  column='weather:N'\n",
    ").transform_filter(\n",
    "  'datum.location == \"Seattle\"'\n",
    ")"
   ]
  },
  {
   "cell_type": "markdown",
   "metadata": {},
   "outputs": [],
   "source": [
    "***Nota de Simplificando Datos:*** Con el método anterior, no pude cambiar el título por defecto de la gráfica para ponerlo en español, así que usé otro método para lograrlo, como se muestra a continuación.\n"
   ]
  },
  {
   "cell_type": "code",
   "execution_count": 18,
   "metadata": {},
   "outputs": [
    {
     "data": {
      "application/vnd.vegalite.v3+json": {
       "$schema": "https://vega.github.io/schema/vega-lite/v3.4.0.json",
       "config": {
        "mark": {
         "tooltip": null
        },
        "view": {
         "height": 300,
         "width": 400
        }
       },
       "data": {
        "url": "https://vega.github.io/vega-datasets/data/weather.csv"
       },
       "facet": {
        "field": "weather",
        "title": "Tiempo",
        "type": "nominal"
       },
       "spec": {
        "encoding": {
         "color": {
          "field": "weather",
          "scale": {
           "domain": [
            "drizzle",
            "fog",
            "rain",
            "snow",
            "sun"
           ],
           "range": [
            "#aec7e8",
            "#c7c7c7",
            "#1f77b4",
            "#9467bd",
            "#e7ba52"
           ]
          },
          "title": "Tiempo",
          "type": "nominal"
         },
         "x": {
          "bin": true,
          "field": "temp_max",
          "title": "Temperatura (°C)",
          "type": "quantitative"
         },
         "y": {
          "aggregate": "count",
          "title": "Número de registros",
          "type": "quantitative"
         }
        },
        "height": 150,
        "mark": "bar",
        "width": 150
       },
       "title": "Tiempo en Seattle",
       "transform": [
        {
         "filter": "datum.location == \"Seattle\""
        }
       ]
      },
      "text/plain": "<VegaLite 3 object>\n\nIf you see this message, it means the renderer has not been properly enabled\nfor the frontend that you are using. For more information, see\nhttps://altair-viz.github.io/user_guide/troubleshooting.html\n"
     },
     "execution_count": 18,
     "metadata": {},
     "output_type": "execute_result"
    }
   ],
   "source": [
    "colors = alt.Scale(\n",
    "  domain=['drizzle', 'fog', 'rain', 'snow', 'sun'],\n",
    "  range=['#aec7e8', '#c7c7c7', '#1f77b4', '#9467bd', '#e7ba52']\n",
    ")\n",
    "\n",
    "alt.Chart().mark_bar().encode(\n",
    "  alt.X('temp_max:Q', bin=True, title='Temperatura (°C)'),\n",
    "  alt.Y('count():Q',\n",
    "  title='Número de registros'),\n",
    "  alt.Color('weather:N', scale=colors,\n",
    "  title='Tiempo')\n",
    ").properties(\n",
    "  width=150,\n",
    "  height=150\n",
    ").facet(\n",
    "  data=weather,\n",
    "  facet=alt.Facet('weather:N', title='Tiempo'),\n",
    "  title='Tiempo en Seattle'\n",
    ").transform_filter(\n",
    "  'datum.location == \"Seattle\"'\n",
    ")"
   ]
  },
  {
   "cell_type": "markdown",
   "metadata": {
    "colab_type": "text",
    "id": "p-2HTw75YmxV"
   },
   "outputs": [],
   "source": [
    "Dado todo el código extra anterior, ¿por qué querríamos usar un operador `facet` explícito? Para los gráficos básicos, sin duda deberíamos usar los canales de codificación de `columna` o `filas`, si podemos. Sin embargo, usar el operador `facet` explícitamente es útil si queremos *facetar* vistas compuestas, tales como gráficos por capas.\n",
    "\n",
    "Volvamos a nuestros gráficos por capas de temperatura de antes. En lugar de graficar los datos de Nueva York y Seattle en el mismo gráfico, dividámoslos en facetas separadas. Las definiciones individuales de los gráficos son casi las mismas que antes: un gráfico de área y un gráfico de líneas. La única diferencia es que esta vez no pasaremos los datos directamente a los constructores de las gráficas; esperaremos y se los pasaremos al operador de facetas más tarde. Podemos colocar los gráficos en capas como antes, luego invocar `facet` en el objeto de gráfico en capas, pasando los datos y especificando las facetas por `column` basadas en el campo `location`:"
   ]
  },
  {
   "cell_type": "code",
   "execution_count": 19,
   "metadata": {},
   "outputs": [
    {
     "data": {
      "application/vnd.vegalite.v3+json": {
       "$schema": "https://vega.github.io/schema/vega-lite/v3.4.0.json",
       "config": {
        "mark": {
         "tooltip": null
        },
        "view": {
         "height": 300,
         "width": 400
        }
       },
       "data": {
        "url": "https://vega.github.io/vega-datasets/data/weather.csv"
       },
       "facet": {
        "column": {
         "field": "location",
         "type": "nominal"
        }
       },
       "spec": {
        "layer": [
         {
          "encoding": {
           "color": {
            "field": "location",
            "type": "nominal"
           },
           "x": {
            "axis": {
             "format": "%b"
            },
            "field": "date",
            "timeUnit": "month",
            "title": null,
            "type": "temporal"
           },
           "y": {
            "aggregate": "average",
            "field": "temp_max",
            "title": "Temperatura promedio °C",
            "type": "quantitative"
           },
           "y2": {
            "aggregate": "average",
            "field": "temp_min"
           }
          },
          "mark": {
           "opacity": 0.3,
           "type": "area"
          }
         },
         {
          "encoding": {
           "color": {
            "field": "location",
            "title": "Ciudad",
            "type": "nominal"
           },
           "x": {
            "field": "date",
            "timeUnit": "month",
            "type": "temporal"
           },
           "y": {
            "aggregate": "average",
            "field": "temp_mid",
            "type": "quantitative"
           }
          },
          "mark": "line",
          "transform": [
           {
            "as": "temp_mid",
            "calculate": "(+datum.temp_min + +datum.temp_max) / 2"
           }
          ]
         }
        ]
       }
      },
      "text/plain": "<VegaLite 3 object>\n\nIf you see this message, it means the renderer has not been properly enabled\nfor the frontend that you are using. For more information, see\nhttps://altair-viz.github.io/user_guide/troubleshooting.html\n"
     },
     "execution_count": 19,
     "metadata": {},
     "output_type": "execute_result"
    }
   ],
   "source": [
    "tempMinMax = alt.Chart().mark_area(opacity=0.3).encode(\n",
    "  alt.X('month(date):T', title=None, axis=alt.Axis(format='%b')),\n",
    "  alt.Y('average(temp_max):Q', title='Temperatura promedio °C'),\n",
    "  alt.Y2('average(temp_min):Q'),\n",
    "  alt.Color('location:N')\n",
    ")\n",
    "\n",
    "tempMid = alt.Chart().mark_line().transform_calculate(\n",
    "  temp_mid='(+datum.temp_min + +datum.temp_max) / 2'\n",
    ").encode(\n",
    "  alt.X('month(date):T'),\n",
    "  alt.Y('average(temp_mid):Q'),\n",
    "  alt.Color('location:N',\n",
    "  title='Ciudad')\n",
    ")\n",
    "\n",
    "alt.layer(tempMinMax, tempMid).facet(\n",
    "  data=weather,\n",
    "  column='location:N',\n",
    ")"
   ]
  },
  {
   "cell_type": "markdown",
   "metadata": {},
   "outputs": [],
   "source": [
    "***Nota de Simplificando Datos:*** También construimos el gráfico anterior de otra manera para colocar el título en español.\n",
    "**En las próximas gráficas ya no haremos este cambio, pero ya sabes que hacer si lo necesitas.**"
   ]
  },
  {
   "cell_type": "code",
   "execution_count": 20,
   "metadata": {},
   "outputs": [
    {
     "data": {
      "application/vnd.vegalite.v3+json": {
       "$schema": "https://vega.github.io/schema/vega-lite/v3.4.0.json",
       "config": {
        "mark": {
         "tooltip": null
        },
        "view": {
         "height": 300,
         "width": 400
        }
       },
       "data": {
        "url": "https://vega.github.io/vega-datasets/data/weather.csv"
       },
       "facet": {
        "field": "location",
        "title": "Ciudad",
        "type": "nominal"
       },
       "spec": {
        "layer": [
         {
          "encoding": {
           "color": {
            "field": "location",
            "type": "nominal"
           },
           "x": {
            "axis": {
             "format": "%b"
            },
            "field": "date",
            "timeUnit": "month",
            "title": null,
            "type": "temporal"
           },
           "y": {
            "aggregate": "average",
            "field": "temp_max",
            "title": "Temperatura promedio °C",
            "type": "quantitative"
           },
           "y2": {
            "aggregate": "average",
            "field": "temp_min"
           }
          },
          "mark": {
           "opacity": 0.3,
           "type": "area"
          }
         },
         {
          "encoding": {
           "color": {
            "field": "location",
            "title": "Ciudad",
            "type": "nominal"
           },
           "x": {
            "field": "date",
            "timeUnit": "month",
            "type": "temporal"
           },
           "y": {
            "aggregate": "average",
            "field": "temp_mid",
            "type": "quantitative"
           }
          },
          "mark": "line",
          "transform": [
           {
            "as": "temp_mid",
            "calculate": "(+datum.temp_min + +datum.temp_max) / 2"
           }
          ]
         }
        ]
       }
      },
      "text/plain": "<VegaLite 3 object>\n\nIf you see this message, it means the renderer has not been properly enabled\nfor the frontend that you are using. For more information, see\nhttps://altair-viz.github.io/user_guide/troubleshooting.html\n"
     },
     "execution_count": 20,
     "metadata": {},
     "output_type": "execute_result"
    }
   ],
   "source": [
    "tempMinMax = alt.Chart().mark_area(opacity=0.3).encode(\n",
    "  alt.X('month(date):T', title=None, axis=alt.Axis(format='%b')),\n",
    "  alt.Y('average(temp_max):Q', title='Temperatura promedio °C'),\n",
    "  alt.Y2('average(temp_min):Q'),\n",
    "  alt.Color('location:N')\n",
    ")\n",
    "\n",
    "tempMid = alt.Chart().mark_line().transform_calculate(\n",
    "  temp_mid='(+datum.temp_min + +datum.temp_max) / 2'\n",
    ").encode(\n",
    "  alt.X('month(date):T'),\n",
    "  alt.Y('average(temp_mid):Q'),\n",
    "  alt.Color('location:N',\n",
    "  title='Ciudad')\n",
    ")\n",
    "\n",
    "alt.layer(tempMinMax, tempMid).facet(\n",
    "  data=weather,\n",
    "  facet=alt.Facet('location:N', title='Ciudad')\n",
    ")"
   ]
  },
  {
   "cell_type": "markdown",
   "metadata": {
    "colab_type": "text",
    "id": "dH3laH2hZ_Er"
   },
   "outputs": [],
   "source": [
    "Las gráficas facetadas que hemos visto hasta ahora usan los mismos dominios de escala de ejes. Este valor predeterminado de usar escalas y ejes *compartidos* ayuda a una comparación precisa de los valores. Sin embargo, en algunos casos es posible que desees escalar cada gráfico de forma independiente, por ejemplo, si el rango de valores en las celdas difiere significativamente.\n",
    "\n",
    "Similar a las gráficas en capas, las gráficas facetadas también soportan _resolving_ a escalas o ejes independientes a través de las gráficas. Veamos qué pasa si llamamos al método `resolve_axis` para solicitar que los ejes-Y sean *independientes* (`independent`):"
   ]
  },
  {
   "cell_type": "code",
   "execution_count": 21,
   "metadata": {},
   "outputs": [
    {
     "data": {
      "application/vnd.vegalite.v3+json": {
       "$schema": "https://vega.github.io/schema/vega-lite/v3.4.0.json",
       "config": {
        "mark": {
         "tooltip": null
        },
        "view": {
         "height": 300,
         "width": 400
        }
       },
       "data": {
        "url": "https://vega.github.io/vega-datasets/data/weather.csv"
       },
       "facet": {
        "column": {
         "field": "location",
         "type": "nominal"
        }
       },
       "resolve": {
        "axis": {
         "y": "independent"
        }
       },
       "spec": {
        "layer": [
         {
          "encoding": {
           "color": {
            "field": "location",
            "title": "Ciudad",
            "type": "nominal"
           },
           "x": {
            "axis": {
             "format": "%b"
            },
            "field": "date",
            "timeUnit": "month",
            "title": null,
            "type": "temporal"
           },
           "y": {
            "aggregate": "average",
            "field": "temp_max",
            "title": "Temperatura promedio °C",
            "type": "quantitative"
           },
           "y2": {
            "aggregate": "average",
            "field": "temp_min"
           }
          },
          "mark": {
           "opacity": 0.3,
           "type": "area"
          }
         },
         {
          "encoding": {
           "color": {
            "field": "location",
            "type": "nominal"
           },
           "x": {
            "field": "date",
            "timeUnit": "month",
            "type": "temporal"
           },
           "y": {
            "aggregate": "average",
            "field": "temp_mid",
            "type": "quantitative"
           }
          },
          "mark": "line",
          "transform": [
           {
            "as": "temp_mid",
            "calculate": "(+datum.temp_min + +datum.temp_max) / 2"
           }
          ]
         }
        ]
       }
      },
      "text/plain": "<VegaLite 3 object>\n\nIf you see this message, it means the renderer has not been properly enabled\nfor the frontend that you are using. For more information, see\nhttps://altair-viz.github.io/user_guide/troubleshooting.html\n"
     },
     "execution_count": 21,
     "metadata": {},
     "output_type": "execute_result"
    }
   ],
   "source": [
    "tempMinMax = alt.Chart().mark_area(opacity=0.3).encode(\n",
    "  alt.X('month(date):T', title=None, axis=alt.Axis(format='%b')),\n",
    "  alt.Y('average(temp_max):Q', title='Temperatura promedio °C'),\n",
    "  alt.Y2('average(temp_min):Q'),\n",
    "  alt.Color('location:N',\n",
    "  title='Ciudad')\n",
    ")\n",
    "\n",
    "tempMid = alt.Chart().mark_line().transform_calculate(\n",
    "  temp_mid='(+datum.temp_min + +datum.temp_max) / 2'\n",
    ").encode(\n",
    "  alt.X('month(date):T'),\n",
    "  alt.Y('average(temp_mid):Q'),\n",
    "  alt.Color('location:N')\n",
    ")\n",
    "\n",
    "alt.layer(tempMinMax, tempMid).facet(\n",
    "  data=weather,\n",
    "  column='location:N'\n",
    ").resolve_axis(y='independent')"
   ]
  },
  {
   "cell_type": "markdown",
   "metadata": {
    "colab_type": "text",
    "id": "J9UK1nYKa2hM"
   },
   "outputs": [],
   "source": [
    "_La gráfica de arriba parece no haber cambiado, pero la gráfica de Seattle ahora incluye su propio eje._\n",
    "\n",
    "¿Qué tal si en su lugar llamamos `resolve_scale` para resolver los dominios de escala que hay debajo?"
   ]
  },
  {
   "cell_type": "code",
   "execution_count": 22,
   "metadata": {},
   "outputs": [
    {
     "data": {
      "application/vnd.vegalite.v3+json": {
       "$schema": "https://vega.github.io/schema/vega-lite/v3.4.0.json",
       "config": {
        "mark": {
         "tooltip": null
        },
        "view": {
         "height": 300,
         "width": 400
        }
       },
       "data": {
        "url": "https://vega.github.io/vega-datasets/data/weather.csv"
       },
       "facet": {
        "column": {
         "field": "location",
         "type": "nominal"
        }
       },
       "resolve": {
        "scale": {
         "y": "independent"
        }
       },
       "spec": {
        "layer": [
         {
          "encoding": {
           "color": {
            "field": "location",
            "title": "Ciudad",
            "type": "nominal"
           },
           "x": {
            "axis": {
             "format": "%b"
            },
            "field": "date",
            "timeUnit": "month",
            "title": null,
            "type": "temporal"
           },
           "y": {
            "aggregate": "average",
            "field": "temp_max",
            "title": "Temperatura promedio °C",
            "type": "quantitative"
           },
           "y2": {
            "aggregate": "average",
            "field": "temp_min"
           }
          },
          "mark": {
           "opacity": 0.3,
           "type": "area"
          }
         },
         {
          "encoding": {
           "color": {
            "field": "location",
            "type": "nominal"
           },
           "x": {
            "field": "date",
            "timeUnit": "month",
            "type": "temporal"
           },
           "y": {
            "aggregate": "average",
            "field": "temp_mid",
            "type": "quantitative"
           }
          },
          "mark": "line",
          "transform": [
           {
            "as": "temp_mid",
            "calculate": "(+datum.temp_min + +datum.temp_max) / 2"
           }
          ]
         }
        ]
       }
      },
      "text/plain": "<VegaLite 3 object>\n\nIf you see this message, it means the renderer has not been properly enabled\nfor the frontend that you are using. For more information, see\nhttps://altair-viz.github.io/user_guide/troubleshooting.html\n"
     },
     "execution_count": 22,
     "metadata": {},
     "output_type": "execute_result"
    }
   ],
   "source": [
    "tempMinMax = alt.Chart().mark_area(opacity=0.3).encode(\n",
    "  alt.X('month(date):T', title=None, axis=alt.Axis(format='%b')),\n",
    "  alt.Y('average(temp_max):Q', title='Temperatura promedio °C'),\n",
    "  alt.Y2('average(temp_min):Q'),\n",
    "  alt.Color('location:N',\n",
    "  title='Ciudad')\n",
    ")\n",
    "\n",
    "tempMid = alt.Chart().mark_line().transform_calculate(\n",
    "  temp_mid='(+datum.temp_min + +datum.temp_max) / 2'\n",
    ").encode(\n",
    "  alt.X('month(date):T'),\n",
    "  alt.Y('average(temp_mid):Q'),\n",
    "  alt.Color('location:N')\n",
    ")\n",
    "\n",
    "alt.layer(tempMinMax, tempMid).facet(\n",
    "  data=weather,\n",
    "  column='location:N'\n",
    ").resolve_scale(y='independent')"
   ]
  },
  {
   "cell_type": "markdown",
   "metadata": {
    "colab_type": "text",
    "id": "m6snDsbnbFho"
   },
   "outputs": [],
   "source": [
    "_Ahora vemos cada gráfica con diferentes dominios de escala de ejes. ¡En este caso, el uso de escalas independientes parece una mala idea! Los dominios no son muy diferentes, y uno podría pensar que Nueva York y Seattle tienen temperaturas máximas similares en verano._\n",
    "\n",
    "Para tomar prestado un cliché: sólo porque *puedes* hacer algo, no significa que *deberías*..."
   ]
  },
  {
   "cell_type": "markdown",
   "metadata": {
    "colab_type": "text",
    "id": "sDyHxrLXpubO"
   },
   "outputs": [],
   "source": [
    "## Concatenate (Concatenar)"
   ]
  },
  {
   "cell_type": "markdown",
   "metadata": {
    "colab_type": "text",
    "id": "kq4iE1w9pxMl"
   },
   "outputs": [],
   "source": [
    "Con *facet* se crean gráficos [small multiple](https://en.wikipedia.org/wiki/Small_multiple)  que muestran subdivisiones separadas de los datos. Sin embargo, es posible que deseemos crear un despliegue multivista con diferentes vistas del mismo conjunto de datos (no subconjuntos) o vistas que incluyan conjuntos de datos *diferentes*.\n",
    "\n",
    "Altair proporciona operadores de *concatenación* para combinar gráficas arbitrarios en una gráfica compuesta. El operador `hconcat` (`|`) realiza la concatenación horizontal, mientras que el operador ``vconcat` (`&`) realiza la concatenación vertical."
   ]
  },
  {
   "cell_type": "markdown",
   "metadata": {
    "colab_type": "text",
    "id": "c_w_BsgFhta8"
   },
   "outputs": [],
   "source": [
    "Iniciemos con un auna gráfica de línea básica, mostrando el promedio de la temperatura máxima por mes, tanto para New York como de Seattle, muy parecidas a las vistas anteriormente:"
   ]
  },
  {
   "cell_type": "code",
   "execution_count": 23,
   "metadata": {},
   "outputs": [
    {
     "data": {
      "application/vnd.vegalite.v3+json": {
       "$schema": "https://vega.github.io/schema/vega-lite/v3.4.0.json",
       "config": {
        "mark": {
         "tooltip": null
        },
        "view": {
         "height": 300,
         "width": 400
        }
       },
       "data": {
        "url": "https://vega.github.io/vega-datasets/data/weather.csv"
       },
       "encoding": {
        "color": {
         "field": "location",
         "title": "Ciudad",
         "type": "nominal"
        },
        "x": {
         "field": "date",
         "timeUnit": "month",
         "title": null,
         "type": "temporal"
        },
        "y": {
         "aggregate": "average",
         "field": "temp_max",
         "title": "Temperatura promedio máxima",
         "type": "quantitative"
        }
       },
       "mark": "line"
      },
      "text/plain": "<VegaLite 3 object>\n\nIf you see this message, it means the renderer has not been properly enabled\nfor the frontend that you are using. For more information, see\nhttps://altair-viz.github.io/user_guide/troubleshooting.html\n"
     },
     "execution_count": 23,
     "metadata": {},
     "output_type": "execute_result"
    }
   ],
   "source": [
    "alt.Chart(weather).mark_line().encode(\n",
    "  alt.X('month(date):T', title=None),\n",
    "  alt.Y('average(temp_max):Q', title = 'Temperatura promedio máxima'),\n",
    "  alt.Color('location:N',\n",
    "  title='Ciudad')\n",
    ")"
   ]
  },
  {
   "cell_type": "markdown",
   "metadata": {
    "colab_type": "text",
    "id": "6-6CLOxgh88q"
   },
   "outputs": [],
   "source": [
    "_¿Y si queremos comparar no solo la temperatura en el tiempo, sino también los niveles de precipitación y la velocidad del vienteo?_\n",
    "\n",
    "Creemos una gráfica concatenada que consista en tres gráficas. Inciemos definiendo una gráfica \"base\" que contenga todos los aspectos que deben compartirse por las tres gráficas. Luego modifiquemos esta gráfica base para crear variantes personalizadas, con diferentes codificaciones del eje Y para los campos `temp_max`, `precipitación` y `wind`. Entonces podemos concatenarlos usando el operador *pipe* (`|`):"
   ]
  },
  {
   "cell_type": "code",
   "execution_count": 24,
   "metadata": {},
   "outputs": [
    {
     "data": {
      "application/vnd.vegalite.v3+json": {
       "$schema": "https://vega.github.io/schema/vega-lite/v3.4.0.json",
       "config": {
        "mark": {
         "tooltip": null
        },
        "view": {
         "height": 300,
         "width": 400
        }
       },
       "data": {
        "url": "https://vega.github.io/vega-datasets/data/weather.csv"
       },
       "hconcat": [
        {
         "encoding": {
          "color": {
           "field": "location",
           "title": "Ciudad",
           "type": "nominal"
          },
          "x": {
           "field": "date",
           "timeUnit": "month",
           "title": null,
           "type": "temporal"
          },
          "y": {
           "aggregate": "average",
           "field": "temp_max",
           "title": "Promedio de temperatur máxima",
           "type": "quantitative"
          }
         },
         "height": 180,
         "mark": "line",
         "width": 240
        },
        {
         "encoding": {
          "color": {
           "field": "location",
           "title": "Ciudad",
           "type": "nominal"
          },
          "x": {
           "field": "date",
           "timeUnit": "month",
           "title": null,
           "type": "temporal"
          },
          "y": {
           "aggregate": "average",
           "field": "precipitation",
           "title": "Promedio de precipitación",
           "type": "quantitative"
          }
         },
         "height": 180,
         "mark": "line",
         "width": 240
        },
        {
         "encoding": {
          "color": {
           "field": "location",
           "title": "Ciudad",
           "type": "nominal"
          },
          "x": {
           "field": "date",
           "timeUnit": "month",
           "title": null,
           "type": "temporal"
          },
          "y": {
           "aggregate": "average",
           "field": "wind",
           "title": "Promedio de velocidad del viento",
           "type": "quantitative"
          }
         },
         "height": 180,
         "mark": "line",
         "width": 240
        }
       ]
      },
      "text/plain": "<VegaLite 3 object>\n\nIf you see this message, it means the renderer has not been properly enabled\nfor the frontend that you are using. For more information, see\nhttps://altair-viz.github.io/user_guide/troubleshooting.html\n"
     },
     "execution_count": 24,
     "metadata": {},
     "output_type": "execute_result"
    }
   ],
   "source": [
    "base = alt.Chart(weather).mark_line().encode(\n",
    "  alt.X('month(date):T', title=None),\n",
    "  alt.Color('location:N',\n",
    "  title='Ciudad')\n",
    ").properties(\n",
    "  width=240,\n",
    "  height=180\n",
    ")\n",
    "\n",
    "temp = base.encode(alt.Y('average(temp_max):Q', title='Promedio de temperatur máxima'))\n",
    "precip = base.encode(alt.Y('average(precipitation):Q', title = 'Promedio de precipitación'))\n",
    "wind = base.encode(alt.Y('average(wind):Q', title='Promedio de velocidad del viento'))\n",
    "\n",
    "temp | precip | wind"
   ]
  },
  {
   "cell_type": "markdown",
   "metadata": {
    "colab_type": "text",
    "id": "YyJN3OIdinC-"
   },
   "outputs": [],
   "source": [
    "Alternativamente, podríamos usar el método más explícito `alt.hconcat()` en lugar del operador *pipe* `|`. _Intenta reescribir el código de arriba para usar `hconcat` en su lugar._\n",
    "\n",
    "La concatenación vertical funciona de manera similar a la concatenación horizontal. _Usando el operador `&` (o método `alt.vconcat`), modifica el código para usar un orden vertical en lugar de uno horizontal._\n",
    "\n",
    "Por último, ten en cuenta que la concatenación horizontal y vertical pueden combinarse. _¿Qué pasa si escribes algo como `(temp | precip) & wind`?_\n",
    "\n",
    "Nota: Observa la importancia de esos paréntesis... ¿Qué pasa si los quitas? Ten en cuenta que estos operadores sobrecargados todavía están sujetos a [las reglas de precedencia de operadores de Python](https://docs.python.org/3/reference/expressions.html#operator-precedence), ¡por lo que la concatenación vertical con `&` tendrá prioridad sobre la concatenación horizontal con `|`!\n",
    "\n",
    "Como veremos más adelante, los operadores de concatenación le permiten combinar todos y cada uno de los gráficos en un panel de control multivista."
   ]
  },
  {
   "cell_type": "markdown",
   "metadata": {
    "colab_type": "text",
    "id": "Dmt0ai7NpyJp"
   },
   "outputs": [],
   "source": [
    "## Repeat (Repetir)"
   ]
  },
  {
   "cell_type": "markdown",
   "metadata": {
    "colab_type": "text",
    "id": "thajPm3Mp0yV"
   },
   "outputs": [],
   "source": [
    "Los operadores de concatenación anteriores son bastante generales, lo que permite componer gráficos arbitrarios. Sin embargo, el ejemplo anterior era todavía un poco verborreico: tenemos tres gráficos muy similares, pero tenemos que definirlos por separado y luego concatenarlos.\n",
    "\n",
    "Para los casos en los que sólo una o dos variables están cambiando, el operador `repeat` proporciona un atajo conveniente para crear múltiples gráficos. Dada una especificación de *plantilla* con algunas variables libres, el operador `repeat` creará un gráfico por cada asignación especificada a esas variables.\n",
    "\n",
    "Vamos a recrear nuestro ejemplo de concatenación anterior usando el operador `repeat`. El único aspecto que cambia a través de los gráficos es la elección del campo de datos para el canal de codificación `y`. Para crear una plantilla, podemos usar la *variable de repetición* `alt.repeat('column')` como nuestro campo del eje Y. Este código simplemente indica que queremos usar la variable asignada al repetidor `column`, que organiza las gráficas repetidas en una dirección horizontal. (Como el repetidor sólo proporciona el nombre del campo, tenemos que especificar el tipo de datos de campo por separado como `type='quantitative'`.)\n",
    "\n",
    "Luego invocamos el método `repeat`, pasando los nombres de los campos de datos para cada columna:"
   ]
  },
  {
   "cell_type": "code",
   "execution_count": 25,
   "metadata": {},
   "outputs": [
    {
     "data": {
      "application/vnd.vegalite.v3+json": {
       "$schema": "https://vega.github.io/schema/vega-lite/v3.4.0.json",
       "config": {
        "mark": {
         "tooltip": null
        },
        "view": {
         "height": 300,
         "width": 400
        }
       },
       "repeat": {
        "column": [
         "temp_max",
         "precipitation",
         "wind"
        ]
       },
       "spec": {
        "data": {
         "url": "https://vega.github.io/vega-datasets/data/weather.csv"
        },
        "encoding": {
         "color": {
          "field": "location",
          "type": "nominal"
         },
         "x": {
          "field": "date",
          "timeUnit": "month",
          "title": null,
          "type": "temporal"
         },
         "y": {
          "aggregate": "average",
          "field": {
           "repeat": "column"
          },
          "type": "quantitative"
         }
        },
        "height": 180,
        "mark": "line",
        "width": 240
       }
      },
      "text/plain": "<VegaLite 3 object>\n\nIf you see this message, it means the renderer has not been properly enabled\nfor the frontend that you are using. For more information, see\nhttps://altair-viz.github.io/user_guide/troubleshooting.html\n"
     },
     "execution_count": 25,
     "metadata": {},
     "output_type": "execute_result"
    }
   ],
   "source": [
    "alt.Chart(weather).mark_line().encode(\n",
    "  alt.X('month(date):T',title=None),\n",
    "  alt.Y(alt.repeat('column'), aggregate='average', type='quantitative'),\n",
    "  color='location:N'\n",
    ").properties(\n",
    "  width=240,\n",
    "  height=180\n",
    ").repeat(\n",
    "  column=['temp_max', 'precipitation', 'wind']\n",
    ")"
   ]
  },
  {
   "cell_type": "markdown",
   "metadata": {},
   "outputs": [],
   "source": [
    "**Nota de Simplificando Datos:**\n",
    "\n",
    "Usando el método 'repeat' no encontré la forma de modificar el título del eje Y, tampoco el de la leyenda.\n",
    "Si tú sabes, agradecería que me compartas la información."
   ]
  },
  {
   "cell_type": "markdown",
   "metadata": {
    "colab_type": "text",
    "id": "WeO93wdcm-kl"
   },
   "outputs": [],
   "source": [
    "La repetición es compatible tanto para las columnas como para las filas. _¿Qué pasa si modificas el código anterior para usar `row` en lugar de `column`?_\n",
    "\n",
    "¡También podemos usar la repetición de `row`  y `column` juntas! Una visualización común para el análisis exploratorio de datos es la [matriz de diagrama de dispersión (o SPLOM)](https://es.wikipedia.org/wiki/Diagrama_de_dispersión). Dada una colección de variables a inspeccionar, un *SPLOM* proporciona una cuadrícula de todas las gráficas por pares de esas variables, lo que nos permite evaluar las potenciales asociaciones .\n",
    "\n",
    "Usemos el operador `repeat` para crear un SPLOM para los campos `temp_max`, `precipitation` y `wind`. Primero creamos nuestra plantilla, con variables de repetición para los campos de datos de los ejes X e Y. Luego invocamos `repeat`, pasando la lista de los nombres de los campos a usar tanto para `row` como para la `column`. Altair generará entonces el [producto cruzado (o, producto cartesiano)](https://es.wikipedia.org/wiki/Producto_cartesiano) para crear el espacio completo de gráficos repetidos:"
   ]
  },
  {
   "cell_type": "code",
   "execution_count": 26,
   "metadata": {},
   "outputs": [
    {
     "data": {
      "application/vnd.vegalite.v3+json": {
       "$schema": "https://vega.github.io/schema/vega-lite/v3.4.0.json",
       "config": {
        "mark": {
         "tooltip": null
        },
        "view": {
         "height": 300,
         "width": 400
        }
       },
       "data": {
        "url": "https://vega.github.io/vega-datasets/data/weather.csv"
       },
       "repeat": {
        "column": [
         "wind",
         "precipitation",
         "temp_max"
        ],
        "row": [
         "temp_max",
         "precipitation",
         "wind"
        ]
       },
       "spec": {
        "encoding": {
         "x": {
          "field": {
           "repeat": "column"
          },
          "type": "quantitative"
         },
         "y": {
          "field": {
           "repeat": "row"
          },
          "type": "quantitative"
         }
        },
        "height": 150,
        "mark": {
         "filled": true,
         "opacity": 0.5,
         "size": 15,
         "type": "point"
        },
        "width": 150
       },
       "transform": [
        {
         "filter": "datum.location == \"Seattle\""
        }
       ]
      },
      "text/plain": "<VegaLite 3 object>\n\nIf you see this message, it means the renderer has not been properly enabled\nfor the frontend that you are using. For more information, see\nhttps://altair-viz.github.io/user_guide/troubleshooting.html\n"
     },
     "execution_count": 26,
     "metadata": {},
     "output_type": "execute_result"
    }
   ],
   "source": [
    "alt.Chart().mark_point(filled=True, size=15, opacity=0.5).encode(\n",
    "  alt.X(alt.repeat('column'), type='quantitative'),\n",
    "  alt.Y(alt.repeat('row'), type='quantitative')\n",
    ").properties(\n",
    "  width=150,\n",
    "  height=150\n",
    ").repeat(\n",
    "  data=weather,\n",
    "  row=['temp_max', 'precipitation', 'wind'],\n",
    "  column=['wind', 'precipitation', 'temp_max']\n",
    ").transform_filter(\n",
    "  'datum.location == \"Seattle\"'\n",
    ")"
   ]
  },
  {
   "cell_type": "markdown",
   "metadata": {
    "colab_type": "text",
    "id": "zwemGUsXp1m8"
   },
   "outputs": [],
   "source": [
    "_Observando estas gráficas, no parece haber una fuerte asociación entre la precipitación y el viento, aunque sí vemos que los eventos extremos de viento y precipitación ocurren en rangos de temperatura similares (~5-15° C). Sin embargo, esta observación no es particularmente sorprendente: si revisamos nuestro histograma al principio de la sección **Facet**, podemos ver claramente que los días con temperaturas máximas en el rango de 5-15° C son los más comunes._\n",
    "\n",
    "*Modifica el código anterior para obtener una mejor comprensión de la repetición de gráficos. Intenta añadir otra variable (`temp_min`) al SPLOM. ¿Qué sucede si reorganizas el orden de los nombres de los campos en los parámetros `row` o `column` para el operador `repeat`?*\n",
    "\n",
    "_Por último, para apreciar realmente lo que el operador de repetición proporciona, tómate un momento para imaginar cómo podrías recrear el SPLOM usando sólo `hconcat` y `vconcat`._"
   ]
  },
  {
   "cell_type": "markdown",
   "metadata": {
    "colab_type": "text",
    "id": "bNGvvh6dp2Ba"
   },
   "outputs": [],
   "source": [
    "## A View Composition Algebra (Álgebra de composición de visualización)"
   ]
  },
  {
   "cell_type": "markdown",
   "metadata": {
    "colab_type": "text",
    "id": "MxKKfCjX44Dn"
   },
   "outputs": [],
   "source": [
    "\n",
    "Juntos, los operadores de composición `layer`, `facet`, `concat` y `repeat` forman un *álgebra de composición de visualización*: los distintos operadores pueden combinarse para construir una variedad de visualizaciones multivista.\n",
    "\n",
    "Como ejemplo, comencemos con dos gráficos básicos: un histograma y una simple línea (un solo marcador `rule`) que muestra un promedio global."
   ]
  },
  {
   "cell_type": "code",
   "execution_count": 27,
   "metadata": {},
   "outputs": [
    {
     "data": {
      "application/vnd.vegalite.v3+json": {
       "$schema": "https://vega.github.io/schema/vega-lite/v3.4.0.json",
       "config": {
        "mark": {
         "tooltip": null
        },
        "view": {
         "height": 300,
         "width": 400
        }
       },
       "data": {
        "url": "https://vega.github.io/vega-datasets/data/weather.csv"
       },
       "hconcat": [
        {
         "encoding": {
          "x": {
           "field": "date",
           "timeUnit": "month",
           "title": "Mes",
           "type": "ordinal"
          },
          "y": {
           "aggregate": "average",
           "field": "temp_max",
           "title": "Promedio de Temp. máxima",
           "type": "quantitative"
          }
         },
         "mark": "bar",
         "transform": [
          {
           "filter": "datum.location == \"Seattle\""
          }
         ]
        },
        {
         "encoding": {
          "y": {
           "aggregate": "average",
           "field": "temp_max",
           "title": "Promedio de Temp. máxima",
           "type": "quantitative"
          }
         },
         "mark": {
          "stroke": "firebrick",
          "type": "rule"
         },
         "transform": [
          {
           "filter": "datum.location == \"Seattle\""
          }
         ]
        }
       ]
      },
      "text/plain": "<VegaLite 3 object>\n\nIf you see this message, it means the renderer has not been properly enabled\nfor the frontend that you are using. For more information, see\nhttps://altair-viz.github.io/user_guide/troubleshooting.html\n"
     },
     "execution_count": 27,
     "metadata": {},
     "output_type": "execute_result"
    }
   ],
   "source": [
    "basic1 = alt.Chart(weather).transform_filter(\n",
    "  'datum.location == \"Seattle\"'\n",
    ").mark_bar().encode(\n",
    "  alt.X('month(date):O', title='Mes'),\n",
    "  alt.Y('average(temp_max):Q', title='Promedio de Temp. máxima')\n",
    ")\n",
    "\n",
    "basic2 = alt.Chart(weather).transform_filter(\n",
    "  'datum.location == \"Seattle\"'\n",
    ").mark_rule(stroke='firebrick').encode(\n",
    "  alt.Y('average(temp_max):Q', title='Promedio de Temp. máxima')\n",
    ")\n",
    "\n",
    "basic1 | basic2"
   ]
  },
  {
   "cell_type": "markdown",
   "metadata": {
    "colab_type": "text",
    "id": "w2LRQzyi6SVs"
   },
   "outputs": [],
   "source": [
    "Ahora podemos combinar las dos gráficas usando un operador `layer` y luego `repeat` esta gráfica en capas para mostrar histogramas con los promedios superpuestos para múltiples campos:"
   ]
  },
  {
   "cell_type": "code",
   "execution_count": 28,
   "metadata": {},
   "outputs": [
    {
     "data": {
      "application/vnd.vegalite.v3+json": {
       "$schema": "https://vega.github.io/schema/vega-lite/v3.4.0.json",
       "config": {
        "mark": {
         "tooltip": null
        },
        "view": {
         "height": 300,
         "width": 400
        }
       },
       "data": {
        "url": "https://vega.github.io/vega-datasets/data/weather.csv"
       },
       "repeat": {
        "column": [
         "temp_max",
         "precipitation",
         "wind"
        ]
       },
       "spec": {
        "height": 150,
        "layer": [
         {
          "encoding": {
           "x": {
            "field": "date",
            "timeUnit": "month",
            "title": "Mes",
            "type": "ordinal"
           },
           "y": {
            "aggregate": "average",
            "field": {
             "repeat": "column"
            },
            "type": "quantitative"
           }
          },
          "mark": "bar"
         },
         {
          "encoding": {
           "y": {
            "aggregate": "average",
            "field": {
             "repeat": "column"
            },
            "type": "quantitative"
           }
          },
          "mark": {
           "stroke": "firebrick",
           "type": "rule"
          }
         }
        ],
        "width": 200
       },
       "transform": [
        {
         "filter": "datum.location == \"Seattle\""
        }
       ]
      },
      "text/plain": "<VegaLite 3 object>\n\nIf you see this message, it means the renderer has not been properly enabled\nfor the frontend that you are using. For more information, see\nhttps://altair-viz.github.io/user_guide/troubleshooting.html\n"
     },
     "execution_count": 28,
     "metadata": {},
     "output_type": "execute_result"
    }
   ],
   "source": [
    "alt.layer(\n",
    "  alt.Chart().mark_bar().encode(\n",
    "    alt.X('month(date):O', title='Mes'),\n",
    "    alt.Y(alt.repeat('column'), aggregate='average', type='quantitative')\n",
    "  ),\n",
    "  alt.Chart().mark_rule(stroke='firebrick').encode(\n",
    "    alt.Y(alt.repeat('column'), aggregate='average', type='quantitative')\n",
    "  )\n",
    ").properties(\n",
    "  width=200,\n",
    "  height=150\n",
    ").repeat(\n",
    "  data=weather,\n",
    "  column=['temp_max', 'precipitation', 'wind']\n",
    ").transform_filter(\n",
    "  'datum.location == \"Seattle\"'\n",
    ")"
   ]
  },
  {
   "cell_type": "markdown",
   "metadata": {
    "colab_type": "text",
    "id": "cjW4vHVtp8mP"
   },
   "outputs": [],
   "source": [
    "Enfocándonos solo en los operadores de composición multivista, el modelo para la visualización anterior es:\n",
    "\n",
    "```\n",
    "repeat(column=[...])\n",
    "|- layer\n",
    "   |- basic1\n",
    "   |- basic2\n",
    "```\n",
    "\n",
    "Ahora exploremos como podemos aplicar *todos* los operadores dentro de un [dashboard final](https://www.cyberclick.es/numerical-blog/que-es-un-dashboard) que provea una visión general de el tiempo de Seattle. Combinaremos el SPLOM y las facetas de los histogramas de las secciones anteriores con los histogramas repetidos de arriba.\n",
    "\n",
    "*Una explicación de qué es un dashboard en inglés lo encuentras en este [enlace](https://en.wikipedia.org/wiki/Dashboard_%28business%29)*"
   ]
  },
  {
   "cell_type": "code",
   "execution_count": 29,
   "metadata": {},
   "outputs": [
    {
     "data": {
      "application/vnd.vegalite.v3+json": {
       "$schema": "https://vega.github.io/schema/vega-lite/v3.4.0.json",
       "config": {
        "axis": {
         "labelAngle": 0
        },
        "mark": {
         "tooltip": null
        },
        "view": {
         "height": 300,
         "width": 400
        }
       },
       "data": {
        "url": "https://vega.github.io/vega-datasets/data/weather.csv"
       },
       "resolve": {
        "legend": {
         "color": "independent"
        }
       },
       "title": "Dashboard del tiempo de Seattle",
       "transform": [
        {
         "filter": "datum.location == \"Seattle\""
        }
       ],
       "vconcat": [
        {
         "hconcat": [
          {
           "repeat": {
            "column": [
             "wind",
             "precipitation",
             "temp_max"
            ],
            "row": [
             "temp_max",
             "precipitation",
             "wind"
            ]
           },
           "spec": {
            "encoding": {
             "x": {
              "field": {
               "repeat": "column"
              },
              "type": "quantitative"
             },
             "y": {
              "field": {
               "repeat": "row"
              },
              "type": "quantitative"
             }
            },
            "height": 125,
            "mark": {
             "filled": true,
             "opacity": 0.5,
             "size": 15,
             "type": "point"
            },
            "width": 125
           }
          },
          {
           "repeat": {
            "row": [
             "temp_max",
             "precipitation",
             "wind"
            ]
           },
           "spec": {
            "height": 125,
            "layer": [
             {
              "encoding": {
               "x": {
                "field": "date",
                "timeUnit": "month",
                "title": "Mes",
                "type": "ordinal"
               },
               "y": {
                "aggregate": "average",
                "field": {
                 "repeat": "row"
                },
                "type": "quantitative"
               }
              },
              "mark": "bar"
             },
             {
              "encoding": {
               "y": {
                "aggregate": "average",
                "field": {
                 "repeat": "row"
                },
                "type": "quantitative"
               }
              },
              "mark": {
               "stroke": "firebrick",
               "type": "rule"
              }
             }
            ],
            "width": 175
           }
          }
         ]
        },
        {
         "facet": {
          "column": {
           "field": "weather",
           "type": "nominal"
          }
         },
         "spec": {
          "encoding": {
           "color": {
            "field": "weather",
            "scale": {
             "domain": [
              "drizzle",
              "fog",
              "rain",
              "snow",
              "sun"
             ],
             "range": [
              "#aec7e8",
              "#c7c7c7",
              "#1f77b4",
              "#9467bd",
              "#e7ba52"
             ]
            },
            "type": "nominal"
           },
           "x": {
            "bin": true,
            "field": "temp_max",
            "title": "Temperatura (°C)",
            "type": "quantitative"
           },
           "y": {
            "aggregate": "count",
            "type": "quantitative"
           }
          },
          "height": 100,
          "mark": "bar",
          "width": 115
         }
        }
       ]
      },
      "text/plain": "<VegaLite 3 object>\n\nIf you see this message, it means the renderer has not been properly enabled\nfor the frontend that you are using. For more information, see\nhttps://altair-viz.github.io/user_guide/troubleshooting.html\n"
     },
     "execution_count": 29,
     "metadata": {},
     "output_type": "execute_result"
    }
   ],
   "source": [
    "splom = alt.Chart().mark_point(filled=True, size=15, opacity=0.5).encode(\n",
    "  alt.X(alt.repeat('column'), type='quantitative'),\n",
    "  alt.Y(alt.repeat('row'), type='quantitative')\n",
    ").properties(\n",
    "  width=125,\n",
    "  height=125\n",
    ").repeat(\n",
    "  row=['temp_max', 'precipitation', 'wind'],\n",
    "  column=['wind', 'precipitation', 'temp_max']\n",
    ")\n",
    "\n",
    "dateHist = alt.layer(\n",
    "  alt.Chart().mark_bar().encode(\n",
    "    alt.X('month(date):O', title='Mes'),\n",
    "    alt.Y(alt.repeat('row'), aggregate='average', type='quantitative')\n",
    "  ),\n",
    "  alt.Chart().mark_rule(stroke='firebrick').encode(\n",
    "    alt.Y(alt.repeat('row'), aggregate='average', type='quantitative')\n",
    "  )\n",
    ").properties(\n",
    "  width=175,\n",
    "  height=125\n",
    ").repeat(\n",
    "  row=['temp_max', 'precipitation', 'wind']\n",
    ")\n",
    "\n",
    "tempHist = alt.Chart(weather).mark_bar().encode(\n",
    "  alt.X('temp_max:Q', bin=True, title='Temperatura (°C)'),\n",
    "  alt.Y('count():Q'),\n",
    "  alt.Color('weather:N', scale=alt.Scale(\n",
    "    domain=['drizzle', 'fog', 'rain', 'snow', 'sun'],\n",
    "    range=['#aec7e8', '#c7c7c7', '#1f77b4', '#9467bd', '#e7ba52']\n",
    "  ))\n",
    ").properties(\n",
    "  width=115,\n",
    "  height=100\n",
    ").facet(\n",
    "  column='weather:N'\n",
    ")\n",
    "\n",
    "alt.vconcat(\n",
    "  alt.hconcat(splom, dateHist),\n",
    "  tempHist,\n",
    "  data=weather,\n",
    "  title='Dashboard del tiempo de Seattle'\n",
    ").transform_filter(\n",
    "  'datum.location == \"Seattle\"'\n",
    ").resolve_legend(\n",
    "  color='independent'\n",
    ").configure_axis(\n",
    "  labelAngle=0\n",
    ")"
   ]
  },
  {
   "cell_type": "markdown",
   "metadata": {
    "colab_type": "text",
    "id": "2KeY0T5G79KO"
   },
   "outputs": [],
   "source": [
    "El modelo completo de la composición para este *dashboard* es:\n",
    "\n",
    "```\n",
    "vconcat\n",
    "|- hconcat\n",
    "|  |- repeat(row=[...], column=[...])\n",
    "|  |  |- splom base chart\n",
    "|  |- repeat(row=[...])\n",
    "|     |- layer\n",
    "|        |- dateHist base chart 1\n",
    "|        |- dateHist base chart 2\n",
    "|- facet(column='weather')\n",
    "   |- tempHist base chart\n",
    "```\n",
    "\n",
    "_¡Fiuuuuu!_ El *dashboard* también incluye unas pocas personalizaciones para mejorar el diseño:\n",
    "\n",
    "- Ajustamos las propiedades de `width` y `height` del gráfico para ayudar a la alineación y asegurar que la visualización completa encaje en la pantalla.\n",
    "- Añadimos `resolve_legend(color='independent')` para asegurar que la leyenda de los colores se asocie directamente con los histogramas coloreados de la temperatura. De lo contrario, la leyenda se resolverá en el tablero como un todo.\n",
    "- Utilizamos `configure_axis(labelAngle=0)` para asegurarnos de que no se giran las etiquetas de los ejes. Esto ayuda a asegurar una alineación adecuada entre los diagramas de dispersión en el SPLOM y los histogramas por mes a la derecha.\n",
    "\n",
    "_¡Intenta quitar o modificar cualquiera de estos ajustes y ve cómo responde el diseño del tablero!_\n",
    "\n",
    "Este *dashboard* puede ser reutilizado para mostrar datos de otras ubicaciones o de otros conjuntos de datos. Actualiza el *dashboard* para mostrar los patrones del clima de New York en lugar de Seattle."
   ]
  },
  {
   "cell_type": "markdown",
   "metadata": {
    "colab_type": "text",
    "id": "NZzvXj7c4BpD"
   },
   "outputs": [],
   "source": [
    "## Resumen\n",
    "\n",
    "Para más detalles sobre la composición multivista, incluyendo el control sobre el espaciado de subgráficas y las etiquetas de encabezado, consulte la documentación [Altair Compound Charts](https://altair-viz.github.io/user_guide/compound_charts.html).\n",
    "\n",
    "Ahora que hemos visto cómo componer múltiples vistas, estamos listos para ponerlas en acción. Además de la presentación estática de los datos, las vistas múltiples pueden permitir la exploración interactiva multidimensional. Por ejemplo, usando _selecciones enlazadas_ podemos resaltar puntos en una vista para ver los valores correspondientes resaltados en otras vistas.\n",
    "\n",
    "En el siguiente *notebook*, examinaremos cómo crear *selecciones interactivas* tanto para composiciones individuales como para composiciones multivista."
   ]
  }
 ],
 "metadata": {
  "kernelspec": {
   "display_name": "Python 3",
   "language": "python",
   "name": "python3"
  },
  "language_info": {
   "codemirror_mode": {
    "name": "ipython",
    "version": 3
   },
   "file_extension": ".py",
   "mimetype": "text/x-python",
   "name": "python",
   "nbconvert_exporter": "python",
   "pygments_lexer": "ipython3",
   "version": "3.7.0"
  }
 },
 "nbformat": 4,
 "nbformat_minor": 4
}