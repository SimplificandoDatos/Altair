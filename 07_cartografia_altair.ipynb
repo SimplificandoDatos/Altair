{
 "cells": [
  {
   "cell_type": "markdown",
   "metadata": {},
   "source": [
    "# Visualización cartográfica (Cartographic Visualization)\n",
    "\n",
    "_“La elaboración de mapas es uno de los esfuerzos intelectuales más antiguos de la humanidad y también uno de los más complejos, con la teoría científica, la representación gráfica, los conocimientos geográficos y las consideraciones prácticas combinadas en una variedad interminable de formas.”_ &mdash; [H. J. Steward](https://books.google.com/books?id=cVy1Ms43fFYC)\n",
    " \n",
    "Cartografía &ndash; el estudio y la práctica de elaborar mapas &ndash; tiene una rica historia que abarca siglos de descubrimiento y diseño. La visualización cartográfica aprovecha las técnicas de la cartografía para transmitir datos que contienen información espacial, como lugares, rutas o trayectorias en la superficie de la Tierra.\n",
    "\n",
    "<div style=\"float: right; margin-left: 1em; margin-top: 1em;\"><img width=\"300px\" src=\"https://gist.githubusercontent.com/jheer/c90d582ef5322582cf4960ec7689f6f6/raw/8dc92382a837ccc34c076f4ce7dd864e7893324a/latlon.png\" /></div>\n",
    "\n",
    "Al aproximar la Tierra como una esfera, podemos denotar posiciones utilizando un sistema de coordenadas esféricas de _latitud_ (ángulo en grados al norte o al sur del _Ecuador_) y _longitud_ (ángulo en grados que especifica la posición este-oeste). En este sistema, un _paralelo_ es un círculo de latitud constante y un _meridiano_ es un círculo de longitud constante. El [_Meridiano cero_](https://es.wikipedia.org/wiki/Meridiano_cero) se encuentra a 0° de longitud y por convención se define su paso por el \"Royal Observatory\" en Greenwich, Inglaterra.\n",
    "\n",
    "Para \"aplanar\" una esfera tridimensional en un plano bidimimensional, debemos aplicar una [proyección](https://es.wikipedia.org/wiki/Proyecci%C3%B3n_cartogr%C3%A1fica) que mapea el par (`longitude`, `latitude`)/(`longitud`, `latitud`) a las coordenadas (`x`, `y`). Similar a [las escalas](https://github.com/SimplificandoDatos/Altair/blob/master/04_escalas_ejes_leyendas_altair.ipynb), las proyecciones mapean desde un dominio de datos (posición espacial) hacia un rango visual (posición de píxeles). Sin embargo, las escalas que hemos visto hasta ahora aceptan un dominio unidimensional, mientras que las proyecciones del mapa son inherentemente bidimensionales.\n",
    "\n",
    "En este *notebook*, introduciremos lo básico de la creación de mapas y la visualización de datos espaciales con Altair, incluyendo:\n",
    "\n",
    "- Formatos de datos para representar características geográficas,\n",
    "- Técnicas de geovisualización como mapas con puntos, símbolos y [coropléticos](https://es.wikipedia.org/wiki/Mapa_coropl%C3%A9tico)\n",
    "- Una revisión de las proyecciones cartográficas más comunes.\n",
    "\n",
    "_Este notebook es una traduccion y modificación del notebook **\"Introduction to Vega-Lite / Altair\"** , el cual es parte de [data visualization curriculum](https://github.com/uwdata/visualization-curriculum)._\n",
    "\n",
    "_Todos los notebooks en español se encuentran en: [Altair en Simplificando Datos](https://github.com/SimplificandoDatos/Altair)_"
   ]
  },
  {
   "cell_type": "code",
   "execution_count": 1,
   "metadata": {},
   "outputs": [],
   "source": [
    "import pandas as pd\n",
    "import altair as alt\n",
    "from vega_datasets import data"
   ]
  },
  {
   "cell_type": "markdown",
   "metadata": {},
   "source": [
    "## Datos geográficos: GeoJSON y TopoJSON"
   ]
  },
  {
   "cell_type": "markdown",
   "metadata": {},
   "source": [
    "A este punto, hemos trabajado con conjuntos de datos que se encontraban en archivos JSON y CSV que corresponden a datos tabulares hechos de filas (registros) y columnas. Para representar regiones geográficas (países, estados,  _etc._) y trayectorias ( rutas de vuelos, líneas de subterráneos, _etc._), necesitamos expandir nuestro repertorio con formatos adicionales, que están diseñados para soportar geometrías ricas.\n",
    "\n",
    "[GeoJSON](https://es.wikipedia.org/wiki/GeoJSON)  modela características geográficas dentro de un formato especializado JSON. Una  `feature` (característica) en GeoJSON puede incluir datos geométricos &ndash; como coordenas en `longitude` (longitud), `latitude` (latitud) para una frontera de un país &ndash; como támbién datos de atributos adcionales.\n",
    "\n",
    "A continuación se muestra objeto `feature` de GeoJSON para la frontera del estado de Colorado en E.E.U.U:"
   ]
  },
  {
   "cell_type": "markdown",
   "metadata": {},
   "source": [
    "~~~ json\n",
    "{\n",
    "  \"type\": \"Feature\",\n",
    "  \"id\": 8,\n",
    "  \"properties\": {\"name\": \"Colorado\"},\n",
    "  \"geometry\": {\n",
    "    \"type\": \"Polygon\",\n",
    "    \"coordinates\": [\n",
    "      [[-106.32056285448942,40.998675790862656],[-106.19134826714341,40.99813863734313],[-105.27607827344248,40.99813863734313],[-104.9422739227986,40.99813863734313],[-104.05212898774828,41.00136155846029],[-103.57475287338661,41.00189871197981],[-103.38093099236758,41.00189871197981],[-102.65589358559272,41.00189871197981],[-102.62000064466328,41.00189871197981],[-102.052892177978,41.00189871197981],[-102.052892177978,40.74889940428302],[-102.052892177978,40.69733266640851],[-102.052892177978,40.44003613055551],[-102.052892177978,40.3492571857556],[-102.052892177978,40.00333031918079],[-102.04930288388505,39.57414465707943],[-102.04930288388505,39.56823596836465],[-102.0457135897921,39.1331416175485],[-102.0457135897921,39.0466599009048],[-102.0457135897921,38.69751011321283],[-102.0457135897921,38.61478847120581],[-102.0457135897921,38.268861604631],[-102.0457135897921,38.262415762396685],[-102.04212429569915,37.738153927339205],[-102.04212429569915,37.64415206142214],[-102.04212429569915,37.38900413964724],[-102.04212429569915,36.99365914927603],[-103.00046581851544,37.00010499151034],[-103.08660887674611,37.00010499151034],[-104.00905745863294,36.99580776335414],[-105.15404227428235,36.995270609834606],[-105.2222388620483,36.995270609834606],[-105.7175614468747,36.99580776335414],[-106.00829426840322,36.995270609834606],[-106.47490250048605,36.99365914927603],[-107.4224761410235,37.00010499151034],[-107.48349414060355,37.00010499151034],[-108.38081766383978,36.99903068447129],[-109.04483707103458,36.99903068447129],[-109.04483707103458,37.484617466122884],[-109.04124777694163,37.88049961001363],[-109.04124777694163,38.15283644441336],[-109.05919424740635,38.49983761802722],[-109.05201565922046,39.36680339854235],[-109.05201565922046,39.49786885730673],[-109.05201565922046,39.66062637372313],[-109.05201565922046,40.22248895514744],[-109.05201565922046,40.653823231326896],[-109.05201565922046,41.000287251421234],[-107.91779872584989,41.00189871197981],[-107.3183866123281,41.00297301901887],[-106.85895696843116,41.00189871197981],[-106.32056285448942,40.998675790862656]]\n",
    "    ]\n",
    "  }\n",
    "}\n",
    "~~~"
   ]
  },
  {
   "cell_type": "markdown",
   "metadata": {},
   "source": [
    "La `feature` incluye un objeto `properties`, el cual puede incluir cualquier cantidad de campos de datos, más un objeto `geometry`, el cual en este caso incluye un único polígono que consiste en coordenadas de `[longitude, latitude]` de la frontera del estado.\n",
    "\n",
    "Para saber más acerca de los detalles esenciales de GeoJSON, mira la [especificación oficial de GeoJSON](http://geojson.org/) o lee [el útil manual de Tom MacWright](https://macwright.org/2015/03/23/geojson-second-bite)."
   ]
  },
  {
   "cell_type": "markdown",
   "metadata": {},
   "source": [
    "Una desventaja de GeoJSON como formato de almacenamiento es que puede ser redundante, lo que resulta en tamaños de archivo más grandes. Consideremos: Colorado comparte fronteras con otros seis estados (siete si incluyes la esquina que toca a Arizona). En lugar de usar listas de coordenadas separadas y superpuestas para cada uno de esos estados, un enfoque más compacto es codificar las fronteras compartidas una sola vez, representando la _topology (topología)_ de las regiones geográficas. ¡Afortunadamente, esto es precisamente lo que hace el formato [TopoJSON](https://github.com/topojson/topojson/blob/master/README.md)!\n"
   ]
  },
  {
   "cell_type": "markdown",
   "metadata": {},
   "source": [
    "Carguemos un archivo TopoJSON de los países del  mundo (en una resolución de 110 metros):"
   ]
  },
  {
   "cell_type": "code",
   "execution_count": 2,
   "metadata": {},
   "outputs": [
    {
     "output_type": "execute_result",
     "data": {
      "text/plain": "'https://vega.github.io/vega-datasets/data/world-110m.json'"
     },
     "metadata": {},
     "execution_count": 2
    }
   ],
   "source": [
    "world = data.world_110m.url\n",
    "world"
   ]
  },
  {
   "cell_type": "code",
   "execution_count": 3,
   "metadata": {},
   "outputs": [],
   "source": [
    "world_topo = data.world_110m()"
   ]
  },
  {
   "cell_type": "code",
   "execution_count": 4,
   "metadata": {},
   "outputs": [
    {
     "output_type": "execute_result",
     "data": {
      "text/plain": "dict_keys(['type', 'transform', 'objects', 'arcs'])"
     },
     "metadata": {},
     "execution_count": 4
    }
   ],
   "source": [
    "world_topo.keys()"
   ]
  },
  {
   "cell_type": "code",
   "execution_count": 5,
   "metadata": {},
   "outputs": [
    {
     "output_type": "execute_result",
     "data": {
      "text/plain": "'Topology'"
     },
     "metadata": {},
     "execution_count": 5
    }
   ],
   "source": [
    "world_topo['type']"
   ]
  },
  {
   "cell_type": "code",
   "execution_count": 6,
   "metadata": {},
   "outputs": [
    {
     "output_type": "execute_result",
     "data": {
      "text/plain": "dict_keys(['land', 'countries'])"
     },
     "metadata": {},
     "execution_count": 6
    }
   ],
   "source": [
    "world_topo['objects'].keys()"
   ]
  },
  {
   "cell_type": "markdown",
   "metadata": {},
   "source": [
    "_Inspecciona el objeto diccionario de TopoJSON `world_topo` de arriba para ver su contenido._\n",
    "\n",
    "En los datos anteriores, la propiedad `objects` indica los elementos nombrados que podemos extraer de los datos: geometrías para todos los `countries` (paises), o un único polígono que representa todas las `land` (tierras) de la Tierra. Cualquiera de estos puede ser desempaquetado en datos GeoJSON que podemos visualizar.\n",
    "\n",
    "Como TopoJSON es un formato especializado, necesitamos instruir a Altair para que analice el formato TopoJSON, indicando el nombre de la `feature` del objeto  que deseamos extraer de la topología. El siguiente código indica que queremos extraer la `feature` de GeoJSON del conjunto de datos `world` para el objeto `countries`:\n",
    "\n",
    "\n",
    "~~~ js\n",
    "alt.topo_feature(world, 'countries')\n",
    "~~~\n",
    "\n",
    "Este llamado al método `alt.topo_feature` corresponde al siguiente Vega-Lite JSON:\n",
    "\n",
    "~~~ json\n",
    "{\n",
    "  \"values\": world,\n",
    "  \"format\": {\"type\": \"topojson\", \"feature\": \"countries\"}\n",
    "}\n",
    "~~~\n",
    "\n",
    "¡Ahora que podemos cargar datos geográficos, estamos listos para iniciar con la elaboración de mapas!"
   ]
  },
  {
   "cell_type": "markdown",
   "metadata": {},
   "source": [
    "## Marcadores Geoshape (Geoshape Marks)"
   ]
  },
  {
   "cell_type": "markdown",
   "metadata": {},
   "source": [
    "Para visualizar datos geográficos, Altair provee el tipo de marcador `geoshape`. Para crear un mapa básico, podemos crear un marcador `geoshape` y pasarle nuestros datos de TopoJSON, que luego se desempaquetan en *features (características)* de GeoJSON, una para cada país del mundo:"
   ]
  },
  {
   "cell_type": "code",
   "execution_count": 7,
   "metadata": {},
   "outputs": [
    {
     "output_type": "execute_result",
     "data": {
      "text/html": "\n<div id=\"altair-viz-283353c0fcf84ccea6015e14b31f5fae\"></div>\n<script type=\"text/javascript\">\n  (function(spec, embedOpt){\n    const outputDiv = document.getElementById(\"altair-viz-283353c0fcf84ccea6015e14b31f5fae\");\n    const paths = {\n      \"vega\": \"https://cdn.jsdelivr.net/npm//vega@5?noext\",\n      \"vega-lib\": \"https://cdn.jsdelivr.net/npm//vega-lib?noext\",\n      \"vega-lite\": \"https://cdn.jsdelivr.net/npm//vega-lite@4.0.2?noext\",\n      \"vega-embed\": \"https://cdn.jsdelivr.net/npm//vega-embed@6?noext\",\n    };\n\n    function loadScript(lib) {\n      return new Promise(function(resolve, reject) {\n        var s = document.createElement('script');\n        s.src = paths[lib];\n        s.async = true;\n        s.onload = () => resolve(paths[lib]);\n        s.onerror = () => reject(`Error loading script: ${paths[lib]}`);\n        document.getElementsByTagName(\"head\")[0].appendChild(s);\n      });\n    }\n\n    function showError(err) {\n      outputDiv.innerHTML = `<div class=\"error\" style=\"color:red;\">${err}</div>`;\n      throw err;\n    }\n\n    function displayChart(vegaEmbed) {\n      vegaEmbed(outputDiv, spec, embedOpt)\n        .catch(err => showError(`Javascript Error: ${err.message}<br>This usually means there's a typo in your chart specification. See the javascript console for the full traceback.`));\n    }\n\n    if(typeof define === \"function\" && define.amd) {\n      requirejs.config({paths});\n      require([\"vega-embed\"], displayChart, err => showError(`Error loading script: ${err.message}`));\n    } else if (typeof vegaEmbed === \"function\") {\n      displayChart(vegaEmbed);\n    } else {\n      loadScript(\"vega\")\n        .then(() => loadScript(\"vega-lite\"))\n        .then(() => loadScript(\"vega-embed\"))\n        .catch(showError)\n        .then(() => displayChart(vegaEmbed));\n    }\n  })({\"config\": {\"view\": {\"continuousWidth\": 400, \"continuousHeight\": 300}}, \"data\": {\"url\": \"https://vega.github.io/vega-datasets/data/world-110m.json\", \"format\": {\"feature\": \"countries\", \"type\": \"topojson\"}}, \"mark\": \"geoshape\", \"$schema\": \"https://vega.github.io/schema/vega-lite/v4.0.2.json\"}, {\"mode\": \"vega-lite\"});\n</script>",
      "text/plain": "alt.Chart(...)"
     },
     "metadata": {},
     "execution_count": 7
    }
   ],
   "source": [
    "alt.Chart(alt.topo_feature(world, 'countries')).mark_geoshape()"
   ]
  },
  {
   "cell_type": "markdown",
   "metadata": {},
   "source": [
    "En el ejemplo anterior, Altair aplica un color azul por defecto y utiliza una proyección de mapa por defecto (`mercator`). Podemos personalizar los colores y los anchos de trazo de los límites usando las propiedades de los marcadores estándar. Usando el método `project` también podemos añadir nuestra propia proyección de mapa:"
   ]
  },
  {
   "cell_type": "code",
   "execution_count": 8,
   "metadata": {},
   "outputs": [
    {
     "output_type": "execute_result",
     "data": {
      "text/html": "\n<div id=\"altair-viz-d62832c23bf545c5a0819ecc4b38018b\"></div>\n<script type=\"text/javascript\">\n  (function(spec, embedOpt){\n    const outputDiv = document.getElementById(\"altair-viz-d62832c23bf545c5a0819ecc4b38018b\");\n    const paths = {\n      \"vega\": \"https://cdn.jsdelivr.net/npm//vega@5?noext\",\n      \"vega-lib\": \"https://cdn.jsdelivr.net/npm//vega-lib?noext\",\n      \"vega-lite\": \"https://cdn.jsdelivr.net/npm//vega-lite@4.0.2?noext\",\n      \"vega-embed\": \"https://cdn.jsdelivr.net/npm//vega-embed@6?noext\",\n    };\n\n    function loadScript(lib) {\n      return new Promise(function(resolve, reject) {\n        var s = document.createElement('script');\n        s.src = paths[lib];\n        s.async = true;\n        s.onload = () => resolve(paths[lib]);\n        s.onerror = () => reject(`Error loading script: ${paths[lib]}`);\n        document.getElementsByTagName(\"head\")[0].appendChild(s);\n      });\n    }\n\n    function showError(err) {\n      outputDiv.innerHTML = `<div class=\"error\" style=\"color:red;\">${err}</div>`;\n      throw err;\n    }\n\n    function displayChart(vegaEmbed) {\n      vegaEmbed(outputDiv, spec, embedOpt)\n        .catch(err => showError(`Javascript Error: ${err.message}<br>This usually means there's a typo in your chart specification. See the javascript console for the full traceback.`));\n    }\n\n    if(typeof define === \"function\" && define.amd) {\n      requirejs.config({paths});\n      require([\"vega-embed\"], displayChart, err => showError(`Error loading script: ${err.message}`));\n    } else if (typeof vegaEmbed === \"function\") {\n      displayChart(vegaEmbed);\n    } else {\n      loadScript(\"vega\")\n        .then(() => loadScript(\"vega-lite\"))\n        .then(() => loadScript(\"vega-embed\"))\n        .catch(showError)\n        .then(() => displayChart(vegaEmbed));\n    }\n  })({\"config\": {\"view\": {\"continuousWidth\": 400, \"continuousHeight\": 300}}, \"data\": {\"url\": \"https://vega.github.io/vega-datasets/data/world-110m.json\", \"format\": {\"feature\": \"countries\", \"type\": \"topojson\"}}, \"mark\": {\"type\": \"geoshape\", \"fill\": \"#2a1d0c\", \"stroke\": \"#706545\", \"strokeWidth\": 0.5}, \"projection\": {\"type\": \"mercator\"}, \"$schema\": \"https://vega.github.io/schema/vega-lite/v4.0.2.json\"}, {\"mode\": \"vega-lite\"});\n</script>",
      "text/plain": "alt.Chart(...)"
     },
     "metadata": {},
     "execution_count": 8
    }
   ],
   "source": [
    "alt.Chart(alt.topo_feature(world, 'countries')).mark_geoshape(\n",
    "    fill='#2a1d0c', stroke='#706545', strokeWidth=0.5\n",
    ").project(\n",
    "    type='mercator'\n",
    ")"
   ]
  },
  {
   "cell_type": "markdown",
   "metadata": {},
   "source": [
    "Por defecto, Altair ajusta automáticamente la proyección para que todos los datos encajen dentro del ancho y alto de la gráfica. También podemos especificar los parámetros de proyección, como `scale` (nivel de zoom) y `translate` (paneo), para personalizar los ajustes de la proyección. Aquí ajustamos los parámetros de \"escala\" y \"traducir\" para enfocarnos en Latinoamérica:\n",
    "\n",
    "***Nota de Simplificando Datos***: En el notebook orignal se enfocan en Europa, pero lo cambie a Latinoamérica ;)"
   ]
  },
  {
   "cell_type": "code",
   "execution_count": 9,
   "metadata": {},
   "outputs": [
    {
     "output_type": "execute_result",
     "data": {
      "text/html": "\n<div id=\"altair-viz-35b9bd65cbf94b0591a5823b5592e1c5\"></div>\n<script type=\"text/javascript\">\n  (function(spec, embedOpt){\n    const outputDiv = document.getElementById(\"altair-viz-35b9bd65cbf94b0591a5823b5592e1c5\");\n    const paths = {\n      \"vega\": \"https://cdn.jsdelivr.net/npm//vega@5?noext\",\n      \"vega-lib\": \"https://cdn.jsdelivr.net/npm//vega-lib?noext\",\n      \"vega-lite\": \"https://cdn.jsdelivr.net/npm//vega-lite@4.0.2?noext\",\n      \"vega-embed\": \"https://cdn.jsdelivr.net/npm//vega-embed@6?noext\",\n    };\n\n    function loadScript(lib) {\n      return new Promise(function(resolve, reject) {\n        var s = document.createElement('script');\n        s.src = paths[lib];\n        s.async = true;\n        s.onload = () => resolve(paths[lib]);\n        s.onerror = () => reject(`Error loading script: ${paths[lib]}`);\n        document.getElementsByTagName(\"head\")[0].appendChild(s);\n      });\n    }\n\n    function showError(err) {\n      outputDiv.innerHTML = `<div class=\"error\" style=\"color:red;\">${err}</div>`;\n      throw err;\n    }\n\n    function displayChart(vegaEmbed) {\n      vegaEmbed(outputDiv, spec, embedOpt)\n        .catch(err => showError(`Javascript Error: ${err.message}<br>This usually means there's a typo in your chart specification. See the javascript console for the full traceback.`));\n    }\n\n    if(typeof define === \"function\" && define.amd) {\n      requirejs.config({paths});\n      require([\"vega-embed\"], displayChart, err => showError(`Error loading script: ${err.message}`));\n    } else if (typeof vegaEmbed === \"function\") {\n      displayChart(vegaEmbed);\n    } else {\n      loadScript(\"vega\")\n        .then(() => loadScript(\"vega-lite\"))\n        .then(() => loadScript(\"vega-embed\"))\n        .catch(showError)\n        .then(() => displayChart(vegaEmbed));\n    }\n  })({\"config\": {\"view\": {\"continuousWidth\": 400, \"continuousHeight\": 300}}, \"data\": {\"url\": \"https://vega.github.io/vega-datasets/data/world-110m.json\", \"format\": {\"feature\": \"countries\", \"type\": \"topojson\"}}, \"mark\": {\"type\": \"geoshape\", \"fill\": \"#2a1d0c\", \"stroke\": \"#706545\", \"strokeWidth\": 0.5}, \"projection\": {\"scale\": 165, \"translate\": [455, 100], \"type\": \"mercator\"}, \"$schema\": \"https://vega.github.io/schema/vega-lite/v4.0.2.json\"}, {\"mode\": \"vega-lite\"});\n</script>",
      "text/plain": "alt.Chart(...)"
     },
     "metadata": {},
     "execution_count": 9
    }
   ],
   "source": [
    "alt.Chart(alt.topo_feature(world, 'countries')).mark_geoshape(\n",
    "    fill='#2a1d0c', stroke='#706545', strokeWidth=0.5\n",
    ").project(\n",
    "    type='mercator', scale=165, translate=[455, 100]\n",
    ")"
   ]
  },
  {
   "cell_type": "markdown",
   "metadata": {},
   "source": [
    "_Nota como una resolución de 110 m de los datos se hace evidente a esta escala. Para ver líneas y límites costeros más detallados, necesitamos un archivo de entrada con geometrías más finas. ¡Ajusta los parámetros `scale` y `translate` para enfocar el mapa en otras regiones!_"
   ]
  },
  {
   "cell_type": "markdown",
   "metadata": {},
   "source": [
    "Hasta ahora nuestro mapa sólo muestra países. Usando el operador `layer`, podemos combinar múltiples elementos del mapa. Altair incluye _data generators (generadores de datos)_ que podemos usar para crear datos para capas adicionales del mapa:\n",
    "\n",
    "- El generador de esferas (`{'sphere': True}`) proporciona una representación en GeoJSON de la esfera completa de la Tierra. Podemos crear un marcador adicional `geoshape` que llena la forma de la Tierra como una capa de fondo.\n",
    "- El generador de gratículas (`{'graticule': ...}`) crea un *feature* de GeoJSON que representa una _graticule (gratícula)_: una cuadrícula formada por líneas de latitud y longitud. La gratícula por defecto tiene meridianos y paralelos cada 10° entre ±80° de latitud. Para las regiones polares, hay meridianos cada 90°. Estos ajustes pueden ser personalizados usando las propiedades `stepMinor` y `stepMajor`.\n",
    "\n",
    "Vamos a poner en capas la esfera, la gratícula y los marcadores de país en una especificación de mapa reutilizable:"
   ]
  },
  {
   "cell_type": "code",
   "execution_count": 10,
   "metadata": {},
   "outputs": [],
   "source": [
    "map = alt.layer(\n",
    "    # usar la esfera de la Tierra como la capa base\n",
    "    alt.Chart({'sphere': True}).mark_geoshape(\n",
    "        fill='#e6f3ff'\n",
    "    ),\n",
    "    # añadir una cuadrícula para las líneas de referencia geográfica\n",
    "    alt.Chart({'graticule': True}).mark_geoshape(\n",
    "        stroke='#ffffff', strokeWidth=1\n",
    "    ),\n",
    "    # y luego los países del mundo\n",
    "    alt.Chart(alt.topo_feature(world, 'countries')).mark_geoshape(\n",
    "        fill='#2a1d0c', stroke='#706545', strokeWidth=0.5\n",
    "    )\n",
    ").properties(\n",
    "    width=600,\n",
    "    height=400\n",
    ")"
   ]
  },
  {
   "cell_type": "markdown",
   "metadata": {},
   "source": [
    "Podemos extender el mapa con una proyección deseada y dibujar el resultado. Aquí aplicamos una [proyección natural de la Tierra](https://es.wikipedia.org/wiki/Proyecci%C3%B3n_Natural_Earth). La capa _sphere_ proporciona el fondo azul claro; la capa _graticule_ proporciona las líneas blancas de referencia geográfica."
   ]
  },
  {
   "cell_type": "code",
   "execution_count": 11,
   "metadata": {},
   "outputs": [
    {
     "output_type": "execute_result",
     "data": {
      "text/html": "\n<div id=\"altair-viz-0fb161b6e07943269e47e245025c99c9\"></div>\n<script type=\"text/javascript\">\n  (function(spec, embedOpt){\n    const outputDiv = document.getElementById(\"altair-viz-0fb161b6e07943269e47e245025c99c9\");\n    const paths = {\n      \"vega\": \"https://cdn.jsdelivr.net/npm//vega@5?noext\",\n      \"vega-lib\": \"https://cdn.jsdelivr.net/npm//vega-lib?noext\",\n      \"vega-lite\": \"https://cdn.jsdelivr.net/npm//vega-lite@4.0.2?noext\",\n      \"vega-embed\": \"https://cdn.jsdelivr.net/npm//vega-embed@6?noext\",\n    };\n\n    function loadScript(lib) {\n      return new Promise(function(resolve, reject) {\n        var s = document.createElement('script');\n        s.src = paths[lib];\n        s.async = true;\n        s.onload = () => resolve(paths[lib]);\n        s.onerror = () => reject(`Error loading script: ${paths[lib]}`);\n        document.getElementsByTagName(\"head\")[0].appendChild(s);\n      });\n    }\n\n    function showError(err) {\n      outputDiv.innerHTML = `<div class=\"error\" style=\"color:red;\">${err}</div>`;\n      throw err;\n    }\n\n    function displayChart(vegaEmbed) {\n      vegaEmbed(outputDiv, spec, embedOpt)\n        .catch(err => showError(`Javascript Error: ${err.message}<br>This usually means there's a typo in your chart specification. See the javascript console for the full traceback.`));\n    }\n\n    if(typeof define === \"function\" && define.amd) {\n      requirejs.config({paths});\n      require([\"vega-embed\"], displayChart, err => showError(`Error loading script: ${err.message}`));\n    } else if (typeof vegaEmbed === \"function\") {\n      displayChart(vegaEmbed);\n    } else {\n      loadScript(\"vega\")\n        .then(() => loadScript(\"vega-lite\"))\n        .then(() => loadScript(\"vega-embed\"))\n        .catch(showError)\n        .then(() => displayChart(vegaEmbed));\n    }\n  })({\"config\": {\"view\": {\"continuousWidth\": 400, \"continuousHeight\": 300, \"stroke\": null}}, \"layer\": [{\"data\": {\"sphere\": true}, \"mark\": {\"type\": \"geoshape\", \"fill\": \"#e6f3ff\"}}, {\"data\": {\"graticule\": true}, \"mark\": {\"type\": \"geoshape\", \"stroke\": \"#ffffff\", \"strokeWidth\": 1}}, {\"data\": {\"url\": \"https://vega.github.io/vega-datasets/data/world-110m.json\", \"format\": {\"feature\": \"countries\", \"type\": \"topojson\"}}, \"mark\": {\"type\": \"geoshape\", \"fill\": \"#2a1d0c\", \"stroke\": \"#706545\", \"strokeWidth\": 0.5}}], \"height\": 400, \"projection\": {\"scale\": 110, \"translate\": [300, 200], \"type\": \"naturalEarth1\"}, \"width\": 600, \"$schema\": \"https://vega.github.io/schema/vega-lite/v4.0.2.json\"}, {\"mode\": \"vega-lite\"});\n</script>",
      "text/plain": "alt.LayerChart(...)"
     },
     "metadata": {},
     "execution_count": 11
    }
   ],
   "source": [
    "map.project(\n",
    "    type='naturalEarth1', scale=110, translate=[300, 200]\n",
    ").configure_view(stroke=None)"
   ]
  },
  {
   "cell_type": "markdown",
   "metadata": {},
   "source": [
    "## Point Maps (Mapas con puntos)\n",
    "\n",
    "Además de los datos _geométricos_ provistos por los archivos GeoJSON o TopoJSON, muchos datos tabulares incluyen información geográfica en la forma de campos coordenadas de `longitude` y `latitude`, o referencia a regiones geográficas como nombres de países, nombres de estados, códigos postales, _etc._, los cuales pueden ser mapeados a coordenadas usando un [servicio de geocodificación](https://es.wikipedia.org/wiki/Geocodificaci%C3%B3n). En algunos casos, los datos de localización son lo suficientemente ricos como para que podamos ver patrones significativos proyectando sólo los puntos de datos &mdash; ¡no se requiere un mapa base!\n",
    "\n",
    "Veamos un conjunto de datos de códigos postales de 5 dígitos en los Estados Unidos, incluyendo coordinadas de `longitude`, `latitude` para cada oficina de correos, además de un campo `zip_code`."
   ]
  },
  {
   "cell_type": "code",
   "execution_count": 12,
   "metadata": {},
   "outputs": [
    {
     "output_type": "execute_result",
     "data": {
      "text/plain": "'https://vega.github.io/vega-datasets/data/zipcodes.csv'"
     },
     "metadata": {},
     "execution_count": 12
    }
   ],
   "source": [
    "zipcodes = data.zipcodes.url\n",
    "zipcodes"
   ]
  },
  {
   "cell_type": "markdown",
   "metadata": {},
   "source": [
    "Podemos visualizar la localización de cada oficina de correo usando un pequeño (1-pixel) marcador `square`. Sin embargo, para ajustar la posición _no_ usamos los canales `x` y `y`. _¿Por qué?_\n",
    "\n",
    "Mientras que las proyecciones cartográficas trazan las coordenadas (`longitude`, `latitude`) hacia las coordenadas (`x`, `y`), pueden hacerlo de manera arbitraria. ¡No hay garantía, por ejemplo, de que la `longitude` → `x` y la `latitude` → `y`! En su lugar, Altair incluye canales especiales de codificación de `longitude` y `latitude` para manejar las coordenadas geográficas. Estos canales indican qué campos de datos deben ser mapeados a las coordenadas de `longitude` y `latitude`, y luego aplica una proyección para mapear esas coordenadas a las posiciones `x` y `y`."
   ]
  },
  {
   "cell_type": "code",
   "execution_count": 13,
   "metadata": {},
   "outputs": [
    {
     "output_type": "execute_result",
     "data": {
      "text/html": "\n<div id=\"altair-viz-e0532afeeb1a43b69b6e31099af9ba8e\"></div>\n<script type=\"text/javascript\">\n  (function(spec, embedOpt){\n    const outputDiv = document.getElementById(\"altair-viz-e0532afeeb1a43b69b6e31099af9ba8e\");\n    const paths = {\n      \"vega\": \"https://cdn.jsdelivr.net/npm//vega@5?noext\",\n      \"vega-lib\": \"https://cdn.jsdelivr.net/npm//vega-lib?noext\",\n      \"vega-lite\": \"https://cdn.jsdelivr.net/npm//vega-lite@4.0.2?noext\",\n      \"vega-embed\": \"https://cdn.jsdelivr.net/npm//vega-embed@6?noext\",\n    };\n\n    function loadScript(lib) {\n      return new Promise(function(resolve, reject) {\n        var s = document.createElement('script');\n        s.src = paths[lib];\n        s.async = true;\n        s.onload = () => resolve(paths[lib]);\n        s.onerror = () => reject(`Error loading script: ${paths[lib]}`);\n        document.getElementsByTagName(\"head\")[0].appendChild(s);\n      });\n    }\n\n    function showError(err) {\n      outputDiv.innerHTML = `<div class=\"error\" style=\"color:red;\">${err}</div>`;\n      throw err;\n    }\n\n    function displayChart(vegaEmbed) {\n      vegaEmbed(outputDiv, spec, embedOpt)\n        .catch(err => showError(`Javascript Error: ${err.message}<br>This usually means there's a typo in your chart specification. See the javascript console for the full traceback.`));\n    }\n\n    if(typeof define === \"function\" && define.amd) {\n      requirejs.config({paths});\n      require([\"vega-embed\"], displayChart, err => showError(`Error loading script: ${err.message}`));\n    } else if (typeof vegaEmbed === \"function\") {\n      displayChart(vegaEmbed);\n    } else {\n      loadScript(\"vega\")\n        .then(() => loadScript(\"vega-lite\"))\n        .then(() => loadScript(\"vega-embed\"))\n        .catch(showError)\n        .then(() => displayChart(vegaEmbed));\n    }\n  })({\"config\": {\"view\": {\"continuousWidth\": 400, \"continuousHeight\": 300, \"stroke\": null}}, \"data\": {\"url\": \"https://vega.github.io/vega-datasets/data/zipcodes.csv\"}, \"mark\": {\"type\": \"square\", \"opacity\": 1, \"size\": 1}, \"encoding\": {\"latitude\": {\"field\": \"latitude\", \"type\": \"quantitative\"}, \"longitude\": {\"field\": \"longitude\", \"type\": \"quantitative\"}}, \"height\": 500, \"projection\": {\"type\": \"albersUsa\"}, \"width\": 900, \"$schema\": \"https://vega.github.io/schema/vega-lite/v4.0.2.json\"}, {\"mode\": \"vega-lite\"});\n</script>",
      "text/plain": "alt.Chart(...)"
     },
     "metadata": {},
     "execution_count": 13
    }
   ],
   "source": [
    "alt.Chart(zipcodes).mark_square(\n",
    "    size=1, opacity=1\n",
    ").encode(\n",
    "    longitude='longitude:Q', # aplica el campo llamado 'longitude' al canal longitude\n",
    "    latitude='latitude:Q'    # aplica el campo llamado'latitude' al canal latitude\n",
    ").project(\n",
    "    type='albersUsa'\n",
    ").properties(\n",
    "    width=900,\n",
    "    height=500\n",
    ").configure_view(\n",
    "    stroke=None\n",
    ")"
   ]
  },
  {
   "cell_type": "markdown",
   "metadata": {},
   "source": [
    "_¡Sólo trazando los códigos postales, podemos ver el contorno de los Estados Unidos y discernir patrones significativos con la densidad de las oficinas de correos, sin un mapa base o elementos de referencia adicionales!_\n",
    "\n",
    "Usamos la proyección `albersUsa`, que se toma algunas libertades con la geometría real de la Tierra, con versiones a escala de Alaska y Hawai en la esquina inferior izquierda. Como no especificamos los parámetros `scale` o `translate` de la proyección, Altair los ajusta automáticamente para que se ajusten a los datos visualizados. \n",
    "\n",
    "Ahora podemos seguir haciendo más preguntas sobre nuestro conjunto de datos. Por ejemplo, ¿hay alguna explicación para la asignación de los códigos postales? Para evaluar esta pregunta podemos añadir una codificación de color basada en el primer dígito del código postal. Primero agregamos una transformación `calculate` para extraer el primer dígito, y codificar el resultado usando el canal de color:"
   ]
  },
  {
   "cell_type": "code",
   "execution_count": 14,
   "metadata": {},
   "outputs": [
    {
     "output_type": "execute_result",
     "data": {
      "text/html": "\n<div id=\"altair-viz-a28f62c955024b22aaf03fcf06b593ef\"></div>\n<script type=\"text/javascript\">\n  (function(spec, embedOpt){\n    const outputDiv = document.getElementById(\"altair-viz-a28f62c955024b22aaf03fcf06b593ef\");\n    const paths = {\n      \"vega\": \"https://cdn.jsdelivr.net/npm//vega@5?noext\",\n      \"vega-lib\": \"https://cdn.jsdelivr.net/npm//vega-lib?noext\",\n      \"vega-lite\": \"https://cdn.jsdelivr.net/npm//vega-lite@4.0.2?noext\",\n      \"vega-embed\": \"https://cdn.jsdelivr.net/npm//vega-embed@6?noext\",\n    };\n\n    function loadScript(lib) {\n      return new Promise(function(resolve, reject) {\n        var s = document.createElement('script');\n        s.src = paths[lib];\n        s.async = true;\n        s.onload = () => resolve(paths[lib]);\n        s.onerror = () => reject(`Error loading script: ${paths[lib]}`);\n        document.getElementsByTagName(\"head\")[0].appendChild(s);\n      });\n    }\n\n    function showError(err) {\n      outputDiv.innerHTML = `<div class=\"error\" style=\"color:red;\">${err}</div>`;\n      throw err;\n    }\n\n    function displayChart(vegaEmbed) {\n      vegaEmbed(outputDiv, spec, embedOpt)\n        .catch(err => showError(`Javascript Error: ${err.message}<br>This usually means there's a typo in your chart specification. See the javascript console for the full traceback.`));\n    }\n\n    if(typeof define === \"function\" && define.amd) {\n      requirejs.config({paths});\n      require([\"vega-embed\"], displayChart, err => showError(`Error loading script: ${err.message}`));\n    } else if (typeof vegaEmbed === \"function\") {\n      displayChart(vegaEmbed);\n    } else {\n      loadScript(\"vega\")\n        .then(() => loadScript(\"vega-lite\"))\n        .then(() => loadScript(\"vega-embed\"))\n        .catch(showError)\n        .then(() => displayChart(vegaEmbed));\n    }\n  })({\"config\": {\"view\": {\"continuousWidth\": 400, \"continuousHeight\": 300, \"stroke\": null}}, \"data\": {\"url\": \"https://vega.github.io/vega-datasets/data/zipcodes.csv\"}, \"mark\": {\"type\": \"square\", \"opacity\": 1, \"size\": 2}, \"encoding\": {\"color\": {\"type\": \"nominal\", \"field\": \"digit\"}, \"latitude\": {\"field\": \"latitude\", \"type\": \"quantitative\"}, \"longitude\": {\"field\": \"longitude\", \"type\": \"quantitative\"}}, \"height\": 500, \"projection\": {\"type\": \"albersUsa\"}, \"transform\": [{\"calculate\": \"datum.zip_code[0]\", \"as\": \"digit\"}], \"width\": 900, \"$schema\": \"https://vega.github.io/schema/vega-lite/v4.0.2.json\"}, {\"mode\": \"vega-lite\"});\n</script>",
      "text/plain": "alt.Chart(...)"
     },
     "metadata": {},
     "execution_count": 14
    }
   ],
   "source": [
    "alt.Chart(zipcodes).transform_calculate(\n",
    "    digit='datum.zip_code[0]'\n",
    ").mark_square(\n",
    "    size=2, opacity=1\n",
    ").encode(\n",
    "    longitude='longitude:Q',\n",
    "    latitude='latitude:Q',\n",
    "    color='digit:N'\n",
    ").project(\n",
    "    type='albersUsa'\n",
    ").properties(\n",
    "    width=900,\n",
    "    height=500\n",
    ").configure_view(\n",
    "    stroke=None\n",
    ")"
   ]
  },
  {
   "cell_type": "markdown",
   "metadata": {},
   "source": [
    "_Para hacer *zoom* en un dígito específico, agrega una transformación de filtro para limitar los datos que se muestran. Intenta añadir una [selección interactiva](https://github.com/SimplificandoDatos/Altair/blob/master/06_interaccion_altair.ipynb) para filtrar a un solo dígito y actualizar dinámicamente el mapa. Y asegúrate de usar caracteres (\\`'1'\\`) en lugar de números (\\`1\\`) cuando estés filtrando los valores de los dígitos._\n",
    "\n",
    "(¡Este ejemplo está insparado en la visualización clásica [zipdecode](https://benfry.com/zipdecode/) de Ben Fry!)\n",
    "\n",
    "Podríamos preguntarnos qué podría indicar la _secuencia_ de los códigos postales. Una forma de explorar esta pregunta es conectar cada código postal consecutivo usando un marcador `line`, como lo hace Robert Kosara en la visaulización [ZipScribble](https://eagereyes.org/zipscribble-maps/united-states):"
   ]
  },
  {
   "cell_type": "code",
   "execution_count": 15,
   "metadata": {},
   "outputs": [
    {
     "output_type": "execute_result",
     "data": {
      "text/html": "\n<div id=\"altair-viz-29f68726bf5849e6974d07b8fa23e421\"></div>\n<script type=\"text/javascript\">\n  (function(spec, embedOpt){\n    const outputDiv = document.getElementById(\"altair-viz-29f68726bf5849e6974d07b8fa23e421\");\n    const paths = {\n      \"vega\": \"https://cdn.jsdelivr.net/npm//vega@5?noext\",\n      \"vega-lib\": \"https://cdn.jsdelivr.net/npm//vega-lib?noext\",\n      \"vega-lite\": \"https://cdn.jsdelivr.net/npm//vega-lite@4.0.2?noext\",\n      \"vega-embed\": \"https://cdn.jsdelivr.net/npm//vega-embed@6?noext\",\n    };\n\n    function loadScript(lib) {\n      return new Promise(function(resolve, reject) {\n        var s = document.createElement('script');\n        s.src = paths[lib];\n        s.async = true;\n        s.onload = () => resolve(paths[lib]);\n        s.onerror = () => reject(`Error loading script: ${paths[lib]}`);\n        document.getElementsByTagName(\"head\")[0].appendChild(s);\n      });\n    }\n\n    function showError(err) {\n      outputDiv.innerHTML = `<div class=\"error\" style=\"color:red;\">${err}</div>`;\n      throw err;\n    }\n\n    function displayChart(vegaEmbed) {\n      vegaEmbed(outputDiv, spec, embedOpt)\n        .catch(err => showError(`Javascript Error: ${err.message}<br>This usually means there's a typo in your chart specification. See the javascript console for the full traceback.`));\n    }\n\n    if(typeof define === \"function\" && define.amd) {\n      requirejs.config({paths});\n      require([\"vega-embed\"], displayChart, err => showError(`Error loading script: ${err.message}`));\n    } else if (typeof vegaEmbed === \"function\") {\n      displayChart(vegaEmbed);\n    } else {\n      loadScript(\"vega\")\n        .then(() => loadScript(\"vega-lite\"))\n        .then(() => loadScript(\"vega-embed\"))\n        .catch(showError)\n        .then(() => displayChart(vegaEmbed));\n    }\n  })({\"config\": {\"view\": {\"continuousWidth\": 400, \"continuousHeight\": 300, \"stroke\": null}}, \"data\": {\"url\": \"https://vega.github.io/vega-datasets/data/zipcodes.csv\"}, \"mark\": {\"type\": \"line\", \"strokeWidth\": 0.5}, \"encoding\": {\"color\": {\"type\": \"nominal\", \"field\": \"digit\"}, \"latitude\": {\"field\": \"latitude\", \"type\": \"quantitative\"}, \"longitude\": {\"field\": \"longitude\", \"type\": \"quantitative\"}, \"order\": {\"type\": \"ordinal\", \"field\": \"zip_code\"}}, \"height\": 500, \"projection\": {\"type\": \"albersUsa\"}, \"transform\": [{\"filter\": \"-150 < datum.longitude && 22 < datum.latitude && datum.latitude < 55\"}, {\"calculate\": \"datum.zip_code[0]\", \"as\": \"digit\"}], \"width\": 900, \"$schema\": \"https://vega.github.io/schema/vega-lite/v4.0.2.json\"}, {\"mode\": \"vega-lite\"});\n</script>",
      "text/plain": "alt.Chart(...)"
     },
     "metadata": {},
     "execution_count": 15
    }
   ],
   "source": [
    "alt.Chart(zipcodes).transform_filter(\n",
    "    '-150 < datum.longitude && 22 < datum.latitude && datum.latitude < 55'\n",
    ").transform_calculate(\n",
    "    digit='datum.zip_code[0]'\n",
    ").mark_line(\n",
    "    strokeWidth=0.5\n",
    ").encode(\n",
    "    longitude='longitude:Q',\n",
    "    latitude='latitude:Q',\n",
    "    color='digit:N',\n",
    "    order='zip_code:O'\n",
    ").project(\n",
    "    type='albersUsa'\n",
    ").properties(\n",
    "    width=900,\n",
    "    height=500\n",
    ").configure_view(\n",
    "    stroke=None\n",
    ")"
   ]
  },
  {
   "cell_type": "markdown",
   "metadata": {},
   "source": [
    "_Ahora podemos ver cómo los códigos postales se agrupan más en áreas más pequeñas, indicando una asignación jerárquica de los códigos por ubicación, pero con una notable variabilidad dentro de los grupos locales._\n",
    "\n",
    "Si prestaste atención a nuestros mapas anteriores, habrás notado que hay códigos postales trazados en la esquina superior izquierda. Estos corresponden a lugares como Puerto Rico o Samoa Americana, que contienen códigos postales de EE.UU. pero están mapeados en coordenadas `null` (`0`, `0`) por la proyección `albersUsa`. Además, Alaska y Hawai pueden complicar nuestra visión de los segmentos de línea de conexión. En respuesta, el código de arriba incluye un filtro adicional que elimina los puntos fuera de nuestra `longitude` y `latitude` elegidas.\n",
    "\n",
    "_¡Quita el filtro de arriba para ver qué pasa!_"
   ]
  },
  {
   "cell_type": "markdown",
   "metadata": {},
   "source": [
    "## Symbol Maps (Mapas con símbolos)"
   ]
  },
  {
   "cell_type": "markdown",
   "metadata": {},
   "source": [
    "Ahora combinemos un mapa base y datos graficados como capas separadas. Examinaremos la red de vuelos comerciales de EE.UU., considerando tanto los aeropuertos como las rutas de vuelo. Para ello, necesitaremos tres conjuntos de datos.\n",
    "Para nuestro mapa base, usaremos un archivo TopoJSON para los Estados Unidos con una resolución de 10m, que contiene características (*features*) para `states` o `counties`:"
   ]
  },
  {
   "cell_type": "code",
   "execution_count": 16,
   "metadata": {},
   "outputs": [
    {
     "output_type": "execute_result",
     "data": {
      "text/plain": "'https://vega.github.io/vega-datasets/data/us-10m.json'"
     },
     "metadata": {},
     "execution_count": 16
    }
   ],
   "source": [
    "usa = data.us_10m.url\n",
    "usa"
   ]
  },
  {
   "cell_type": "markdown",
   "metadata": {},
   "source": [
    "Para los aeropuertos, usaremos un conjunto de datos con campos para las coordenadas de `longitude` y `latitude` de cada aeropuerto, así como el código `iata` del aeropuerto &mdash; por ejemplo, `'SEA'`para el [Aeropuerto Internacional de Seattle-Tacoma](https://es.wikipedia.org/wiki/Aeropuerto_Internacional_de_Seattle-Tacoma)."
   ]
  },
  {
   "cell_type": "code",
   "execution_count": 17,
   "metadata": {},
   "outputs": [
    {
     "output_type": "execute_result",
     "data": {
      "text/plain": "'https://vega.github.io/vega-datasets/data/airports.csv'"
     },
     "metadata": {},
     "execution_count": 17
    }
   ],
   "source": [
    "airports = data.airports.url\n",
    "airports"
   ]
  },
  {
   "cell_type": "markdown",
   "metadata": {},
   "source": [
    "Finalmente, usaremos datos de las rutas de vuelo, que contiene campos de origen (`origin`) y destino (`destination`) con el código IATA para el respectivo aeropuerto:"
   ]
  },
  {
   "cell_type": "code",
   "execution_count": 18,
   "metadata": {},
   "outputs": [
    {
     "output_type": "execute_result",
     "data": {
      "text/plain": "'https://vega.github.io/vega-datasets/data/flights-airport.csv'"
     },
     "metadata": {},
     "execution_count": 18
    }
   ],
   "source": [
    "flights = data.flights_airport.url\n",
    "flights"
   ]
  },
  {
   "cell_type": "markdown",
   "metadata": {},
   "source": [
    "Comencemos creando un mapa base usando la proyección `albersUsa` y luego añadimos una capa que grafica marcadores `circle` para cada aeropuerto:"
   ]
  },
  {
   "cell_type": "code",
   "execution_count": 19,
   "metadata": {},
   "outputs": [
    {
     "output_type": "execute_result",
     "data": {
      "text/html": "\n<div id=\"altair-viz-458a05b930684375bd3782dc9dd7c743\"></div>\n<script type=\"text/javascript\">\n  (function(spec, embedOpt){\n    const outputDiv = document.getElementById(\"altair-viz-458a05b930684375bd3782dc9dd7c743\");\n    const paths = {\n      \"vega\": \"https://cdn.jsdelivr.net/npm//vega@5?noext\",\n      \"vega-lib\": \"https://cdn.jsdelivr.net/npm//vega-lib?noext\",\n      \"vega-lite\": \"https://cdn.jsdelivr.net/npm//vega-lite@4.0.2?noext\",\n      \"vega-embed\": \"https://cdn.jsdelivr.net/npm//vega-embed@6?noext\",\n    };\n\n    function loadScript(lib) {\n      return new Promise(function(resolve, reject) {\n        var s = document.createElement('script');\n        s.src = paths[lib];\n        s.async = true;\n        s.onload = () => resolve(paths[lib]);\n        s.onerror = () => reject(`Error loading script: ${paths[lib]}`);\n        document.getElementsByTagName(\"head\")[0].appendChild(s);\n      });\n    }\n\n    function showError(err) {\n      outputDiv.innerHTML = `<div class=\"error\" style=\"color:red;\">${err}</div>`;\n      throw err;\n    }\n\n    function displayChart(vegaEmbed) {\n      vegaEmbed(outputDiv, spec, embedOpt)\n        .catch(err => showError(`Javascript Error: ${err.message}<br>This usually means there's a typo in your chart specification. See the javascript console for the full traceback.`));\n    }\n\n    if(typeof define === \"function\" && define.amd) {\n      requirejs.config({paths});\n      require([\"vega-embed\"], displayChart, err => showError(`Error loading script: ${err.message}`));\n    } else if (typeof vegaEmbed === \"function\") {\n      displayChart(vegaEmbed);\n    } else {\n      loadScript(\"vega\")\n        .then(() => loadScript(\"vega-lite\"))\n        .then(() => loadScript(\"vega-embed\"))\n        .catch(showError)\n        .then(() => displayChart(vegaEmbed));\n    }\n  })({\"config\": {\"view\": {\"continuousWidth\": 400, \"continuousHeight\": 300, \"stroke\": null}}, \"layer\": [{\"data\": {\"url\": \"https://vega.github.io/vega-datasets/data/us-10m.json\", \"format\": {\"feature\": \"states\", \"type\": \"topojson\"}}, \"mark\": {\"type\": \"geoshape\", \"fill\": \"#ddd\", \"stroke\": \"#fff\", \"strokeWidth\": 1}}, {\"data\": {\"url\": \"https://vega.github.io/vega-datasets/data/airports.csv\"}, \"mark\": {\"type\": \"circle\", \"size\": 9}, \"encoding\": {\"latitude\": {\"field\": \"latitude\", \"type\": \"quantitative\"}, \"longitude\": {\"field\": \"longitude\", \"type\": \"quantitative\"}, \"tooltip\": {\"type\": \"nominal\", \"field\": \"iata\"}}}], \"height\": 500, \"projection\": {\"type\": \"albersUsa\"}, \"width\": 900, \"$schema\": \"https://vega.github.io/schema/vega-lite/v4.0.2.json\"}, {\"mode\": \"vega-lite\"});\n</script>",
      "text/plain": "alt.LayerChart(...)"
     },
     "metadata": {},
     "execution_count": 19
    }
   ],
   "source": [
    "alt.layer(\n",
    "    alt.Chart(alt.topo_feature(usa, 'states')).mark_geoshape(\n",
    "        fill='#ddd', stroke='#fff', strokeWidth=1\n",
    "    ),\n",
    "    alt.Chart(airports).mark_circle(size=9).encode(\n",
    "        latitude='latitude:Q',\n",
    "        longitude='longitude:Q',\n",
    "        tooltip='iata:N'\n",
    "    )\n",
    ").project(\n",
    "    type='albersUsa'\n",
    ").properties(\n",
    "    width=900,\n",
    "    height=500\n",
    ").configure_view(\n",
    "    stroke=None\n",
    ")"
   ]
  },
  {
   "cell_type": "markdown",
   "metadata": {},
   "source": [
    "¡Son muchos aeropuertos! Obviamente, no todos son grandes centros de operaciones.\n",
    "\n",
    "Similar al conjunto de datos de códigos postales, los datos de los aeropuertos incluyen puntos que están fuera de los Estados Unidos continentales. Así que de nuevo vemos puntos en la esquina superior izquierda. Puede que queramos filtrar estos puntos, pero para hacerlo primero necesitamos saber más sobre ellos.\n",
    "\n",
    "_¡Actualizar la proyección del mapa de arriba a `albers` &ndash; deja de lado el comportamiento idiosincrásico de `albersUsa` &ndash; para que se revele la ubicación real de estos puntos adicionales!_\n",
    "\n",
    "Ahora, en lugar de mostrar todos los aeropuertos de manera indiferenciada, identifiquemos los principales centros de operaciones considerando el número total de rutas que se originan en cada aeropuerto. Usaremos el conjunto de datos `routes` como nuestra principal fuente de datos: contiene una lista de rutas de vuelo que podemos agregar para contar el número de rutas de cada aeropuerto de origen (`origin`).\n",
    "\n",
    "¡Sin embargo, los datos `routes` no incluyen las _ubicaciones (locations)_ de los aeropuertos! Para usar los datos `routes` con las ubicaciones, necesitamos una nueva transformación de datos: `lookup`. La transformación `lookup` toma un valor de campo en un conjunto de datos primario y lo usa como una _llave (key)_ para buscar información relacionada en otra tabla. En este caso, queremos comparar el código del aeropuerto de origen en nuestra base de datos de rutas con el campo `iata` de los datos `airports`, y luego extraer los campos correspondientes de `latitude` y `longitude`."
   ]
  },
  {
   "cell_type": "code",
   "execution_count": 20,
   "metadata": {},
   "outputs": [
    {
     "output_type": "execute_result",
     "data": {
      "text/html": "\n<div id=\"altair-viz-f865ba7320c249e1b2af6a9f613addff\"></div>\n<script type=\"text/javascript\">\n  (function(spec, embedOpt){\n    const outputDiv = document.getElementById(\"altair-viz-f865ba7320c249e1b2af6a9f613addff\");\n    const paths = {\n      \"vega\": \"https://cdn.jsdelivr.net/npm//vega@5?noext\",\n      \"vega-lib\": \"https://cdn.jsdelivr.net/npm//vega-lib?noext\",\n      \"vega-lite\": \"https://cdn.jsdelivr.net/npm//vega-lite@4.0.2?noext\",\n      \"vega-embed\": \"https://cdn.jsdelivr.net/npm//vega-embed@6?noext\",\n    };\n\n    function loadScript(lib) {\n      return new Promise(function(resolve, reject) {\n        var s = document.createElement('script');\n        s.src = paths[lib];\n        s.async = true;\n        s.onload = () => resolve(paths[lib]);\n        s.onerror = () => reject(`Error loading script: ${paths[lib]}`);\n        document.getElementsByTagName(\"head\")[0].appendChild(s);\n      });\n    }\n\n    function showError(err) {\n      outputDiv.innerHTML = `<div class=\"error\" style=\"color:red;\">${err}</div>`;\n      throw err;\n    }\n\n    function displayChart(vegaEmbed) {\n      vegaEmbed(outputDiv, spec, embedOpt)\n        .catch(err => showError(`Javascript Error: ${err.message}<br>This usually means there's a typo in your chart specification. See the javascript console for the full traceback.`));\n    }\n\n    if(typeof define === \"function\" && define.amd) {\n      requirejs.config({paths});\n      require([\"vega-embed\"], displayChart, err => showError(`Error loading script: ${err.message}`));\n    } else if (typeof vegaEmbed === \"function\") {\n      displayChart(vegaEmbed);\n    } else {\n      loadScript(\"vega\")\n        .then(() => loadScript(\"vega-lite\"))\n        .then(() => loadScript(\"vega-embed\"))\n        .catch(showError)\n        .then(() => displayChart(vegaEmbed));\n    }\n  })({\"config\": {\"view\": {\"continuousWidth\": 400, \"continuousHeight\": 300, \"stroke\": null}}, \"layer\": [{\"data\": {\"url\": \"https://vega.github.io/vega-datasets/data/us-10m.json\", \"format\": {\"feature\": \"states\", \"type\": \"topojson\"}}, \"mark\": {\"type\": \"geoshape\", \"fill\": \"#ddd\", \"stroke\": \"#fff\", \"strokeWidth\": 1}}, {\"data\": {\"url\": \"https://vega.github.io/vega-datasets/data/flights-airport.csv\"}, \"mark\": \"circle\", \"encoding\": {\"latitude\": {\"field\": \"latitude\", \"type\": \"quantitative\"}, \"longitude\": {\"field\": \"longitude\", \"type\": \"quantitative\"}, \"order\": {\"type\": \"quantitative\", \"field\": \"routes\", \"sort\": \"descending\"}, \"size\": {\"type\": \"quantitative\", \"field\": \"routes\", \"legend\": null, \"scale\": {\"range\": [0, 1000]}}, \"tooltip\": [{\"type\": \"nominal\", \"field\": \"origin\"}, {\"type\": \"quantitative\", \"field\": \"routes\"}]}, \"transform\": [{\"aggregate\": [{\"op\": \"count\", \"as\": \"routes\"}], \"groupby\": [\"origin\"]}, {\"lookup\": \"origin\", \"from\": {\"data\": {\"url\": \"https://vega.github.io/vega-datasets/data/airports.csv\"}, \"key\": \"iata\", \"fields\": [\"state\", \"latitude\", \"longitude\"]}}, {\"filter\": \"datum.state !== \\\"PR\\\" && datum.state !== \\\"VI\\\"\"}]}], \"height\": 500, \"projection\": {\"type\": \"albersUsa\"}, \"width\": 900, \"$schema\": \"https://vega.github.io/schema/vega-lite/v4.0.2.json\"}, {\"mode\": \"vega-lite\"});\n</script>",
      "text/plain": "alt.LayerChart(...)"
     },
     "metadata": {},
     "execution_count": 20
    }
   ],
   "source": [
    "alt.layer(\n",
    "    alt.Chart(alt.topo_feature(usa, 'states')).mark_geoshape(\n",
    "        fill='#ddd', stroke='#fff', strokeWidth=1\n",
    "    ),\n",
    "    alt.Chart(flights).mark_circle().transform_aggregate(\n",
    "        groupby=['origin'],\n",
    "        routes='count()'\n",
    "    ).transform_lookup(\n",
    "        lookup='origin',\n",
    "        from_=alt.LookupData(data=airports, key='iata',\n",
    "                             fields=['state', 'latitude', 'longitude'])\n",
    "    ).transform_filter(\n",
    "        'datum.state !== \"PR\" && datum.state !== \"VI\"'\n",
    "    ).encode(\n",
    "        latitude='latitude:Q',\n",
    "        longitude='longitude:Q',\n",
    "        tooltip=['origin:N', 'routes:Q'],\n",
    "        size=alt.Size('routes:Q', scale=alt.Scale(range=[0, 1000]), legend=None),\n",
    "        order=alt.Order('routes:Q', sort='descending')\n",
    "    )\n",
    ").project(\n",
    "    type='albersUsa'\n",
    ").properties(\n",
    "    width=900,\n",
    "    height=500\n",
    ").configure_view(\n",
    "    stroke=None\n",
    ")"
   ]
  },
  {
   "cell_type": "markdown",
   "metadata": {},
   "source": [
    "_¿Qué aeropuertos de EE.UU. tienen el mayor número de rutas de salida?_\n",
    "\n",
    "Ahora que podemos ver los aeropuertos, podrías desear interactuar con ellos para entender mejor la estructura de la red de tráfico aéreo. Podemos añadir una capa de marcadore `rule` para representar las rutas de los aeropuertos de `origen (origin)` a los aeropuertos de `destino (destination)`, lo que requiere dos transformaciones `lookup` para recuperar las coordenadas de cada punto final. Además, podemos usar una selección `single` para filtrar estas rutas, de tal manera que sólo se muestren las rutas que se originan en el aeropuerto seleccionado actualmente.\n",
    "\n",
    "_A partir del mapa estático de arriba, ¿puedes construir una versión interactiva? Siéntete libre de saltarte el código de abajo para ver en el mapa interactivo primero y piensa en cómo podrías construirlo por tu cuenta!_"
   ]
  },
  {
   "cell_type": "code",
   "execution_count": 21,
   "metadata": {},
   "outputs": [
    {
     "output_type": "execute_result",
     "data": {
      "text/html": "\n<div id=\"altair-viz-3d9b649a59dc4c3a91d0b74bde358350\"></div>\n<script type=\"text/javascript\">\n  (function(spec, embedOpt){\n    const outputDiv = document.getElementById(\"altair-viz-3d9b649a59dc4c3a91d0b74bde358350\");\n    const paths = {\n      \"vega\": \"https://cdn.jsdelivr.net/npm//vega@5?noext\",\n      \"vega-lib\": \"https://cdn.jsdelivr.net/npm//vega-lib?noext\",\n      \"vega-lite\": \"https://cdn.jsdelivr.net/npm//vega-lite@4.0.2?noext\",\n      \"vega-embed\": \"https://cdn.jsdelivr.net/npm//vega-embed@6?noext\",\n    };\n\n    function loadScript(lib) {\n      return new Promise(function(resolve, reject) {\n        var s = document.createElement('script');\n        s.src = paths[lib];\n        s.async = true;\n        s.onload = () => resolve(paths[lib]);\n        s.onerror = () => reject(`Error loading script: ${paths[lib]}`);\n        document.getElementsByTagName(\"head\")[0].appendChild(s);\n      });\n    }\n\n    function showError(err) {\n      outputDiv.innerHTML = `<div class=\"error\" style=\"color:red;\">${err}</div>`;\n      throw err;\n    }\n\n    function displayChart(vegaEmbed) {\n      vegaEmbed(outputDiv, spec, embedOpt)\n        .catch(err => showError(`Javascript Error: ${err.message}<br>This usually means there's a typo in your chart specification. See the javascript console for the full traceback.`));\n    }\n\n    if(typeof define === \"function\" && define.amd) {\n      requirejs.config({paths});\n      require([\"vega-embed\"], displayChart, err => showError(`Error loading script: ${err.message}`));\n    } else if (typeof vegaEmbed === \"function\") {\n      displayChart(vegaEmbed);\n    } else {\n      loadScript(\"vega\")\n        .then(() => loadScript(\"vega-lite\"))\n        .then(() => loadScript(\"vega-embed\"))\n        .catch(showError)\n        .then(() => displayChart(vegaEmbed));\n    }\n  })({\"config\": {\"view\": {\"continuousWidth\": 400, \"continuousHeight\": 300, \"stroke\": null}}, \"layer\": [{\"data\": {\"url\": \"https://vega.github.io/vega-datasets/data/us-10m.json\", \"format\": {\"feature\": \"states\", \"type\": \"topojson\"}}, \"mark\": {\"type\": \"geoshape\", \"fill\": \"#ddd\", \"stroke\": \"#fff\", \"strokeWidth\": 1}}, {\"data\": {\"url\": \"https://vega.github.io/vega-datasets/data/flights-airport.csv\"}, \"mark\": {\"type\": \"rule\", \"color\": \"#000\", \"opacity\": 0.35}, \"encoding\": {\"latitude\": {\"field\": \"latitude\", \"type\": \"quantitative\"}, \"latitude2\": {\"field\": \"lat2\"}, \"longitude\": {\"field\": \"longitude\", \"type\": \"quantitative\"}, \"longitude2\": {\"field\": \"lon2\"}}, \"transform\": [{\"filter\": {\"selection\": \"selector001\"}}, {\"lookup\": \"origin\", \"from\": {\"data\": {\"url\": \"https://vega.github.io/vega-datasets/data/airports.csv\"}, \"key\": \"iata\", \"fields\": [\"latitude\", \"longitude\"]}}, {\"lookup\": \"destination\", \"as\": [\"lat2\", \"lon2\"], \"from\": {\"data\": {\"url\": \"https://vega.github.io/vega-datasets/data/airports.csv\"}, \"key\": \"iata\", \"fields\": [\"latitude\", \"longitude\"]}}]}, {\"data\": {\"url\": \"https://vega.github.io/vega-datasets/data/flights-airport.csv\"}, \"mark\": \"circle\", \"encoding\": {\"latitude\": {\"field\": \"latitude\", \"type\": \"quantitative\"}, \"longitude\": {\"field\": \"longitude\", \"type\": \"quantitative\"}, \"order\": {\"type\": \"quantitative\", \"field\": \"routes\", \"sort\": \"descending\"}, \"size\": {\"type\": \"quantitative\", \"field\": \"routes\", \"legend\": null, \"scale\": {\"range\": [0, 1000]}}, \"tooltip\": [{\"type\": \"nominal\", \"field\": \"origin\"}, {\"type\": \"quantitative\", \"field\": \"routes\"}]}, \"selection\": {\"selector001\": {\"type\": \"single\", \"on\": \"mouseover\", \"nearest\": true, \"fields\": [\"origin\"], \"empty\": \"none\"}}, \"transform\": [{\"aggregate\": [{\"op\": \"count\", \"as\": \"routes\"}], \"groupby\": [\"origin\"]}, {\"lookup\": \"origin\", \"from\": {\"data\": {\"url\": \"https://vega.github.io/vega-datasets/data/airports.csv\"}, \"key\": \"iata\", \"fields\": [\"state\", \"latitude\", \"longitude\"]}}, {\"filter\": \"datum.state !== \\\"PR\\\" && datum.state !== \\\"VI\\\"\"}]}], \"height\": 500, \"projection\": {\"type\": \"albersUsa\"}, \"width\": 900, \"$schema\": \"https://vega.github.io/schema/vega-lite/v4.0.2.json\"}, {\"mode\": \"vega-lite\"});\n</script>",
      "text/plain": "alt.LayerChart(...)"
     },
     "metadata": {},
     "execution_count": 21
    }
   ],
   "source": [
    "# selección interactiva para el aeropuerto de origen\n",
    "# seleccion el aeropuerto más cercano al cursor del mouse\n",
    "origin = alt.selection_single(\n",
    "    on='mouseover', nearest=True,\n",
    "    fields=['origin'], empty='none'\n",
    ")\n",
    "\n",
    "# la referencia de los datos compartidos para la transformación lookup\n",
    "foreign = alt.LookupData(data=airports, key='iata',\n",
    "                         fields=['latitude', 'longitude'])\n",
    "    \n",
    "alt.layer(\n",
    "    # mapa base de los Estados Unidos\n",
    "    alt.Chart(alt.topo_feature(usa, 'states')).mark_geoshape(\n",
    "        fill='#ddd', stroke='#fff', strokeWidth=1\n",
    "    ),\n",
    "    # líneas de ruta desde el aeropuerto de origen seleccionado hasta los aeropuertos de destino\n",
    "    alt.Chart(flights).mark_rule(\n",
    "        color='#000', opacity=0.35\n",
    "    ).transform_filter(\n",
    "        origin # filtrar sólo al origen seleccionado\n",
    "    ).transform_lookup(\n",
    "        lookup='origin', from_=foreign # origen lat/lon\n",
    "    ).transform_lookup(\n",
    "        lookup='destination', from_=foreign, as_=['lat2', 'lon2'] # destino lat/lon\n",
    "    ).encode(\n",
    "        latitude='latitude:Q',\n",
    "        longitude='longitude:Q',\n",
    "        latitude2='lat2',\n",
    "        longitude2='lon2',\n",
    "    ),\n",
    "    # El tamaño de los aeropuertos por el número de rutas de salida\n",
    "    # 1. Conjunto de datos agregados de vuelos y aeropuertos\n",
    "    # 2. Buscar datos de ubicación del conjunto de datos airport\n",
    "    # 3. Eliminar Puerto Rico (PR) y las Islas Vírgenes (VI)\n",
    "    alt.Chart(flights).mark_circle().transform_aggregate(\n",
    "        groupby=['origin'],\n",
    "        routes='count()'\n",
    "    ).transform_lookup(\n",
    "        lookup='origin',\n",
    "        from_=alt.LookupData(data=airports, key='iata',\n",
    "                             fields=['state', 'latitude', 'longitude'])\n",
    "    ).transform_filter(\n",
    "        'datum.state !== \"PR\" && datum.state !== \"VI\"'\n",
    "    ).add_selection(\n",
    "        origin\n",
    "    ).encode(\n",
    "        latitude='latitude:Q',\n",
    "        longitude='longitude:Q',\n",
    "        tooltip=['origin:N', 'routes:Q'],\n",
    "        size=alt.Size('routes:Q', scale=alt.Scale(range=[0, 1000]), legend=None),\n",
    "        order=alt.Order('routes:Q', sort='descending') # colocar arriba los círculos pequeños\n",
    "    )\n",
    ").project(\n",
    "    type='albersUsa'\n",
    ").properties(\n",
    "    width=900,\n",
    "    height=500\n",
    ").configure_view(\n",
    "    stroke=None\n",
    ")"
   ]
  },
  {
   "cell_type": "markdown",
   "metadata": {},
   "source": [
    "_¡Pasa el ratón sobre el mapa para probar la red de vuelos!_"
   ]
  },
  {
   "cell_type": "markdown",
   "metadata": {},
   "source": [
    "## Choropleth Maps (Mapas coropléticos)"
   ]
  },
  {
   "cell_type": "markdown",
   "metadata": {},
   "source": [
    "Un [mapa coroplético](https://es.wikipedia.org/wiki/Mapa_coroplético) utiliza regiones sombreadas o con textura para visualizar los valores de los datos. Los mapas de símbolos de tamaño variable a menudo son más precisos de leer, ya que la gente tiende a ser mejor en la estimación de las diferencias proporcionales entre el área de los círculos que entre las tonalidades de color. No obstante, los mapas de coropléticos son populares en la práctica y particularmente útiles cuando demasiados símbolos se vuelven perceptiblemente abrumadores.\n",
    "\n",
    "Por ejemplo, mientras que los Estados Unidos sólo tienen 50 estados, tienen miles de condados dentro de esos estados. Construyamos un mapa coroplético de la tasa de desempleo por condado, allá por el año de recesión de 2008. En algunos casos, los archivos GeoJSON o TopoJSON de entrada pueden incluir datos estadísticos que podemos visualizar directamente. En este caso, sin embargo, tenemos dos archivos: nuestro archivo TopoJSON que incluye características de los límites de los condados (`usa`), y un archivo de texto separado que contiene estadísticas de desempleo:"
   ]
  },
  {
   "cell_type": "code",
   "execution_count": 22,
   "metadata": {},
   "outputs": [
    {
     "output_type": "execute_result",
     "data": {
      "text/plain": "'https://vega.github.io/vega-datasets/data/unemployment.tsv'"
     },
     "metadata": {},
     "execution_count": 22
    }
   ],
   "source": [
    "unemp = data.unemployment.url\n",
    "unemp"
   ]
  },
  {
   "cell_type": "markdown",
   "metadata": {},
   "source": [
    "Para integrar nuestras fuentes de datos, tendremos que usar de nuevo la transformación de `lookup`, aumentando nuestros datos de `geoshape` basados en TopoJSON con las tasas de desempleo. Podemos crear un mapa que incluya una codificación de color para el campo de tasa de desempleo, `rate`."
   ]
  },
  {
   "cell_type": "code",
   "execution_count": 23,
   "metadata": {},
   "outputs": [
    {
     "output_type": "execute_result",
     "data": {
      "text/html": "\n<div id=\"altair-viz-8ab5d8e1cae54aff8ecd86b4e369671d\"></div>\n<script type=\"text/javascript\">\n  (function(spec, embedOpt){\n    const outputDiv = document.getElementById(\"altair-viz-8ab5d8e1cae54aff8ecd86b4e369671d\");\n    const paths = {\n      \"vega\": \"https://cdn.jsdelivr.net/npm//vega@5?noext\",\n      \"vega-lib\": \"https://cdn.jsdelivr.net/npm//vega-lib?noext\",\n      \"vega-lite\": \"https://cdn.jsdelivr.net/npm//vega-lite@4.0.2?noext\",\n      \"vega-embed\": \"https://cdn.jsdelivr.net/npm//vega-embed@6?noext\",\n    };\n\n    function loadScript(lib) {\n      return new Promise(function(resolve, reject) {\n        var s = document.createElement('script');\n        s.src = paths[lib];\n        s.async = true;\n        s.onload = () => resolve(paths[lib]);\n        s.onerror = () => reject(`Error loading script: ${paths[lib]}`);\n        document.getElementsByTagName(\"head\")[0].appendChild(s);\n      });\n    }\n\n    function showError(err) {\n      outputDiv.innerHTML = `<div class=\"error\" style=\"color:red;\">${err}</div>`;\n      throw err;\n    }\n\n    function displayChart(vegaEmbed) {\n      vegaEmbed(outputDiv, spec, embedOpt)\n        .catch(err => showError(`Javascript Error: ${err.message}<br>This usually means there's a typo in your chart specification. See the javascript console for the full traceback.`));\n    }\n\n    if(typeof define === \"function\" && define.amd) {\n      requirejs.config({paths});\n      require([\"vega-embed\"], displayChart, err => showError(`Error loading script: ${err.message}`));\n    } else if (typeof vegaEmbed === \"function\") {\n      displayChart(vegaEmbed);\n    } else {\n      loadScript(\"vega\")\n        .then(() => loadScript(\"vega-lite\"))\n        .then(() => loadScript(\"vega-embed\"))\n        .catch(showError)\n        .then(() => displayChart(vegaEmbed));\n    }\n  })({\"config\": {\"view\": {\"continuousWidth\": 400, \"continuousHeight\": 300, \"stroke\": null}}, \"data\": {\"url\": \"https://vega.github.io/vega-datasets/data/us-10m.json\", \"format\": {\"feature\": \"counties\", \"type\": \"topojson\"}}, \"mark\": {\"type\": \"geoshape\", \"stroke\": \"#aaa\", \"strokeWidth\": 0.25}, \"encoding\": {\"color\": {\"type\": \"quantitative\", \"field\": \"rate\", \"legend\": {\"format\": \"%\"}, \"scale\": {\"clamp\": true, \"domain\": [0, 0.3]}}, \"tooltip\": {\"type\": \"quantitative\", \"field\": \"rate\", \"format\": \".0%\"}}, \"height\": 500, \"projection\": {\"type\": \"albersUsa\"}, \"transform\": [{\"lookup\": \"id\", \"from\": {\"data\": {\"url\": \"https://vega.github.io/vega-datasets/data/unemployment.tsv\"}, \"key\": \"id\", \"fields\": [\"rate\"]}}], \"width\": 900, \"$schema\": \"https://vega.github.io/schema/vega-lite/v4.0.2.json\"}, {\"mode\": \"vega-lite\"});\n</script>",
      "text/plain": "alt.Chart(...)"
     },
     "metadata": {},
     "execution_count": 23
    }
   ],
   "source": [
    "alt.Chart(alt.topo_feature(usa, 'counties')).mark_geoshape(\n",
    "    stroke='#aaa', strokeWidth=0.25\n",
    ").transform_lookup(\n",
    "    lookup='id', from_=alt.LookupData(data=unemp, key='id', fields=['rate'])\n",
    ").encode(\n",
    "    alt.Color('rate:Q',\n",
    "              scale=alt.Scale(domain=[0, 0.3], clamp=True), \n",
    "              legend=alt.Legend(format='%')),\n",
    "    alt.Tooltip('rate:Q', format='.0%')\n",
    ").project(\n",
    "    type='albersUsa'\n",
    ").properties(\n",
    "    width=900,\n",
    "    height=500\n",
    ").configure_view(\n",
    "    stroke=None\n",
    ")"
   ]
  },
  {
   "cell_type": "markdown",
   "metadata": {},
   "source": [
    "*Examina la tasa de desempleo por condado. Los valores mayores en Michigan podrían relacionarse con la industria automotriz. Los condados de los estados en [\"Las Grandes Llanuras\"](https://es.wikipedia.org/wiki/Grandes_Llanuras) y los montañosos exhiben ambas bajas **y** altas tasas. ¿Si esta variación es significante, o si posiblemente es un [artificio producto de un muestreo bajo](https://medium.com/@uwdata/surprise-maps-showing-the-unexpected-e92b67398865)? Para explorar más, intenta cambiar la escala de dominio superior (por ejempolo a `0.2`) para ajustar el color.*\n",
    "\n",
    "Una preocupación central de los mapas coropléticos es la elección de los colores. Arriba, usamos el esquema predeterminado de Altair `'yellowgreenblue'` para los mapas de calor. Abajo comparamos otros esquemas, incluyendo un esquema secuencial de un solo tono (`tealblues`) que varía sólo en iluminación, un esquema secuencial de varios tonos (`viridis`) que aumenta tanto la iluminación como el tono, y un esquema divergente (`blueorange`) que usa un punto medio de color blanco:"
   ]
  },
  {
   "cell_type": "code",
   "execution_count": 24,
   "metadata": {},
   "outputs": [
    {
     "output_type": "execute_result",
     "data": {
      "text/html": "\n<div id=\"altair-viz-7d232f2a67554b25b327c2107cbd7c75\"></div>\n<script type=\"text/javascript\">\n  (function(spec, embedOpt){\n    const outputDiv = document.getElementById(\"altair-viz-7d232f2a67554b25b327c2107cbd7c75\");\n    const paths = {\n      \"vega\": \"https://cdn.jsdelivr.net/npm//vega@5?noext\",\n      \"vega-lib\": \"https://cdn.jsdelivr.net/npm//vega-lib?noext\",\n      \"vega-lite\": \"https://cdn.jsdelivr.net/npm//vega-lite@4.0.2?noext\",\n      \"vega-embed\": \"https://cdn.jsdelivr.net/npm//vega-embed@6?noext\",\n    };\n\n    function loadScript(lib) {\n      return new Promise(function(resolve, reject) {\n        var s = document.createElement('script');\n        s.src = paths[lib];\n        s.async = true;\n        s.onload = () => resolve(paths[lib]);\n        s.onerror = () => reject(`Error loading script: ${paths[lib]}`);\n        document.getElementsByTagName(\"head\")[0].appendChild(s);\n      });\n    }\n\n    function showError(err) {\n      outputDiv.innerHTML = `<div class=\"error\" style=\"color:red;\">${err}</div>`;\n      throw err;\n    }\n\n    function displayChart(vegaEmbed) {\n      vegaEmbed(outputDiv, spec, embedOpt)\n        .catch(err => showError(`Javascript Error: ${err.message}<br>This usually means there's a typo in your chart specification. See the javascript console for the full traceback.`));\n    }\n\n    if(typeof define === \"function\" && define.amd) {\n      requirejs.config({paths});\n      require([\"vega-embed\"], displayChart, err => showError(`Error loading script: ${err.message}`));\n    } else if (typeof vegaEmbed === \"function\") {\n      displayChart(vegaEmbed);\n    } else {\n      loadScript(\"vega\")\n        .then(() => loadScript(\"vega-lite\"))\n        .then(() => loadScript(\"vega-embed\"))\n        .catch(showError)\n        .then(() => displayChart(vegaEmbed));\n    }\n  })({\"config\": {\"view\": {\"continuousWidth\": 400, \"continuousHeight\": 300, \"stroke\": null}}, \"hconcat\": [{\"mark\": \"geoshape\", \"encoding\": {\"color\": {\"type\": \"quantitative\", \"field\": \"rate\", \"legend\": null, \"scale\": {\"scheme\": \"tealblues\"}}}, \"height\": 200, \"projection\": {\"type\": \"albersUsa\"}, \"width\": 305}, {\"mark\": \"geoshape\", \"encoding\": {\"color\": {\"type\": \"quantitative\", \"field\": \"rate\", \"legend\": null, \"scale\": {\"scheme\": \"viridis\"}}}, \"height\": 200, \"projection\": {\"type\": \"albersUsa\"}, \"width\": 305}, {\"mark\": \"geoshape\", \"encoding\": {\"color\": {\"type\": \"quantitative\", \"field\": \"rate\", \"legend\": null, \"scale\": {\"scheme\": \"blueorange\"}}}, \"height\": 200, \"projection\": {\"type\": \"albersUsa\"}, \"width\": 305}], \"data\": {\"url\": \"https://vega.github.io/vega-datasets/data/us-10m.json\", \"format\": {\"feature\": \"counties\", \"type\": \"topojson\"}}, \"resolve\": {\"scale\": {\"color\": \"independent\"}}, \"transform\": [{\"lookup\": \"id\", \"from\": {\"data\": {\"url\": \"https://vega.github.io/vega-datasets/data/unemployment.tsv\"}, \"key\": \"id\", \"fields\": [\"rate\"]}}], \"$schema\": \"https://vega.github.io/schema/vega-lite/v4.0.2.json\"}, {\"mode\": \"vega-lite\"});\n</script>",
      "text/plain": "alt.HConcatChart(...)"
     },
     "metadata": {},
     "execution_count": 24
    }
   ],
   "source": [
    "# función para generar la especificación de un mapa para el esquema de color previsto\n",
    "def map_(scheme):\n",
    "    return alt.Chart().mark_geoshape().project(type='albersUsa').encode(\n",
    "        alt.Color('rate:Q', scale=alt.Scale(scheme=scheme), legend=None)\n",
    "    ).properties(width=305, height=200)\n",
    "\n",
    "alt.hconcat(\n",
    "    map_('tealblues'), map_('viridis'), map_('blueorange'),\n",
    "    data=alt.topo_feature(usa, 'counties')\n",
    ").transform_lookup(\n",
    "    lookup='id', from_=alt.LookupData(data=unemp, key='id', fields=['rate'])\n",
    ").configure_view(\n",
    "    stroke=None\n",
    ").resolve_scale(\n",
    "    color='independent'\n",
    ")"
   ]
  },
  {
   "cell_type": "markdown",
   "metadata": {},
   "source": [
    "_¿Cuál esquema de color consideras más efectivo? ¿Por qué lo crees? Modifica los mapas anteriores usando otros esquemas disponibles, como están descritos en la [documentación de Vega de los esquemas de colores](https://vega.github.io/vega/docs/schemes/)._"
   ]
  },
  {
   "cell_type": "markdown",
   "metadata": {},
   "source": [
    "## Cartographic Projections (Proyecciones cartográficas)"
   ]
  },
  {
   "cell_type": "markdown",
   "metadata": {},
   "source": [
    "Ahora que tenemos algo de experiencia creando mapas, acerquémonos a las proyecciones cartográficas. Como se explica en [Wikipedia](https://en.wikipedia.org/wiki/Map_projection),\n",
    "\n",
    "> _All map projections necessarily distort the surface in some fashion. Depending on the purpose of the map, some distortions are acceptable and others are not; therefore, different map projections exist in order to preserve some properties of the sphere-like body at the expense of other properties._\n",
    "\n",
    "**Traducción:**\n",
    ">_Todas las proyeccciones de mapas distorsionan la superficie de alguna forma. Dependiendo del propósito del mapa, algunas distorsiones on aceptables y otras no; por lo tanto, existen diferentes proyeecciones de mapas con el objetivo de preservar algunas propiedades del cuerpo esférico a expensas de otras propiedades._\n",
    "\n",
    "Algunas de las propiedades que podríamos considerar incluyen:\n",
    "- _Área_: ¿La proyección distorsiona los tamaños de las regiones?\n",
    "- _Rumbo (bearing)_: ¿Corresponde una línea recta a una dirección constante de viaje?\n",
    "- _La distancia_: ¿Las líneas de igual longitud corresponden a distancias iguales en el globo?\n",
    "- _Forma_: ¿La proyección conserva las relaciones espaciales (ángulos) entre los puntos?\n",
    "\n",
    "La selección de una proyección apropiada depende, por lo tanto, del caso de uso del mapa. Por ejemplo, si estamos evaluando el uso de la tierra y la extensión de los asuntos de la tierra, podríamos elegir una proyección de conservación del área. Si queremos visualizar las ondas de choque que emanan de un terremoto, podríamos enfocar el mapa en el epicentro del terremoto y preservar las distancias hacia afuera de ese punto. O, si queremos ayudar a la navegación, la preservación del rumbo y la forma puede ser más importante.\n",
    "\n",
    "También podemos caracterizar las proyecciones en términos de la _superficie de proyección_. Las proyecciones cilíndricas, por ejemplo, proyectan puntos de la superficie de la esfera sobre un cilindro circundante; el cilindro \"desenrollado\" proporciona entonces nuestro mapa. Como describimos más adelante, podemos proyectar alternativamente sobre la superficie de un cono (proyecciones cónicas) o directamente sobre un plano plano plano (proyecciones azimutales).\n",
    "\n",
    "*Primero construyamos nuestra intuición interactuando con una variedad de proyecciones* **[Abre el cuaderno de Proyecciones Cartográficas Vega-Lite en línea](https://observablehq.com/@vega/vega-lite-cartographic-projections).** Utiliza los controles de esa página para seleccionar una proyección y explorar los parámetros de la misma, como `scale` (zoom) y el despalazamiento x/y (panning). Los controles de rotación ([yaw, pitch, roll/guiñada, inclinación, balanceo](https://es.wikipedia.org/wiki/Ejes_del_avi%C3%B3n)) determinan la orientación del globo en relación con la superficie sobre la que se proyecta.*"
   ]
  },
  {
   "cell_type": "markdown",
   "metadata": {},
   "source": [
    "### A Tour of Specific Projection Types (Un recorrido por tipos de proyección específicos)"
   ]
  },
  {
   "cell_type": "markdown",
   "metadata": {},
   "source": [
    "[**Proyecciones cilíndricas**](https://en.wikipedia.org/wiki/Map_projection#Cylindrical) mapean la esfera en un cilindro circundante, luego desenrollan el cilindro. Si el eje principal del cilindro está orientado de norte a sur, los meridianos se trazan en líneas rectas. Las proyecciones [seudo cilíndricas](https://en.wikipedia.org/wiki/Map_projection#Pseudocylindrical) representan un meridiano central como una línea recta, con otros meridianos \"doblándose\" alejándose del centro."
   ]
  },
  {
   "cell_type": "code",
   "execution_count": 25,
   "metadata": {},
   "outputs": [
    {
     "output_type": "execute_result",
     "data": {
      "text/html": "\n<div id=\"altair-viz-be1286087cd6481cbcd0694fb3d0d228\"></div>\n<script type=\"text/javascript\">\n  (function(spec, embedOpt){\n    const outputDiv = document.getElementById(\"altair-viz-be1286087cd6481cbcd0694fb3d0d228\");\n    const paths = {\n      \"vega\": \"https://cdn.jsdelivr.net/npm//vega@5?noext\",\n      \"vega-lib\": \"https://cdn.jsdelivr.net/npm//vega-lib?noext\",\n      \"vega-lite\": \"https://cdn.jsdelivr.net/npm//vega-lite@4.0.2?noext\",\n      \"vega-embed\": \"https://cdn.jsdelivr.net/npm//vega-embed@6?noext\",\n    };\n\n    function loadScript(lib) {\n      return new Promise(function(resolve, reject) {\n        var s = document.createElement('script');\n        s.src = paths[lib];\n        s.async = true;\n        s.onload = () => resolve(paths[lib]);\n        s.onerror = () => reject(`Error loading script: ${paths[lib]}`);\n        document.getElementsByTagName(\"head\")[0].appendChild(s);\n      });\n    }\n\n    function showError(err) {\n      outputDiv.innerHTML = `<div class=\"error\" style=\"color:red;\">${err}</div>`;\n      throw err;\n    }\n\n    function displayChart(vegaEmbed) {\n      vegaEmbed(outputDiv, spec, embedOpt)\n        .catch(err => showError(`Javascript Error: ${err.message}<br>This usually means there's a typo in your chart specification. See the javascript console for the full traceback.`));\n    }\n\n    if(typeof define === \"function\" && define.amd) {\n      requirejs.config({paths});\n      require([\"vega-embed\"], displayChart, err => showError(`Error loading script: ${err.message}`));\n    } else if (typeof vegaEmbed === \"function\") {\n      displayChart(vegaEmbed);\n    } else {\n      loadScript(\"vega\")\n        .then(() => loadScript(\"vega-lite\"))\n        .then(() => loadScript(\"vega-embed\"))\n        .catch(showError)\n        .then(() => displayChart(vegaEmbed));\n    }\n  })({\"config\": {\"view\": {\"continuousWidth\": 400, \"continuousHeight\": 300, \"stroke\": null}}, \"hconcat\": [{\"layer\": [{\"data\": {\"sphere\": true}, \"mark\": {\"type\": \"geoshape\", \"fill\": \"#e6f3ff\"}}, {\"data\": {\"graticule\": true}, \"mark\": {\"type\": \"geoshape\", \"stroke\": \"#ffffff\", \"strokeWidth\": 1}}, {\"data\": {\"url\": \"https://vega.github.io/vega-datasets/data/world-110m.json\", \"format\": {\"feature\": \"countries\", \"type\": \"topojson\"}}, \"mark\": {\"type\": \"geoshape\", \"fill\": \"#2a1d0c\", \"stroke\": \"#706545\", \"strokeWidth\": 0.5}}], \"height\": 225, \"projection\": {\"type\": \"equirectangular\"}, \"title\": \"equirectangular\", \"width\": 225}, {\"layer\": [{\"data\": {\"sphere\": true}, \"mark\": {\"type\": \"geoshape\", \"fill\": \"#e6f3ff\"}}, {\"data\": {\"graticule\": true}, \"mark\": {\"type\": \"geoshape\", \"stroke\": \"#ffffff\", \"strokeWidth\": 1}}, {\"data\": {\"url\": \"https://vega.github.io/vega-datasets/data/world-110m.json\", \"format\": {\"feature\": \"countries\", \"type\": \"topojson\"}}, \"mark\": {\"type\": \"geoshape\", \"fill\": \"#2a1d0c\", \"stroke\": \"#706545\", \"strokeWidth\": 0.5}}], \"height\": 225, \"projection\": {\"type\": \"mercator\"}, \"title\": \"mercator\", \"width\": 225}, {\"layer\": [{\"data\": {\"sphere\": true}, \"mark\": {\"type\": \"geoshape\", \"fill\": \"#e6f3ff\"}}, {\"data\": {\"graticule\": true}, \"mark\": {\"type\": \"geoshape\", \"stroke\": \"#ffffff\", \"strokeWidth\": 1}}, {\"data\": {\"url\": \"https://vega.github.io/vega-datasets/data/world-110m.json\", \"format\": {\"feature\": \"countries\", \"type\": \"topojson\"}}, \"mark\": {\"type\": \"geoshape\", \"fill\": \"#2a1d0c\", \"stroke\": \"#706545\", \"strokeWidth\": 0.5}}], \"height\": 225, \"projection\": {\"type\": \"transverseMercator\"}, \"title\": \"transverseMercator\", \"width\": 225}, {\"layer\": [{\"data\": {\"sphere\": true}, \"mark\": {\"type\": \"geoshape\", \"fill\": \"#e6f3ff\"}}, {\"data\": {\"graticule\": true}, \"mark\": {\"type\": \"geoshape\", \"stroke\": \"#ffffff\", \"strokeWidth\": 1}}, {\"data\": {\"url\": \"https://vega.github.io/vega-datasets/data/world-110m.json\", \"format\": {\"feature\": \"countries\", \"type\": \"topojson\"}}, \"mark\": {\"type\": \"geoshape\", \"fill\": \"#2a1d0c\", \"stroke\": \"#706545\", \"strokeWidth\": 0.5}}], \"height\": 225, \"projection\": {\"type\": \"naturalEarth1\"}, \"title\": \"naturalEarth1\", \"width\": 225}], \"spacing\": 10, \"$schema\": \"https://vega.github.io/schema/vega-lite/v4.0.2.json\"}, {\"mode\": \"vega-lite\"});\n</script>",
      "text/plain": "alt.HConcatChart(...)"
     },
     "metadata": {},
     "execution_count": 25
    }
   ],
   "source": [
    "minimap = map.properties(width=225, height=225)\n",
    "alt.hconcat(\n",
    "    minimap.project(type='equirectangular').properties(title='equirectangular'),\n",
    "    minimap.project(type='mercator').properties(title='mercator'),\n",
    "    minimap.project(type='transverseMercator').properties(title='transverseMercator'),\n",
    "    minimap.project(type='naturalEarth1').properties(title='naturalEarth1')\n",
    ").properties(spacing=10).configure_view(stroke=None)"
   ]
  },
  {
   "cell_type": "markdown",
   "metadata": {},
   "source": [
    "- [Equirectangular](https://es.wikipedia.org/wiki/Proyecci%C3%B3n_cil%C3%ADndrica_equidistante) (`equirectangular`): Escala directamente los valores de las coordenadas `lat`, `lon`.\n",
    "- [Mercator](https://es.wikipedia.org/wiki/Proyecci%C3%B3n_de_Mercator) (`mercator`): Proyecta en un cilindro, usando directamente `lon`, pero sometiendo `lat` a una transformación no lineal. Las líneas rectas preservan los rodamientos constantes de la brújula ([rhumb lines](https://es.wikipedia.org/wiki/Loxodr%C3%B3mica)), haciendo que esta proyección se adapte bien a la navegación. Sin embargo, las líneas áreas en el extremo norte o sur pueden estar muy distorsionadas.\n",
    "- [Transverse Mercator](https://en.wikipedia.org/wiki/Transverse_Mercator_projection) (`transverseMercator`): Una proyección de mercator, pero con el cilindro delimitador girado a un eje transversal. Mientras que la proyección estándar de Mercator tiene la mayor precisión a lo largo del ecuador, la proyección transversal de Mercator es más precisa a lo largo del meridiano central.\n",
    "\n",
    "- [Natural Earth](https://en.wikipedia.org/wiki/Natural_Earth_projection) (`naturalEarth1`): Una proyección seudo cilíndrica diseñada para mostrar toda la Tierra en una sola vista.\n",
    "<br/><br/>"
   ]
  },
  {
   "cell_type": "markdown",
   "metadata": {},
   "source": [
    "[**Proyecciones cónicas**](https://en.wikipedia.org/wiki/Map_projection#Conic) Trazan la esfera en un cono, y luego desenrollan el cono en el plano. Las proyecciones cónicas están configuradas por dos _paralelos estándar_, que determinan dónde el cono intersecta el globo."
   ]
  },
  {
   "cell_type": "code",
   "execution_count": 26,
   "metadata": {},
   "outputs": [
    {
     "output_type": "execute_result",
     "data": {
      "text/html": "\n<div id=\"altair-viz-3b6f96c50b9a4272ab80f8755e8efab1\"></div>\n<script type=\"text/javascript\">\n  (function(spec, embedOpt){\n    const outputDiv = document.getElementById(\"altair-viz-3b6f96c50b9a4272ab80f8755e8efab1\");\n    const paths = {\n      \"vega\": \"https://cdn.jsdelivr.net/npm//vega@5?noext\",\n      \"vega-lib\": \"https://cdn.jsdelivr.net/npm//vega-lib?noext\",\n      \"vega-lite\": \"https://cdn.jsdelivr.net/npm//vega-lite@4.0.2?noext\",\n      \"vega-embed\": \"https://cdn.jsdelivr.net/npm//vega-embed@6?noext\",\n    };\n\n    function loadScript(lib) {\n      return new Promise(function(resolve, reject) {\n        var s = document.createElement('script');\n        s.src = paths[lib];\n        s.async = true;\n        s.onload = () => resolve(paths[lib]);\n        s.onerror = () => reject(`Error loading script: ${paths[lib]}`);\n        document.getElementsByTagName(\"head\")[0].appendChild(s);\n      });\n    }\n\n    function showError(err) {\n      outputDiv.innerHTML = `<div class=\"error\" style=\"color:red;\">${err}</div>`;\n      throw err;\n    }\n\n    function displayChart(vegaEmbed) {\n      vegaEmbed(outputDiv, spec, embedOpt)\n        .catch(err => showError(`Javascript Error: ${err.message}<br>This usually means there's a typo in your chart specification. See the javascript console for the full traceback.`));\n    }\n\n    if(typeof define === \"function\" && define.amd) {\n      requirejs.config({paths});\n      require([\"vega-embed\"], displayChart, err => showError(`Error loading script: ${err.message}`));\n    } else if (typeof vegaEmbed === \"function\") {\n      displayChart(vegaEmbed);\n    } else {\n      loadScript(\"vega\")\n        .then(() => loadScript(\"vega-lite\"))\n        .then(() => loadScript(\"vega-embed\"))\n        .catch(showError)\n        .then(() => displayChart(vegaEmbed));\n    }\n  })({\"config\": {\"view\": {\"continuousWidth\": 400, \"continuousHeight\": 300, \"stroke\": null}}, \"hconcat\": [{\"layer\": [{\"data\": {\"sphere\": true}, \"mark\": {\"type\": \"geoshape\", \"fill\": \"#e6f3ff\"}}, {\"data\": {\"graticule\": true}, \"mark\": {\"type\": \"geoshape\", \"stroke\": \"#ffffff\", \"strokeWidth\": 1}}, {\"data\": {\"url\": \"https://vega.github.io/vega-datasets/data/world-110m.json\", \"format\": {\"feature\": \"countries\", \"type\": \"topojson\"}}, \"mark\": {\"type\": \"geoshape\", \"fill\": \"#2a1d0c\", \"stroke\": \"#706545\", \"strokeWidth\": 0.5}}], \"height\": 130, \"projection\": {\"type\": \"conicEqualArea\"}, \"title\": \"conicEqualArea\", \"width\": 180}, {\"layer\": [{\"data\": {\"sphere\": true}, \"mark\": {\"type\": \"geoshape\", \"fill\": \"#e6f3ff\"}}, {\"data\": {\"graticule\": true}, \"mark\": {\"type\": \"geoshape\", \"stroke\": \"#ffffff\", \"strokeWidth\": 1}}, {\"data\": {\"url\": \"https://vega.github.io/vega-datasets/data/world-110m.json\", \"format\": {\"feature\": \"countries\", \"type\": \"topojson\"}}, \"mark\": {\"type\": \"geoshape\", \"fill\": \"#2a1d0c\", \"stroke\": \"#706545\", \"strokeWidth\": 0.5}}], \"height\": 130, \"projection\": {\"type\": \"conicEquidistant\"}, \"title\": \"conicEquidistant\", \"width\": 180}, {\"layer\": [{\"data\": {\"sphere\": true}, \"mark\": {\"type\": \"geoshape\", \"fill\": \"#e6f3ff\"}}, {\"data\": {\"graticule\": true}, \"mark\": {\"type\": \"geoshape\", \"stroke\": \"#ffffff\", \"strokeWidth\": 1}}, {\"data\": {\"url\": \"https://vega.github.io/vega-datasets/data/world-110m.json\", \"format\": {\"feature\": \"countries\", \"type\": \"topojson\"}}, \"mark\": {\"type\": \"geoshape\", \"fill\": \"#2a1d0c\", \"stroke\": \"#706545\", \"strokeWidth\": 0.5}}], \"height\": 130, \"projection\": {\"scale\": 35, \"translate\": [90, 65], \"type\": \"conicConformal\"}, \"title\": \"conicConformal\", \"width\": 180}, {\"layer\": [{\"data\": {\"sphere\": true}, \"mark\": {\"type\": \"geoshape\", \"fill\": \"#e6f3ff\"}}, {\"data\": {\"graticule\": true}, \"mark\": {\"type\": \"geoshape\", \"stroke\": \"#ffffff\", \"strokeWidth\": 1}}, {\"data\": {\"url\": \"https://vega.github.io/vega-datasets/data/world-110m.json\", \"format\": {\"feature\": \"countries\", \"type\": \"topojson\"}}, \"mark\": {\"type\": \"geoshape\", \"fill\": \"#2a1d0c\", \"stroke\": \"#706545\", \"strokeWidth\": 0.5}}], \"height\": 130, \"projection\": {\"type\": \"albers\"}, \"title\": \"albers\", \"width\": 180}, {\"layer\": [{\"data\": {\"sphere\": true}, \"mark\": {\"type\": \"geoshape\", \"fill\": \"#e6f3ff\"}}, {\"data\": {\"graticule\": true}, \"mark\": {\"type\": \"geoshape\", \"stroke\": \"#ffffff\", \"strokeWidth\": 1}}, {\"data\": {\"url\": \"https://vega.github.io/vega-datasets/data/world-110m.json\", \"format\": {\"feature\": \"countries\", \"type\": \"topojson\"}}, \"mark\": {\"type\": \"geoshape\", \"fill\": \"#2a1d0c\", \"stroke\": \"#706545\", \"strokeWidth\": 0.5}}], \"height\": 130, \"projection\": {\"type\": \"albersUsa\"}, \"title\": \"albersUsa\", \"width\": 180}], \"spacing\": 10, \"$schema\": \"https://vega.github.io/schema/vega-lite/v4.0.2.json\"}, {\"mode\": \"vega-lite\"});\n</script>",
      "text/plain": "alt.HConcatChart(...)"
     },
     "metadata": {},
     "execution_count": 26
    }
   ],
   "source": [
    "minimap = map.properties(width=180, height=130)\n",
    "alt.hconcat(\n",
    "    minimap.project(type='conicEqualArea').properties(title='conicEqualArea'),\n",
    "    minimap.project(type='conicEquidistant').properties(title='conicEquidistant'),\n",
    "    minimap.project(type='conicConformal', scale=35, translate=[90,65]).properties(title='conicConformal'),\n",
    "    minimap.project(type='albers').properties(title='albers'),\n",
    "    minimap.project(type='albersUsa').properties(title='albersUsa')\n",
    ").properties(spacing=10).configure_view(stroke=None)"
   ]
  },
  {
   "cell_type": "markdown",
   "metadata": {},
   "source": [
    "- [Conic Equal Area](https://es.wikipedia.org/wiki/Proyecci%C3%B3n_de_Albers) (`conicEqualArea`): La proyección cónica que conserva el área. La forma y la distancia no se conservan, pero son más o menos exactas dentro de los paralelos estándar.\n",
    "- [Conic Equidistant](https://en.wikipedia.org/wiki/Equidistant_conic_projection) (`conicEquidistant`): Proyección cónica que preserva la distancia a lo largo de los meridianos y paralelos estándar.\n",
    "- [Conic Conformal](https://en.wikipedia.org/wiki/Lambert_conformal_conic_projection) (`conicConformal`): Proyección cónica que conserva la forma (ángulos locales), pero no el área o la distancia.\n",
    "- [Albers](https://es.wikipedia.org/wiki/Proyecci%C3%B3n_de_Albers) (`albers`): Una variante de la proyección cónica de área igual con paralelos estándar optimizada para crear mapas de los Estados Unidos.\n",
    "- [Albers USA](https://es.wikipedia.org/wiki/Proyecci%C3%B3n_de_Albers) (`albersUsa`): Una proyección híbrida para los 50 estados de los Estados Unidos de América. Esta proyección une tres proyecciones de Albers con diferentes parámetros para los Estados Unidos continentales, Alaska y Hawai.\n",
    "<br/><br/>"
   ]
  },
  {
   "cell_type": "markdown",
   "metadata": {},
   "source": [
    "[**Proyecciones acimutales**](https://en.wikipedia.org/wiki/Map_projection#Azimuthal_%28projections_onto_a_plane%29) traza la esfera directamente en un plano."
   ]
  },
  {
   "cell_type": "code",
   "execution_count": 27,
   "metadata": {},
   "outputs": [
    {
     "output_type": "execute_result",
     "data": {
      "text/html": "\n<div id=\"altair-viz-a6a9462651e8475ebc86d69843665fc5\"></div>\n<script type=\"text/javascript\">\n  (function(spec, embedOpt){\n    const outputDiv = document.getElementById(\"altair-viz-a6a9462651e8475ebc86d69843665fc5\");\n    const paths = {\n      \"vega\": \"https://cdn.jsdelivr.net/npm//vega@5?noext\",\n      \"vega-lib\": \"https://cdn.jsdelivr.net/npm//vega-lib?noext\",\n      \"vega-lite\": \"https://cdn.jsdelivr.net/npm//vega-lite@4.0.2?noext\",\n      \"vega-embed\": \"https://cdn.jsdelivr.net/npm//vega-embed@6?noext\",\n    };\n\n    function loadScript(lib) {\n      return new Promise(function(resolve, reject) {\n        var s = document.createElement('script');\n        s.src = paths[lib];\n        s.async = true;\n        s.onload = () => resolve(paths[lib]);\n        s.onerror = () => reject(`Error loading script: ${paths[lib]}`);\n        document.getElementsByTagName(\"head\")[0].appendChild(s);\n      });\n    }\n\n    function showError(err) {\n      outputDiv.innerHTML = `<div class=\"error\" style=\"color:red;\">${err}</div>`;\n      throw err;\n    }\n\n    function displayChart(vegaEmbed) {\n      vegaEmbed(outputDiv, spec, embedOpt)\n        .catch(err => showError(`Javascript Error: ${err.message}<br>This usually means there's a typo in your chart specification. See the javascript console for the full traceback.`));\n    }\n\n    if(typeof define === \"function\" && define.amd) {\n      requirejs.config({paths});\n      require([\"vega-embed\"], displayChart, err => showError(`Error loading script: ${err.message}`));\n    } else if (typeof vegaEmbed === \"function\") {\n      displayChart(vegaEmbed);\n    } else {\n      loadScript(\"vega\")\n        .then(() => loadScript(\"vega-lite\"))\n        .then(() => loadScript(\"vega-embed\"))\n        .catch(showError)\n        .then(() => displayChart(vegaEmbed));\n    }\n  })({\"config\": {\"view\": {\"continuousWidth\": 400, \"continuousHeight\": 300, \"stroke\": null}}, \"hconcat\": [{\"layer\": [{\"data\": {\"sphere\": true}, \"mark\": {\"type\": \"geoshape\", \"fill\": \"#e6f3ff\"}}, {\"data\": {\"graticule\": true}, \"mark\": {\"type\": \"geoshape\", \"stroke\": \"#ffffff\", \"strokeWidth\": 1}}, {\"data\": {\"url\": \"https://vega.github.io/vega-datasets/data/world-110m.json\", \"format\": {\"feature\": \"countries\", \"type\": \"topojson\"}}, \"mark\": {\"type\": \"geoshape\", \"fill\": \"#2a1d0c\", \"stroke\": \"#706545\", \"strokeWidth\": 0.5}}], \"height\": 180, \"projection\": {\"type\": \"azimuthalEqualArea\"}, \"title\": \"azimuthalEqualArea\", \"width\": 180}, {\"layer\": [{\"data\": {\"sphere\": true}, \"mark\": {\"type\": \"geoshape\", \"fill\": \"#e6f3ff\"}}, {\"data\": {\"graticule\": true}, \"mark\": {\"type\": \"geoshape\", \"stroke\": \"#ffffff\", \"strokeWidth\": 1}}, {\"data\": {\"url\": \"https://vega.github.io/vega-datasets/data/world-110m.json\", \"format\": {\"feature\": \"countries\", \"type\": \"topojson\"}}, \"mark\": {\"type\": \"geoshape\", \"fill\": \"#2a1d0c\", \"stroke\": \"#706545\", \"strokeWidth\": 0.5}}], \"height\": 180, \"projection\": {\"type\": \"azimuthalEquidistant\"}, \"title\": \"azimuthalEquidistant\", \"width\": 180}, {\"layer\": [{\"data\": {\"sphere\": true}, \"mark\": {\"type\": \"geoshape\", \"fill\": \"#e6f3ff\"}}, {\"data\": {\"graticule\": true}, \"mark\": {\"type\": \"geoshape\", \"stroke\": \"#ffffff\", \"strokeWidth\": 1}}, {\"data\": {\"url\": \"https://vega.github.io/vega-datasets/data/world-110m.json\", \"format\": {\"feature\": \"countries\", \"type\": \"topojson\"}}, \"mark\": {\"type\": \"geoshape\", \"fill\": \"#2a1d0c\", \"stroke\": \"#706545\", \"strokeWidth\": 0.5}}], \"height\": 180, \"projection\": {\"type\": \"orthographic\"}, \"title\": \"orthographic\", \"width\": 180}, {\"layer\": [{\"data\": {\"sphere\": true}, \"mark\": {\"type\": \"geoshape\", \"fill\": \"#e6f3ff\"}}, {\"data\": {\"graticule\": true}, \"mark\": {\"type\": \"geoshape\", \"stroke\": \"#ffffff\", \"strokeWidth\": 1}}, {\"data\": {\"url\": \"https://vega.github.io/vega-datasets/data/world-110m.json\", \"format\": {\"feature\": \"countries\", \"type\": \"topojson\"}}, \"mark\": {\"type\": \"geoshape\", \"fill\": \"#2a1d0c\", \"stroke\": \"#706545\", \"strokeWidth\": 0.5}}], \"height\": 180, \"projection\": {\"type\": \"stereographic\"}, \"title\": \"stereographic\", \"width\": 180}, {\"layer\": [{\"data\": {\"sphere\": true}, \"mark\": {\"type\": \"geoshape\", \"fill\": \"#e6f3ff\"}}, {\"data\": {\"graticule\": true}, \"mark\": {\"type\": \"geoshape\", \"stroke\": \"#ffffff\", \"strokeWidth\": 1}}, {\"data\": {\"url\": \"https://vega.github.io/vega-datasets/data/world-110m.json\", \"format\": {\"feature\": \"countries\", \"type\": \"topojson\"}}, \"mark\": {\"type\": \"geoshape\", \"fill\": \"#2a1d0c\", \"stroke\": \"#706545\", \"strokeWidth\": 0.5}}], \"height\": 180, \"projection\": {\"type\": \"gnomonic\"}, \"title\": \"gnomonic\", \"width\": 180}], \"spacing\": 10, \"$schema\": \"https://vega.github.io/schema/vega-lite/v4.0.2.json\"}, {\"mode\": \"vega-lite\"});\n</script>",
      "text/plain": "alt.HConcatChart(...)"
     },
     "metadata": {},
     "execution_count": 27
    }
   ],
   "source": [
    "minimap = map.properties(width=180, height=180)\n",
    "alt.hconcat(\n",
    "    minimap.project(type='azimuthalEqualArea').properties(title='azimuthalEqualArea'),\n",
    "    minimap.project(type='azimuthalEquidistant').properties(title='azimuthalEquidistant'),\n",
    "    minimap.project(type='orthographic').properties(title='orthographic'),\n",
    "    minimap.project(type='stereographic').properties(title='stereographic'),\n",
    "    minimap.project(type='gnomonic').properties(title='gnomonic')\n",
    ").properties(spacing=10).configure_view(stroke=None)"
   ]
  },
  {
   "cell_type": "markdown",
   "metadata": {},
   "source": [
    "- [Azimuthal Equal Area](https://en.wikipedia.org/wiki/Lambert_azimuthal_equal-area_projection) (`azimuthalEqualArea`): Proyecta con precisión el área en todas las partes del globo, pero no conserva la forma (ángulos locales).\n",
    "- [Azimuthal Equidistant](https://en.wikipedia.org/wiki/Azimuthal_equidistant_projection) (`azimuthalEquidistant`): Preserva la distancia proporcional del centro de proyección a todos los demás puntos del globo.\n",
    "- [Orthographic](https://en.wikipedia.org/wiki/Orthographic_projection_in_cartography) (`orthographic`): Proyecta un hemisferio visible en un plano distante. Coincide aproximadamente con una vista de la Tierra desde el espacio exterior.\n",
    "- [Stereographic](https://en.wikipedia.org/wiki/Stereographic_projection) (`stereographic`): Conserva la forma, pero no el área o la distancia.\n",
    "- [Gnomonic](https://en.wikipedia.org/wiki/Gnomonic_projection) (`gnomonic`): Proyecta la superficie de la esfera directamente sobre un plano tangente.\n",
    "- [Great circles](https://en.wikipedia.org/wiki/Great_circle) alrededor de la Tierra se proyectan en líneas rectas, mostrando el camino más corto entre los puntos.\n",
    "<br/><br/>"
   ]
  },
  {
   "cell_type": "markdown",
   "metadata": {},
   "source": [
    "## Coda: Wrangling Geographic Data (Manipulando datos geográficos)"
   ]
  },
  {
   "cell_type": "markdown",
   "metadata": {},
   "source": [
    "Los ejemplos anteriores proceden sobre todo de la colección de conjuntos de datos vega, que incluye datos geométricos (TopoJSON) y tabulares (aeropuertos, tasas de desempleo). Un desafío común para comenzar con la visualización geográfica es la recolección de los datos necesarios para tu tarea. Abundan los proveedores de datos, incluyendo servicios como el [United States Geological Survey](https://www.usgs.gov/products/data-and-tools/data-and-tools-topics) y [U.S. Census Bureau](https://www.census.gov/geo/maps-data/data/tiger-cart-boundary.html).\n",
    "\n",
    "En muchos casos puede que tengas datos existentes con un componente geográfico, pero que requieren medidas o geometría adicionales. Para ayudarte a empezar, aquí tienes un flujo de trabajo:\n",
    "\n",
    "1. Visita [Natural Earth Data](http://www.naturalearthdata.com/downloads/) y navega para seleccionar datos para las regiones y resoluciones de interés, Descarga el respectivo archivo zip.\n",
    "2. Ve a [MapShaper](https://mapshaper.org/) y arrastra el archivo que descargaste adentro de la página. Revisa los datos y luego expórtalos a un archivo TopoJSON o GeoJSON.\n",
    "3. Carga los datos exportados para usarlos con Altair!\n",
    "\n",
    "Por supuesto, muchas otras herramientas &ndash; tanto de código libre como propietario &ndash; existen para trabajar con datos geográficos. Para más acerca de manipulación de datos y creación de mapas, mira la serie de tutoriales de Mike Bostock en [Command-Line Cartography](https://medium.com/@mbostock/command-line-cartography-part-1-897aa8f8ca2c)."
   ]
  },
  {
   "cell_type": "markdown",
   "metadata": {},
   "source": [
    "## Resumen\n",
    "En este momento, sólo hemos sumergido los dedos de los pies en las aguas de la cartografía. _(¿No esperabas que en un solo notebook impartieramos siglos de aprendizaje, o sí?_ Por ejemplo, dejamos intactos temas como [_cartogramas_](https://es.wikipedia.org/wiki/Cartograma) y la expresión de [_topografía_](https://es.wikipedia.org/wiki/Topograf%C3%ADa) &mdash; como en el libro iluminador de Imhof [_presentación de relieve cartográfico_](https://books.google.com/books?id=cVy1Ms43fFYC). Sin embargo, ahora debes estar bien equipado para crear una rica gama de geovisualizaciones. Para más información, el libro de MacEachren [_How Maps Work: Representation, Visualization, and Design_](https://books.google.com/books?id=xhAvN3B0CkUC) proporciona una valiosa visión general de la elaboración de mapas desde la perspectiva de la visualización de datos. "
   ]
  }
 ],
 "metadata": {
  "kernelspec": {
   "display_name": "Python 3",
   "language": "python",
   "name": "python3"
  },
  "language_info": {
   "codemirror_mode": {
    "name": "ipython",
    "version": 3
   },
   "file_extension": ".py",
   "mimetype": "text/x-python",
   "name": "python",
   "nbconvert_exporter": "python",
   "pygments_lexer": "ipython3",
   "version": "3.7.6-final"
  }
 },
 "nbformat": 4,
 "nbformat_minor": 4
}